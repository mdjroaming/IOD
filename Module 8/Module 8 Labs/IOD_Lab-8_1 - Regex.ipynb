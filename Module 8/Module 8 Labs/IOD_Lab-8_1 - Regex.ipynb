{
 "cells": [
  {
   "cell_type": "markdown",
   "metadata": {
    "id": "4hbPgptrMKl-"
   },
   "source": [
    "<div>\n",
    "<img src=https://www.institutedata.com/wp-content/uploads/2019/10/iod_h_tp_primary_c.svg width=\"300\">\n",
    "</div>"
   ]
  },
  {
   "cell_type": "markdown",
   "metadata": {
    "id": "5YFCF9NXMKmB"
   },
   "source": [
    "# Lab 8.1: Regular Expressions\n",
    "INSTRUCTIONS:\n",
    "- Read the guides and [hints](https://www.w3schools.com/python/python_regex.asp), then create the necessary analysis and code to find an answer and conclusion for the tasks below.\n",
    "- Complete `IOD Demo-8_2` first"
   ]
  },
  {
   "cell_type": "markdown",
   "metadata": {
    "id": "7HixmqcIMKmF"
   },
   "source": [
    "## 0. Import the necessary libraries\n",
    "\n",
    "Please use Python's built-in package called `re` to work with Regular Expressions."
   ]
  },
  {
   "cell_type": "code",
   "execution_count": 4,
   "metadata": {
    "id": "zvHNnovVcwu0"
   },
   "outputs": [],
   "source": [
    "# Import Libraries\n",
    "import re as re\n",
    "\n",
    "spaces = re.compile('\\\\s+')"
   ]
  },
  {
   "cell_type": "markdown",
   "metadata": {
    "id": "uyj2kaYeMKmI"
   },
   "source": [
    "## 1. Extract the `country code`, `area code` and `local phone number` from the following phone numbers\n",
    "**Hint**: Use groups with `()`. Assume they have the same form as shown."
   ]
  },
  {
   "cell_type": "code",
   "execution_count": 6,
   "metadata": {
    "id": "RyB5pa2iMKmL"
   },
   "outputs": [
    {
     "name": "stdout",
     "output_type": "stream",
     "text": [
      "[('61', '02', '5443 5434'), ('64', '09', '888 7766'), ('1', '655', '432 4345')]\n"
     ]
    }
   ],
   "source": [
    "phonenumbers = '''+61 (02) 5443 5434\n",
    "+64 (09) 888 7766\n",
    "+1 (655) 432 4345'''\n",
    "\n",
    "desired_output = [\n",
    "    ('61', '02', '5443 5434'),\n",
    "    ('64', '09', '888 7766'),\n",
    "    ('1', '655', '432 4345')\n",
    "]\n",
    "\n",
    "pattern = r'\\+(\\d{1,3}) \\((\\d{1,4})\\) (\\d+ \\d+)'  # insert code here\n",
    "\n",
    "output = re.findall(pattern, phonenumbers)\n",
    "\n",
    "assert output == desired_output, 'Not equal!'\n",
    "\n",
    "# Print the confirmed output\n",
    "print(output)"
   ]
  },
  {
   "cell_type": "markdown",
   "metadata": {
    "id": "x5VnTr9ZMKmV"
   },
   "source": [
    "## 2. Retrieve all the email addresses from the following text\n",
    "Assume each email address has the form `id@domain.suffix`."
   ]
  },
  {
   "cell_type": "code",
   "execution_count": 8,
   "metadata": {
    "id": "mL5R80-xMKmX"
   },
   "outputs": [
    {
     "name": "stdout",
     "output_type": "stream",
     "text": [
      "['p1@institutedata.com', 'p_2@domain2.com', 'p3@institutedata.com']\n"
     ]
    }
   ],
   "source": [
    "text = '''Feel free to contact my managers p1@institutedata.com, p_2@domain2.com and p3@institutedata.com\n",
    "for further details.'''\n",
    "\n",
    "desired_output = [\n",
    "    'p1@institutedata.com', 'p_2@domain2.com', 'p3@institutedata.com'\n",
    "]\n",
    "\n",
    "pattern = r'\\b[\\w._%+-]+@[\\w.-]+\\.[a-zA-Z]{2,}\\b' # insert code here\n",
    "\n",
    "output = re.findall(pattern, text)\n",
    "\n",
    "assert output == desired_output, 'Not equal!'\n",
    "\n",
    "# Print the confirmed output\n",
    "print(output)"
   ]
  },
  {
   "cell_type": "raw",
   "metadata": {},
   "source": [
    "###  \n",
    "The r prefix before the string denotes a raw string literal in Python.\n",
    "It tells Python to treat backslashes (\\) as literal characters and not as escape characters.\n",
    "This is useful in regex to avoid having to double backslashes.\n",
    "\n",
    "\\b:\n",
    "\n",
    "This is a word boundary anchor.\n",
    "It ensures that the pattern matches only at the start or end of a word.\n",
    "It’s useful to ensure that the email address is not part of a longer string of text.\n",
    "\n",
    "[\\w._%+-]+:\n",
    "\n",
    "This part matches the local part of the email address (the part before the @ symbol). Here’s what each component means:\n",
    "\\w matches any word character (alphanumeric and underscore, equivalent to [a-zA-Z0-9_]).\n",
    "._%+- matches any of the characters ., _, %, +, or -.\n",
    "+ means that the preceding character set can occur one or more times.\n",
    "\n",
    "@:\n",
    "\n",
    "This matches the literal @ character, which separates the local part of the email from the domain part.\n",
    "\n",
    "[\\w.-]+:\n",
    "\n",
    "This part matches the domain name (the part after the @ symbol but before the top-level domain). Here’s what each component means:\n",
    "\\w matches any word character (alphanumeric and underscore).\n",
    ".- matches any of the characters . or -.\n",
    "+ means that the preceding character set can occur one or more times.\n",
    "\n",
    "\\.[a-zA-Z]{2,}:\n",
    "\n",
    "This part matches the top-level domain (TLD) of the email address. Here’s what each component means:\n",
    "\\. matches the literal . character.\n",
    "[a-zA-Z]{2,} matches any alphabetic character\n",
    "(both lowercase and uppercase) and ensures that there are at least 2 characters (which is the minimum length for a TLD).\n",
    "\n",
    "\\b:\n",
    "\n",
    "This is another word boundary anchor, ensuring that the pattern ends at the boundary of a word.  ###"
   ]
  },
  {
   "cell_type": "markdown",
   "metadata": {
    "id": "Dhzd73XzMKmb"
   },
   "source": [
    "## 3. Split the following text into words\n",
    "Add delimiters into the pattern as needed."
   ]
  },
  {
   "cell_type": "code",
   "execution_count": 10,
   "metadata": {
    "id": "RCILkx5rMKmd"
   },
   "outputs": [
    {
     "name": "stdout",
     "output_type": "stream",
     "text": [
      "An unusual and poorly formatted piece of text\n"
     ]
    }
   ],
   "source": [
    "text = 'An, unusual   and; poorly formatted_piece of text'\n",
    "\n",
    "desired_output = 'An unusual and poorly formatted piece of text'\n",
    "\n",
    "pattern = r'[,\\s_;]+' # insert code here\n",
    "\n",
    "output = ' '.join(re.split(pattern, text))\n",
    "\n",
    "assert output == desired_output, 'Not equal!'\n",
    "\n",
    "# Print the confirmed output\n",
    "print(output)"
   ]
  },
  {
   "cell_type": "code",
   "execution_count": null,
   "metadata": {},
   "outputs": [],
   "source": []
  },
  {
   "cell_type": "raw",
   "metadata": {},
   "source": [
    "[,\\s_;]:\n",
    "\n",
    "This is a character class that matches any single character contained within the brackets.\n",
    "Each character or escape sequence inside the brackets is a possible match:\n",
    ", matches a comma.\n",
    "\\s matches any whitespace character, including spaces, tabs, and newlines.\n",
    "_ matches an underscore.\n",
    "; matches a semicolon.\n",
    "+:\n",
    "\n",
    "The + quantifier means that the preceding character class can occur one or more times.\n",
    "It ensures that the pattern matches sequences of one or more of the specified characters.\n",
    "\n",
    "\n",
    "re.split(pattern, text):\n",
    "\n",
    "re.split(): This function from the re module splits the input string text at every occurrence of the regex pattern pattern.\n",
    "pattern: The regular expression that determines where the splits should occur. It defines a set of characters or sequences to split on.\n",
    "text: The input string that will be split according to the regex pattern.\n",
    "The result of re.split(pattern, text) is a list of substrings where each substring is a segment of the original text that was separated by matches of the pattern.\n",
    "\n",
    "' '.join(...):\n",
    "\n",
    "' '.join(): This method takes a list of strings and concatenates them into a single string, with each element separated by a space ' '.\n",
    "The input to join is the list produced by re.split(), so it joins the substrings together, inserting a single space between each substring."
   ]
  },
  {
   "cell_type": "markdown",
   "metadata": {
    "id": "YJoo9KuFMKmh"
   },
   "source": [
    "## 4. Filter the following tweet so that it contains only the message\n",
    "In other words, remove URLs, RTs, CCs, hashtags, mentions, punctuations."
   ]
  },
  {
   "cell_type": "code",
   "execution_count": 12,
   "metadata": {
    "id": "02JgjxPTMKmi"
   },
   "outputs": [
    {
     "name": "stdout",
     "output_type": "stream",
     "text": [
      "Hello everyone! RT @MaskedAvenger: Did you see what I got up to earlier? cc: @Mom_Judy #stayfit\n",
      "Hello everyone!  @MaskedAvenger: Did you see what I got up to earlier? : @Mom_Judy #stayfit\n",
      "Hello everyone!  @MaskedAvenger: Did you see what I got up to earlier? : @Mom_Judy \n",
      "Hello everyone!   Did you see what I got up to earlier? :  \n",
      "Hello everyone   Did you see what I got up to earlier   \n",
      "Hello everyone Did you see what I got up to earlier\n",
      "Hello everyone Did you see what I got up to earlier\n"
     ]
    }
   ],
   "source": [
    "import string  # Make sure to import the string module\n",
    "\n",
    "tweet = 'Hello everyone! RT @MaskedAvenger: Did you see what I got up to earlier? http://abc.me/ref cc: @Mom_Judy #stayfit'\n",
    "\n",
    "desired_output = 'Hello everyone Did you see what I got up to earlier'\n",
    "\n",
    "def clean_tweet(tweet):\n",
    "    tweet = re.sub (r'http\\S+\\s*', '', tweet)  # remove URLs\n",
    "    print(tweet)\n",
    "    tweet = re.sub (r'RT|cc', '', tweet)  # remove RT and cc\n",
    "    print(tweet)\n",
    "    tweet = re.sub (r'#\\S+', '', tweet)  # remove hashtags\n",
    "    print(tweet)\n",
    "    tweet = re.sub (r'@\\S+', '', tweet)  # remove mentions\n",
    "    print(tweet)\n",
    "    tweet = re.sub(r'[!\"#\\$%&\\'()*+,-./:;<=>?@[\\]^_`{|}~]', '', tweet)  # remove punctuations\n",
    "    print(tweet)\n",
    "    tweet = re.sub(r'\\s+', ' ', tweet).strip()  # remove extra whitespace\n",
    "    return tweet\n",
    "\n",
    "output = clean_tweet(tweet)\n",
    "\n",
    "assert output == desired_output, 'Not equal!'\n",
    "\n",
    "# Print the confirmed output\n",
    "print(output)\n",
    "\n",
    "print(desired_output)"
   ]
  },
  {
   "cell_type": "markdown",
   "metadata": {
    "id": "RERADKgNFq9T"
   },
   "source": [
    "\n",
    "\n",
    "---\n",
    "\n",
    "\n",
    "\n",
    "---\n",
    "\n",
    "\n",
    "\n",
    "> > > > > > > > > © 2024 Institute of Data\n",
    "\n",
    "\n",
    "---\n",
    "\n",
    "\n",
    "\n",
    "---\n",
    "\n",
    "\n",
    "\n"
   ]
  }
 ],
 "metadata": {
  "colab": {
   "provenance": []
  },
  "kernelspec": {
   "display_name": "Python 3 (ipykernel)",
   "language": "python",
   "name": "python3"
  },
  "language_info": {
   "codemirror_mode": {
    "name": "ipython",
    "version": 3
   },
   "file_extension": ".py",
   "mimetype": "text/x-python",
   "name": "python",
   "nbconvert_exporter": "python",
   "pygments_lexer": "ipython3",
   "version": "3.12.4"
  }
 },
 "nbformat": 4,
 "nbformat_minor": 4
}
