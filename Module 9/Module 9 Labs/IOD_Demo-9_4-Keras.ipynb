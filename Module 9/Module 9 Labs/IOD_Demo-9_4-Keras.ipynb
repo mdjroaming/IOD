{
 "cells": [
  {
   "cell_type": "markdown",
   "metadata": {
    "id": "26KthBFty-QG"
   },
   "source": [
    "<div>\n",
    "<img src=https://www.institutedata.com/wp-content/uploads/2019/10/iod_h_tp_primary_c.svg width=\"300\">\n",
    "</div>"
   ]
  },
  {
   "cell_type": "markdown",
   "metadata": {
    "id": "W5NydEUxy-QJ"
   },
   "source": [
    "# Demo: NN with Keras\n",
    "INSTRUCTIONS:\n",
    "- Run the cells\n",
    "- Observe and understand the results"
   ]
  },
  {
   "cell_type": "markdown",
   "metadata": {
    "id": "9n746euhy-QN"
   },
   "source": [
    "## Written digits classification with Keras"
   ]
  },
  {
   "cell_type": "code",
   "execution_count": 1,
   "metadata": {
    "executionInfo": {
     "elapsed": 4479,
     "status": "ok",
     "timestamp": 1719210602781,
     "user": {
      "displayName": "Samuel Hambling",
      "userId": "16671324372129903179"
     },
     "user_tz": -720
    },
    "id": "hJgb9UC1y-QQ"
   },
   "outputs": [],
   "source": [
    "## Import libraries\n",
    "import numpy as np\n",
    "\n",
    "%matplotlib inline\n",
    "import matplotlib.pyplot as plt\n",
    "\n",
    "from sklearn.datasets import load_digits\n",
    "from sklearn.metrics import confusion_matrix\n",
    "from sklearn.model_selection import train_test_split\n",
    "\n",
    "# import keras\n",
    "from keras.models import Sequential\n",
    "from keras.layers import Dense\n",
    "from tensorflow.keras.utils import to_categorical"
   ]
  },
  {
   "cell_type": "code",
   "execution_count": 3,
   "metadata": {
    "executionInfo": {
     "elapsed": 24,
     "status": "ok",
     "timestamp": 1719210606594,
     "user": {
      "displayName": "Samuel Hambling",
      "userId": "16671324372129903179"
     },
     "user_tz": -720
    },
    "id": "0tQuyTyyy-QZ"
   },
   "outputs": [],
   "source": [
    "# The digits dataset\n",
    "digits = load_digits()"
   ]
  },
  {
   "cell_type": "code",
   "execution_count": 5,
   "metadata": {
    "colab": {
     "base_uri": "https://localhost:8080/"
    },
    "executionInfo": {
     "elapsed": 22,
     "status": "ok",
     "timestamp": 1719210606594,
     "user": {
      "displayName": "Samuel Hambling",
      "userId": "16671324372129903179"
     },
     "user_tz": -720
    },
    "id": "Zn2DiwPXy-Qd",
    "outputId": "a7c8ba57-b8e7-4992-bff1-7ae0600c3a2c"
   },
   "outputs": [
    {
     "name": "stdout",
     "output_type": "stream",
     "text": [
      ".. _digits_dataset:\n",
      "\n",
      "Optical recognition of handwritten digits dataset\n",
      "--------------------------------------------------\n",
      "\n",
      "**Data Set Characteristics:**\n",
      "\n",
      ":Number of Instances: 1797\n",
      ":Number of Attributes: 64\n",
      ":Attribute Information: 8x8 image of integer pixels in the range 0..16.\n",
      ":Missing Attribute Values: None\n",
      ":Creator: E. Alpaydin (alpaydin '@' boun.edu.tr)\n",
      ":Date: July; 1998\n",
      "\n",
      "This is a copy of the test set of the UCI ML hand-written digits datasets\n",
      "https://archive.ics.uci.edu/ml/datasets/Optical+Recognition+of+Handwritten+Digits\n",
      "\n",
      "The data set contains images of hand-written digits: 10 classes where\n",
      "each class refers to a digit.\n",
      "\n",
      "Preprocessing programs made available by NIST were used to extract\n",
      "normalized bitmaps of handwritten digits from a preprinted form. From a\n",
      "total of 43 people, 30 contributed to the training set and different 13\n",
      "to the test set. 32x32 bitmaps are divided into nonoverlapping blocks of\n",
      "4x4 and the number of on pixels are counted in each block. This generates\n",
      "an input matrix of 8x8 where each element is an integer in the range\n",
      "0..16. This reduces dimensionality and gives invariance to small\n",
      "distortions.\n",
      "\n",
      "For info on NIST preprocessing routines, see M. D. Garris, J. L. Blue, G.\n",
      "T. Candela, D. L. Dimmick, J. Geist, P. J. Grother, S. A. Janet, and C.\n",
      "L. Wilson, NIST Form-Based Handprint Recognition System, NISTIR 5469,\n",
      "1994.\n",
      "\n",
      ".. dropdown:: References\n",
      "\n",
      "  - C. Kaynak (1995) Methods of Combining Multiple Classifiers and Their\n",
      "    Applications to Handwritten Digit Recognition, MSc Thesis, Institute of\n",
      "    Graduate Studies in Science and Engineering, Bogazici University.\n",
      "  - E. Alpaydin, C. Kaynak (1998) Cascading Classifiers, Kybernetika.\n",
      "  - Ken Tang and Ponnuthurai N. Suganthan and Xi Yao and A. Kai Qin.\n",
      "    Linear dimensionalityreduction using relevance weighted LDA. School of\n",
      "    Electrical and Electronic Engineering Nanyang Technological University.\n",
      "    2005.\n",
      "  - Claudio Gentile. A New Approximate Maximal Margin Classification\n",
      "    Algorithm. NIPS. 2000.\n",
      "\n"
     ]
    }
   ],
   "source": [
    "print(digits.DESCR)"
   ]
  },
  {
   "cell_type": "code",
   "execution_count": 7,
   "metadata": {
    "colab": {
     "base_uri": "https://localhost:8080/",
     "height": 191
    },
    "executionInfo": {
     "elapsed": 415,
     "status": "ok",
     "timestamp": 1719211210079,
     "user": {
      "displayName": "Samuel Hambling",
      "userId": "16671324372129903179"
     },
     "user_tz": -720
    },
    "id": "oi5lOrDYy-Qh",
    "outputId": "5e099cad-0a8e-4ded-fb38-fbf04a51195a"
   },
   "outputs": [
    {
     "data": {
      "image/png": "[encoded data removed]",
      "text/plain": [
       "<Figure size 200x200 with 1 Axes>"
      ]
     },
     "metadata": {},
     "output_type": "display_data"
    }
   ],
   "source": [
    "id = np.random.randint(len(digits.target))\n",
    "id = 0\n",
    "plt.figure(figsize = (2, 2))\n",
    "plt.imshow(digits.images[id], cmap = 'gray')\n",
    "plt.xticks([])\n",
    "plt.yticks([])\n",
    "plt.show()"
   ]
  },
  {
   "cell_type": "code",
   "execution_count": 11,
   "metadata": {
    "executionInfo": {
     "elapsed": 14,
     "status": "ok",
     "timestamp": 1719210606595,
     "user": {
      "displayName": "Samuel Hambling",
      "userId": "16671324372129903179"
     },
     "user_tz": -720
    },
    "id": "k-Wu4bQJy-Ql"
   },
   "outputs": [],
   "source": [
    "# Prepare input data\n",
    "# input\n",
    "X = digits.data.astype(np.uint8)\n",
    "n_cols = X.shape[1]\n",
    "\n",
    "# output\n",
    "target = digits.target.astype(np.uint8)\n",
    "\n",
    "# Convert the target to categorical\n",
    "y = to_categorical(\n",
    "    target,\n",
    "    num_classes = len(set(target)))"
   ]
  },
  {
   "cell_type": "code",
   "execution_count": 13,
   "metadata": {
    "colab": {
     "base_uri": "https://localhost:8080/"
    },
    "executionInfo": {
     "elapsed": 3,
     "status": "ok",
     "timestamp": 1719210720940,
     "user": {
      "displayName": "Samuel Hambling",
      "userId": "16671324372129903179"
     },
     "user_tz": -720
    },
    "id": "LrNBwVxP8a6U",
    "outputId": "2da4f43b-d3a3-478f-fc63-4fef78a2420e"
   },
   "outputs": [
    {
     "data": {
      "text/plain": [
       "64"
      ]
     },
     "execution_count": 13,
     "metadata": {},
     "output_type": "execute_result"
    }
   ],
   "source": [
    "n_cols"
   ]
  },
  {
   "cell_type": "code",
   "execution_count": 15,
   "metadata": {
    "colab": {
     "base_uri": "https://localhost:8080/"
    },
    "executionInfo": {
     "elapsed": 14,
     "status": "ok",
     "timestamp": 1719210606595,
     "user": {
      "displayName": "Samuel Hambling",
      "userId": "16671324372129903179"
     },
     "user_tz": -720
    },
    "id": "AhDCJWnX9SKD",
    "outputId": "28ca21e6-453b-4a83-c5d0-a9ba81fddfc4"
   },
   "outputs": [
    {
     "data": {
      "text/plain": [
       "1797"
      ]
     },
     "execution_count": 15,
     "metadata": {},
     "output_type": "execute_result"
    }
   ],
   "source": [
    "len(X)"
   ]
  },
  {
   "cell_type": "code",
   "execution_count": 17,
   "metadata": {
    "colab": {
     "base_uri": "https://localhost:8080/"
    },
    "executionInfo": {
     "elapsed": 1260,
     "status": "ok",
     "timestamp": 1719210607845,
     "user": {
      "displayName": "Samuel Hambling",
      "userId": "16671324372129903179"
     },
     "user_tz": -720
    },
    "id": "KPnHB80I9lqg",
    "outputId": "8a295dea-815c-4498-902f-89de68c6a0c1"
   },
   "outputs": [
    {
     "data": {
      "text/plain": [
       "array([0, 1, 2, ..., 8, 9, 8], dtype=uint8)"
      ]
     },
     "execution_count": 17,
     "metadata": {},
     "output_type": "execute_result"
    }
   ],
   "source": [
    "target"
   ]
  },
  {
   "cell_type": "code",
   "execution_count": 19,
   "metadata": {
    "executionInfo": {
     "elapsed": 4,
     "status": "ok",
     "timestamp": 1719210607846,
     "user": {
      "displayName": "Samuel Hambling",
      "userId": "16671324372129903179"
     },
     "user_tz": -720
    },
    "id": "nBFFtaWcy-Qo"
   },
   "outputs": [],
   "source": [
    "X_train, X_test, y_train, y_test = train_test_split(\n",
    "    X, y,\n",
    "    test_size = 0.3,\n",
    "    random_state = 65)"
   ]
  },
  {
   "cell_type": "code",
   "execution_count": 21,
   "metadata": {
    "executionInfo": {
     "elapsed": 1171,
     "status": "ok",
     "timestamp": 1719210609014,
     "user": {
      "displayName": "Samuel Hambling",
      "userId": "16671324372129903179"
     },
     "user_tz": -720
    },
    "id": "aKrm9Miqy-Qq"
   },
   "outputs": [],
   "source": [
    "# Set up the model architecture\n",
    "model = Sequential()"
   ]
  },
  {
   "cell_type": "code",
   "execution_count": 23,
   "metadata": {
    "executionInfo": {
     "elapsed": 18,
     "status": "ok",
     "timestamp": 1719210609015,
     "user": {
      "displayName": "Samuel Hambling",
      "userId": "16671324372129903179"
     },
     "user_tz": -720
    },
    "id": "KC9AVmkFy-Qr"
   },
   "outputs": [
    {
     "name": "stderr",
     "output_type": "stream",
     "text": [
      "C:\\Users\\mdjro\\anaconda3\\envs\\Module9\\Lib\\site-packages\\keras\\src\\layers\\core\\dense.py:87: UserWarning: Do not pass an `input_shape`/`input_dim` argument to a layer. When using Sequential models, prefer using an `Input(shape)` object as the first layer in the model instead.\n",
      "  super().__init__(activity_regularizer=activity_regularizer, **kwargs)\n"
     ]
    }
   ],
   "source": [
    "# Add the first hidden layer\n",
    "model.add(Dense(100, activation = 'relu', input_shape = (n_cols, )))\n",
    "# Add the second hidden layer\n",
    "model.add(Dense(50, activation = 'relu'))\n",
    "\n",
    "# Add the output layer\n",
    "model.add(Dense(10, activation = 'softmax'))"
   ]
  },
  {
   "cell_type": "code",
   "execution_count": 25,
   "metadata": {
    "colab": {
     "base_uri": "https://localhost:8080/"
    },
    "executionInfo": {
     "elapsed": 15,
     "status": "ok",
     "timestamp": 1719210609015,
     "user": {
      "displayName": "Samuel Hambling",
      "userId": "16671324372129903179"
     },
     "user_tz": -720
    },
    "id": "05KgUEX8y-Qt",
    "outputId": "07d9358b-96cb-4c1c-f818-cc120bc99447"
   },
   "outputs": [
    {
     "data": {
      "text/html": [
       "<pre style=\"white-space:pre;overflow-x:auto;line-height:normal;font-family:Menlo,'DejaVu Sans Mono',consolas,'Courier New',monospace\"><span style=\"font-weight: bold\">Model: \"sequential\"</span>\n",
       "</pre>\n"
      ],
      "text/plain": [
       "\u001b[1mModel: \"sequential\"\u001b[0m\n"
      ]
     },
     "metadata": {},
     "output_type": "display_data"
    },
    {
     "data": {
      "text/html": [
       "<pre style=\"white-space:pre;overflow-x:auto;line-height:normal;font-family:Menlo,'DejaVu Sans Mono',consolas,'Courier New',monospace\">┏━━━━━━━━━━━━━━━━━━━━━━━━━━━━━━━━━┳━━━━━━━━━━━━━━━━━━━━━━━━┳━━━━━━━━━━━━━━━┓\n",
       "┃<span style=\"font-weight: bold\"> Layer (type)                    </span>┃<span style=\"font-weight: bold\"> Output Shape           </span>┃<span style=\"font-weight: bold\">       Param # </span>┃\n",
       "┡━━━━━━━━━━━━━━━━━━━━━━━━━━━━━━━━━╇━━━━━━━━━━━━━━━━━━━━━━━━╇━━━━━━━━━━━━━━━┩\n",
       "│ dense (<span style=\"color: #0087ff; text-decoration-color: #0087ff\">Dense</span>)                   │ (<span style=\"color: #00d7ff; text-decoration-color: #00d7ff\">None</span>, <span style=\"color: #00af00; text-decoration-color: #00af00\">100</span>)            │         <span style=\"color: #00af00; text-decoration-color: #00af00\">6,500</span> │\n",
       "├─────────────────────────────────┼────────────────────────┼───────────────┤\n",
       "│ dense_1 (<span style=\"color: #0087ff; text-decoration-color: #0087ff\">Dense</span>)                 │ (<span style=\"color: #00d7ff; text-decoration-color: #00d7ff\">None</span>, <span style=\"color: #00af00; text-decoration-color: #00af00\">50</span>)             │         <span style=\"color: #00af00; text-decoration-color: #00af00\">5,050</span> │\n",
       "├─────────────────────────────────┼────────────────────────┼───────────────┤\n",
       "│ dense_2 (<span style=\"color: #0087ff; text-decoration-color: #0087ff\">Dense</span>)                 │ (<span style=\"color: #00d7ff; text-decoration-color: #00d7ff\">None</span>, <span style=\"color: #00af00; text-decoration-color: #00af00\">10</span>)             │           <span style=\"color: #00af00; text-decoration-color: #00af00\">510</span> │\n",
       "└─────────────────────────────────┴────────────────────────┴───────────────┘\n",
       "</pre>\n"
      ],
      "text/plain": [
       "┏━━━━━━━━━━━━━━━━━━━━━━━━━━━━━━━━━┳━━━━━━━━━━━━━━━━━━━━━━━━┳━━━━━━━━━━━━━━━┓\n",
       "┃\u001b[1m \u001b[0m\u001b[1mLayer (type)                   \u001b[0m\u001b[1m \u001b[0m┃\u001b[1m \u001b[0m\u001b[1mOutput Shape          \u001b[0m\u001b[1m \u001b[0m┃\u001b[1m \u001b[0m\u001b[1m      Param #\u001b[0m\u001b[1m \u001b[0m┃\n",
       "┡━━━━━━━━━━━━━━━━━━━━━━━━━━━━━━━━━╇━━━━━━━━━━━━━━━━━━━━━━━━╇━━━━━━━━━━━━━━━┩\n",
       "│ dense (\u001b[38;5;33mDense\u001b[0m)                   │ (\u001b[38;5;45mNone\u001b[0m, \u001b[38;5;34m100\u001b[0m)            │         \u001b[38;5;34m6,500\u001b[0m │\n",
       "├─────────────────────────────────┼────────────────────────┼───────────────┤\n",
       "│ dense_1 (\u001b[38;5;33mDense\u001b[0m)                 │ (\u001b[38;5;45mNone\u001b[0m, \u001b[38;5;34m50\u001b[0m)             │         \u001b[38;5;34m5,050\u001b[0m │\n",
       "├─────────────────────────────────┼────────────────────────┼───────────────┤\n",
       "│ dense_2 (\u001b[38;5;33mDense\u001b[0m)                 │ (\u001b[38;5;45mNone\u001b[0m, \u001b[38;5;34m10\u001b[0m)             │           \u001b[38;5;34m510\u001b[0m │\n",
       "└─────────────────────────────────┴────────────────────────┴───────────────┘\n"
      ]
     },
     "metadata": {},
     "output_type": "display_data"
    },
    {
     "data": {
      "text/html": [
       "<pre style=\"white-space:pre;overflow-x:auto;line-height:normal;font-family:Menlo,'DejaVu Sans Mono',consolas,'Courier New',monospace\"><span style=\"font-weight: bold\"> Total params: </span><span style=\"color: #00af00; text-decoration-color: #00af00\">12,060</span> (47.11 KB)\n",
       "</pre>\n"
      ],
      "text/plain": [
       "\u001b[1m Total params: \u001b[0m\u001b[38;5;34m12,060\u001b[0m (47.11 KB)\n"
      ]
     },
     "metadata": {},
     "output_type": "display_data"
    },
    {
     "data": {
      "text/html": [
       "<pre style=\"white-space:pre;overflow-x:auto;line-height:normal;font-family:Menlo,'DejaVu Sans Mono',consolas,'Courier New',monospace\"><span style=\"font-weight: bold\"> Trainable params: </span><span style=\"color: #00af00; text-decoration-color: #00af00\">12,060</span> (47.11 KB)\n",
       "</pre>\n"
      ],
      "text/plain": [
       "\u001b[1m Trainable params: \u001b[0m\u001b[38;5;34m12,060\u001b[0m (47.11 KB)\n"
      ]
     },
     "metadata": {},
     "output_type": "display_data"
    },
    {
     "data": {
      "text/html": [
       "<pre style=\"white-space:pre;overflow-x:auto;line-height:normal;font-family:Menlo,'DejaVu Sans Mono',consolas,'Courier New',monospace\"><span style=\"font-weight: bold\"> Non-trainable params: </span><span style=\"color: #00af00; text-decoration-color: #00af00\">0</span> (0.00 B)\n",
       "</pre>\n"
      ],
      "text/plain": [
       "\u001b[1m Non-trainable params: \u001b[0m\u001b[38;5;34m0\u001b[0m (0.00 B)\n"
      ]
     },
     "metadata": {},
     "output_type": "display_data"
    },
    {
     "name": "stdout",
     "output_type": "stream",
     "text": [
      "None\n"
     ]
    }
   ],
   "source": [
    "print(model.summary())"
   ]
  },
  {
   "cell_type": "code",
   "execution_count": 27,
   "metadata": {
    "executionInfo": {
     "elapsed": 7,
     "status": "ok",
     "timestamp": 1719210609015,
     "user": {
      "displayName": "Samuel Hambling",
      "userId": "16671324372129903179"
     },
     "user_tz": -720
    },
    "id": "4eu9O-5Xy-Qv"
   },
   "outputs": [],
   "source": [
    "# Compile the model\n",
    "model.compile(\n",
    "    optimizer = 'sgd',\n",
    "    loss = 'categorical_crossentropy',\n",
    "    metrics = ['accuracy'])"
   ]
  },
  {
   "cell_type": "code",
   "execution_count": 29,
   "metadata": {
    "colab": {
     "base_uri": "https://localhost:8080/"
    },
    "executionInfo": {
     "elapsed": 393,
     "status": "ok",
     "timestamp": 1719211253593,
     "user": {
      "displayName": "Samuel Hambling",
      "userId": "16671324372129903179"
     },
     "user_tz": -720
    },
    "id": "OD0Qx5Cg9vFk",
    "outputId": "e11b9d17-a3ba-4ffd-96c2-a523b7ec914c"
   },
   "outputs": [
    {
     "data": {
      "text/plain": [
       "(1257, 10)"
      ]
     },
     "execution_count": 29,
     "metadata": {},
     "output_type": "execute_result"
    }
   ],
   "source": [
    "y_train.shape"
   ]
  },
  {
   "cell_type": "code",
   "execution_count": 31,
   "metadata": {
    "colab": {
     "base_uri": "https://localhost:8080/"
    },
    "executionInfo": {
     "elapsed": 434,
     "status": "ok",
     "timestamp": 1719211270801,
     "user": {
      "displayName": "Samuel Hambling",
      "userId": "16671324372129903179"
     },
     "user_tz": -720
    },
    "id": "cKdCGIqz-bxV",
    "outputId": "a0f5feae-b2d0-41f6-95dd-be0eb80ce8c8"
   },
   "outputs": [
    {
     "data": {
      "text/plain": [
       "47.1"
      ]
     },
     "execution_count": 31,
     "metadata": {},
     "output_type": "execute_result"
    }
   ],
   "source": [
    "942 / 20"
   ]
  },
  {
   "cell_type": "code",
   "execution_count": 33,
   "metadata": {
    "colab": {
     "base_uri": "https://localhost:8080/"
    },
    "executionInfo": {
     "elapsed": 83255,
     "status": "ok",
     "timestamp": 1719210692263,
     "user": {
      "displayName": "Samuel Hambling",
      "userId": "16671324372129903179"
     },
     "user_tz": -720
    },
    "id": "DSnIhJ0My-Qw",
    "outputId": "804e87a8-f043-4680-adf8-be9ac999d48f",
    "scrolled": true
   },
   "outputs": [
    {
     "name": "stdout",
     "output_type": "stream",
     "text": [
      "Epoch 1/100\n",
      "\u001b[1m48/48\u001b[0m \u001b[32m━━━━━━━━━━━━━━━━━━━━\u001b[0m\u001b[37m\u001b[0m \u001b[1m1s\u001b[0m 3ms/step - accuracy: 0.4693 - loss: 2.4243 - val_accuracy: 0.2984 - val_loss: 3.9861\n",
      "Epoch 2/100\n",
      "\u001b[1m48/48\u001b[0m \u001b[32m━━━━━━━━━━━━━━━━━━━━\u001b[0m\u001b[37m\u001b[0m \u001b[1m0s\u001b[0m 1ms/step - accuracy: 0.7932 - loss: 0.8627 - val_accuracy: 0.9079 - val_loss: 0.3584\n",
      "Epoch 3/100\n",
      "\u001b[1m48/48\u001b[0m \u001b[32m━━━━━━━━━━━━━━━━━━━━\u001b[0m\u001b[37m\u001b[0m \u001b[1m0s\u001b[0m 1ms/step - accuracy: 0.9665 - loss: 0.1598 - val_accuracy: 0.8762 - val_loss: 0.3705\n",
      "Epoch 4/100\n",
      "\u001b[1m48/48\u001b[0m \u001b[32m━━━━━━━━━━━━━━━━━━━━\u001b[0m\u001b[37m\u001b[0m \u001b[1m0s\u001b[0m 1ms/step - accuracy: 0.9621 - loss: 0.1290 - val_accuracy: 0.9238 - val_loss: 0.2523\n",
      "Epoch 5/100\n",
      "\u001b[1m48/48\u001b[0m \u001b[32m━━━━━━━━━━━━━━━━━━━━\u001b[0m\u001b[37m\u001b[0m \u001b[1m0s\u001b[0m 1ms/step - accuracy: 0.9712 - loss: 0.1174 - val_accuracy: 0.7524 - val_loss: 0.8817\n",
      "Epoch 6/100\n",
      "\u001b[1m48/48\u001b[0m \u001b[32m━━━━━━━━━━━━━━━━━━━━\u001b[0m\u001b[37m\u001b[0m \u001b[1m0s\u001b[0m 1ms/step - accuracy: 0.9279 - loss: 0.2646 - val_accuracy: 0.9397 - val_loss: 0.2604\n",
      "Epoch 7/100\n",
      "\u001b[1m48/48\u001b[0m \u001b[32m━━━━━━━━━━━━━━━━━━━━\u001b[0m\u001b[37m\u001b[0m \u001b[1m0s\u001b[0m 1ms/step - accuracy: 0.9836 - loss: 0.0816 - val_accuracy: 0.9397 - val_loss: 0.2048\n",
      "Epoch 8/100\n",
      "\u001b[1m48/48\u001b[0m \u001b[32m━━━━━━━━━━━━━━━━━━━━\u001b[0m\u001b[37m\u001b[0m \u001b[1m0s\u001b[0m 1ms/step - accuracy: 0.9885 - loss: 0.0628 - val_accuracy: 0.9397 - val_loss: 0.2127\n",
      "Epoch 9/100\n",
      "\u001b[1m48/48\u001b[0m \u001b[32m━━━━━━━━━━━━━━━━━━━━\u001b[0m\u001b[37m\u001b[0m \u001b[1m0s\u001b[0m 2ms/step - accuracy: 0.9946 - loss: 0.0507 - val_accuracy: 0.9333 - val_loss: 0.2340\n",
      "Epoch 10/100\n",
      "\u001b[1m48/48\u001b[0m \u001b[32m━━━━━━━━━━━━━━━━━━━━\u001b[0m\u001b[37m\u001b[0m \u001b[1m0s\u001b[0m 1ms/step - accuracy: 0.9941 - loss: 0.0417 - val_accuracy: 0.6571 - val_loss: 2.2898\n",
      "Epoch 11/100\n",
      "\u001b[1m48/48\u001b[0m \u001b[32m━━━━━━━━━━━━━━━━━━━━\u001b[0m\u001b[37m\u001b[0m \u001b[1m0s\u001b[0m 1ms/step - accuracy: 0.9388 - loss: 0.3013 - val_accuracy: 0.9492 - val_loss: 0.1967\n",
      "Epoch 12/100\n",
      "\u001b[1m48/48\u001b[0m \u001b[32m━━━━━━━━━━━━━━━━━━━━\u001b[0m\u001b[37m\u001b[0m \u001b[1m0s\u001b[0m 1ms/step - accuracy: 0.9913 - loss: 0.0400 - val_accuracy: 0.9397 - val_loss: 0.1924\n",
      "Epoch 13/100\n",
      "\u001b[1m48/48\u001b[0m \u001b[32m━━━━━━━━━━━━━━━━━━━━\u001b[0m\u001b[37m\u001b[0m \u001b[1m0s\u001b[0m 1ms/step - accuracy: 0.9963 - loss: 0.0275 - val_accuracy: 0.9429 - val_loss: 0.1850\n",
      "Epoch 14/100\n",
      "\u001b[1m48/48\u001b[0m \u001b[32m━━━━━━━━━━━━━━━━━━━━\u001b[0m\u001b[37m\u001b[0m \u001b[1m0s\u001b[0m 1ms/step - accuracy: 0.9960 - loss: 0.0332 - val_accuracy: 0.9524 - val_loss: 0.1866\n",
      "Epoch 15/100\n",
      "\u001b[1m48/48\u001b[0m \u001b[32m━━━━━━━━━━━━━━━━━━━━\u001b[0m\u001b[37m\u001b[0m \u001b[1m0s\u001b[0m 1ms/step - accuracy: 0.9954 - loss: 0.0313 - val_accuracy: 0.9524 - val_loss: 0.1773\n",
      "Epoch 16/100\n",
      "\u001b[1m48/48\u001b[0m \u001b[32m━━━━━━━━━━━━━━━━━━━━\u001b[0m\u001b[37m\u001b[0m \u001b[1m0s\u001b[0m 1ms/step - accuracy: 0.9986 - loss: 0.0189 - val_accuracy: 0.9492 - val_loss: 0.1827\n",
      "Epoch 17/100\n",
      "\u001b[1m48/48\u001b[0m \u001b[32m━━━━━━━━━━━━━━━━━━━━\u001b[0m\u001b[37m\u001b[0m \u001b[1m0s\u001b[0m 1ms/step - accuracy: 0.9980 - loss: 0.0198 - val_accuracy: 0.9460 - val_loss: 0.1876\n",
      "Epoch 18/100\n",
      "\u001b[1m48/48\u001b[0m \u001b[32m━━━━━━━━━━━━━━━━━━━━\u001b[0m\u001b[37m\u001b[0m \u001b[1m0s\u001b[0m 1ms/step - accuracy: 0.9996 - loss: 0.0159 - val_accuracy: 0.9492 - val_loss: 0.1796\n",
      "Epoch 19/100\n",
      "\u001b[1m48/48\u001b[0m \u001b[32m━━━━━━━━━━━━━━━━━━━━\u001b[0m\u001b[37m\u001b[0m \u001b[1m0s\u001b[0m 1ms/step - accuracy: 0.9989 - loss: 0.0155 - val_accuracy: 0.9492 - val_loss: 0.1772\n",
      "Epoch 20/100\n",
      "\u001b[1m48/48\u001b[0m \u001b[32m━━━━━━━━━━━━━━━━━━━━\u001b[0m\u001b[37m\u001b[0m \u001b[1m0s\u001b[0m 1ms/step - accuracy: 0.9997 - loss: 0.0141 - val_accuracy: 0.9429 - val_loss: 0.1908\n",
      "Epoch 21/100\n",
      "\u001b[1m48/48\u001b[0m \u001b[32m━━━━━━━━━━━━━━━━━━━━\u001b[0m\u001b[37m\u001b[0m \u001b[1m0s\u001b[0m 1ms/step - accuracy: 0.9995 - loss: 0.0114 - val_accuracy: 0.9492 - val_loss: 0.1778\n",
      "Epoch 22/100\n",
      "\u001b[1m48/48\u001b[0m \u001b[32m━━━━━━━━━━━━━━━━━━━━\u001b[0m\u001b[37m\u001b[0m \u001b[1m0s\u001b[0m 1ms/step - accuracy: 1.0000 - loss: 0.0133 - val_accuracy: 0.9556 - val_loss: 0.1804\n",
      "Epoch 23/100\n",
      "\u001b[1m48/48\u001b[0m \u001b[32m━━━━━━━━━━━━━━━━━━━━\u001b[0m\u001b[37m\u001b[0m \u001b[1m0s\u001b[0m 1ms/step - accuracy: 0.9995 - loss: 0.0114 - val_accuracy: 0.9492 - val_loss: 0.1792\n",
      "Epoch 24/100\n",
      "\u001b[1m48/48\u001b[0m \u001b[32m━━━━━━━━━━━━━━━━━━━━\u001b[0m\u001b[37m\u001b[0m \u001b[1m0s\u001b[0m 1ms/step - accuracy: 1.0000 - loss: 0.0121 - val_accuracy: 0.9524 - val_loss: 0.1806\n",
      "Epoch 25/100\n",
      "\u001b[1m48/48\u001b[0m \u001b[32m━━━━━━━━━━━━━━━━━━━━\u001b[0m\u001b[37m\u001b[0m \u001b[1m0s\u001b[0m 1ms/step - accuracy: 1.0000 - loss: 0.0111 - val_accuracy: 0.9492 - val_loss: 0.1818\n",
      "Epoch 26/100\n",
      "\u001b[1m48/48\u001b[0m \u001b[32m━━━━━━━━━━━━━━━━━━━━\u001b[0m\u001b[37m\u001b[0m \u001b[1m0s\u001b[0m 1ms/step - accuracy: 1.0000 - loss: 0.0103 - val_accuracy: 0.9524 - val_loss: 0.1748\n",
      "Epoch 27/100\n",
      "\u001b[1m48/48\u001b[0m \u001b[32m━━━━━━━━━━━━━━━━━━━━\u001b[0m\u001b[37m\u001b[0m \u001b[1m0s\u001b[0m 1ms/step - accuracy: 1.0000 - loss: 0.0101 - val_accuracy: 0.9492 - val_loss: 0.1880\n",
      "Epoch 28/100\n",
      "\u001b[1m48/48\u001b[0m \u001b[32m━━━━━━━━━━━━━━━━━━━━\u001b[0m\u001b[37m\u001b[0m \u001b[1m0s\u001b[0m 1ms/step - accuracy: 1.0000 - loss: 0.0095 - val_accuracy: 0.9556 - val_loss: 0.1744\n",
      "Epoch 29/100\n",
      "\u001b[1m48/48\u001b[0m \u001b[32m━━━━━━━━━━━━━━━━━━━━\u001b[0m\u001b[37m\u001b[0m \u001b[1m0s\u001b[0m 1ms/step - accuracy: 1.0000 - loss: 0.0092 - val_accuracy: 0.9556 - val_loss: 0.1739\n",
      "Epoch 30/100\n",
      "\u001b[1m48/48\u001b[0m \u001b[32m━━━━━━━━━━━━━━━━━━━━\u001b[0m\u001b[37m\u001b[0m \u001b[1m0s\u001b[0m 1ms/step - accuracy: 1.0000 - loss: 0.0081 - val_accuracy: 0.9587 - val_loss: 0.1754\n",
      "Epoch 31/100\n",
      "\u001b[1m48/48\u001b[0m \u001b[32m━━━━━━━━━━━━━━━━━━━━\u001b[0m\u001b[37m\u001b[0m \u001b[1m0s\u001b[0m 1ms/step - accuracy: 1.0000 - loss: 0.0074 - val_accuracy: 0.9492 - val_loss: 0.1820\n",
      "Epoch 32/100\n",
      "\u001b[1m48/48\u001b[0m \u001b[32m━━━━━━━━━━━━━━━━━━━━\u001b[0m\u001b[37m\u001b[0m \u001b[1m0s\u001b[0m 1ms/step - accuracy: 1.0000 - loss: 0.0075 - val_accuracy: 0.9556 - val_loss: 0.1767\n",
      "Epoch 33/100\n",
      "\u001b[1m48/48\u001b[0m \u001b[32m━━━━━━━━━━━━━━━━━━━━\u001b[0m\u001b[37m\u001b[0m \u001b[1m0s\u001b[0m 1ms/step - accuracy: 1.0000 - loss: 0.0063 - val_accuracy: 0.9460 - val_loss: 0.1999\n",
      "Epoch 34/100\n",
      "\u001b[1m48/48\u001b[0m \u001b[32m━━━━━━━━━━━━━━━━━━━━\u001b[0m\u001b[37m\u001b[0m \u001b[1m0s\u001b[0m 1ms/step - accuracy: 1.0000 - loss: 0.0081 - val_accuracy: 0.9587 - val_loss: 0.1763\n",
      "Epoch 35/100\n",
      "\u001b[1m48/48\u001b[0m \u001b[32m━━━━━━━━━━━━━━━━━━━━\u001b[0m\u001b[37m\u001b[0m \u001b[1m0s\u001b[0m 1ms/step - accuracy: 1.0000 - loss: 0.0066 - val_accuracy: 0.9587 - val_loss: 0.1740\n",
      "Epoch 36/100\n",
      "\u001b[1m48/48\u001b[0m \u001b[32m━━━━━━━━━━━━━━━━━━━━\u001b[0m\u001b[37m\u001b[0m \u001b[1m0s\u001b[0m 1ms/step - accuracy: 1.0000 - loss: 0.0077 - val_accuracy: 0.9556 - val_loss: 0.1758\n",
      "Epoch 37/100\n",
      "\u001b[1m48/48\u001b[0m \u001b[32m━━━━━━━━━━━━━━━━━━━━\u001b[0m\u001b[37m\u001b[0m \u001b[1m0s\u001b[0m 1ms/step - accuracy: 1.0000 - loss: 0.0069 - val_accuracy: 0.9556 - val_loss: 0.1804\n",
      "Epoch 38/100\n",
      "\u001b[1m48/48\u001b[0m \u001b[32m━━━━━━━━━━━━━━━━━━━━\u001b[0m\u001b[37m\u001b[0m \u001b[1m0s\u001b[0m 1ms/step - accuracy: 1.0000 - loss: 0.0058 - val_accuracy: 0.9587 - val_loss: 0.1739\n",
      "Epoch 39/100\n",
      "\u001b[1m48/48\u001b[0m \u001b[32m━━━━━━━━━━━━━━━━━━━━\u001b[0m\u001b[37m\u001b[0m \u001b[1m0s\u001b[0m 1ms/step - accuracy: 1.0000 - loss: 0.0063 - val_accuracy: 0.9587 - val_loss: 0.1789\n",
      "Epoch 40/100\n",
      "\u001b[1m48/48\u001b[0m \u001b[32m━━━━━━━━━━━━━━━━━━━━\u001b[0m\u001b[37m\u001b[0m \u001b[1m0s\u001b[0m 2ms/step - accuracy: 1.0000 - loss: 0.0048 - val_accuracy: 0.9587 - val_loss: 0.1738\n",
      "Epoch 41/100\n",
      "\u001b[1m48/48\u001b[0m \u001b[32m━━━━━━━━━━━━━━━━━━━━\u001b[0m\u001b[37m\u001b[0m \u001b[1m0s\u001b[0m 1ms/step - accuracy: 1.0000 - loss: 0.0051 - val_accuracy: 0.9587 - val_loss: 0.1777\n",
      "Epoch 42/100\n",
      "\u001b[1m48/48\u001b[0m \u001b[32m━━━━━━━━━━━━━━━━━━━━\u001b[0m\u001b[37m\u001b[0m \u001b[1m0s\u001b[0m 1ms/step - accuracy: 1.0000 - loss: 0.0059 - val_accuracy: 0.9556 - val_loss: 0.1807\n",
      "Epoch 43/100\n",
      "\u001b[1m48/48\u001b[0m \u001b[32m━━━━━━━━━━━━━━━━━━━━\u001b[0m\u001b[37m\u001b[0m \u001b[1m0s\u001b[0m 1ms/step - accuracy: 1.0000 - loss: 0.0045 - val_accuracy: 0.9619 - val_loss: 0.1740\n",
      "Epoch 44/100\n",
      "\u001b[1m48/48\u001b[0m \u001b[32m━━━━━━━━━━━━━━━━━━━━\u001b[0m\u001b[37m\u001b[0m \u001b[1m0s\u001b[0m 1ms/step - accuracy: 1.0000 - loss: 0.0060 - val_accuracy: 0.9587 - val_loss: 0.1757\n",
      "Epoch 45/100\n",
      "\u001b[1m48/48\u001b[0m \u001b[32m━━━━━━━━━━━━━━━━━━━━\u001b[0m\u001b[37m\u001b[0m \u001b[1m0s\u001b[0m 2ms/step - accuracy: 1.0000 - loss: 0.0046 - val_accuracy: 0.9587 - val_loss: 0.1784\n",
      "Epoch 46/100\n",
      "\u001b[1m48/48\u001b[0m \u001b[32m━━━━━━━━━━━━━━━━━━━━\u001b[0m\u001b[37m\u001b[0m \u001b[1m0s\u001b[0m 1ms/step - accuracy: 1.0000 - loss: 0.0043 - val_accuracy: 0.9587 - val_loss: 0.1753\n",
      "Epoch 47/100\n",
      "\u001b[1m48/48\u001b[0m \u001b[32m━━━━━━━━━━━━━━━━━━━━\u001b[0m\u001b[37m\u001b[0m \u001b[1m0s\u001b[0m 1ms/step - accuracy: 1.0000 - loss: 0.0046 - val_accuracy: 0.9619 - val_loss: 0.1707\n",
      "Epoch 48/100\n",
      "\u001b[1m48/48\u001b[0m \u001b[32m━━━━━━━━━━━━━━━━━━━━\u001b[0m\u001b[37m\u001b[0m \u001b[1m0s\u001b[0m 1ms/step - accuracy: 1.0000 - loss: 0.0044 - val_accuracy: 0.9619 - val_loss: 0.1692\n",
      "Epoch 49/100\n",
      "\u001b[1m48/48\u001b[0m \u001b[32m━━━━━━━━━━━━━━━━━━━━\u001b[0m\u001b[37m\u001b[0m \u001b[1m0s\u001b[0m 1ms/step - accuracy: 1.0000 - loss: 0.0053 - val_accuracy: 0.9619 - val_loss: 0.1739\n",
      "Epoch 50/100\n",
      "\u001b[1m48/48\u001b[0m \u001b[32m━━━━━━━━━━━━━━━━━━━━\u001b[0m\u001b[37m\u001b[0m \u001b[1m0s\u001b[0m 1ms/step - accuracy: 1.0000 - loss: 0.0048 - val_accuracy: 0.9619 - val_loss: 0.1738\n",
      "Epoch 51/100\n",
      "\u001b[1m48/48\u001b[0m \u001b[32m━━━━━━━━━━━━━━━━━━━━\u001b[0m\u001b[37m\u001b[0m \u001b[1m0s\u001b[0m 1ms/step - accuracy: 1.0000 - loss: 0.0045 - val_accuracy: 0.9619 - val_loss: 0.1770\n",
      "Epoch 52/100\n",
      "\u001b[1m48/48\u001b[0m \u001b[32m━━━━━━━━━━━━━━━━━━━━\u001b[0m\u001b[37m\u001b[0m \u001b[1m0s\u001b[0m 1ms/step - accuracy: 1.0000 - loss: 0.0039 - val_accuracy: 0.9587 - val_loss: 0.1766\n",
      "Epoch 53/100\n",
      "\u001b[1m48/48\u001b[0m \u001b[32m━━━━━━━━━━━━━━━━━━━━\u001b[0m\u001b[37m\u001b[0m \u001b[1m0s\u001b[0m 1ms/step - accuracy: 1.0000 - loss: 0.0041 - val_accuracy: 0.9651 - val_loss: 0.1708\n",
      "Epoch 54/100\n",
      "\u001b[1m48/48\u001b[0m \u001b[32m━━━━━━━━━━━━━━━━━━━━\u001b[0m\u001b[37m\u001b[0m \u001b[1m0s\u001b[0m 1ms/step - accuracy: 1.0000 - loss: 0.0038 - val_accuracy: 0.9587 - val_loss: 0.1775\n",
      "Epoch 55/100\n",
      "\u001b[1m48/48\u001b[0m \u001b[32m━━━━━━━━━━━━━━━━━━━━\u001b[0m\u001b[37m\u001b[0m \u001b[1m0s\u001b[0m 2ms/step - accuracy: 1.0000 - loss: 0.0034 - val_accuracy: 0.9619 - val_loss: 0.1723\n",
      "Epoch 56/100\n",
      "\u001b[1m48/48\u001b[0m \u001b[32m━━━━━━━━━━━━━━━━━━━━\u001b[0m\u001b[37m\u001b[0m \u001b[1m0s\u001b[0m 2ms/step - accuracy: 1.0000 - loss: 0.0034 - val_accuracy: 0.9587 - val_loss: 0.1790\n",
      "Epoch 57/100\n",
      "\u001b[1m48/48\u001b[0m \u001b[32m━━━━━━━━━━━━━━━━━━━━\u001b[0m\u001b[37m\u001b[0m \u001b[1m0s\u001b[0m 1ms/step - accuracy: 1.0000 - loss: 0.0038 - val_accuracy: 0.9587 - val_loss: 0.1748\n",
      "Epoch 58/100\n",
      "\u001b[1m48/48\u001b[0m \u001b[32m━━━━━━━━━━━━━━━━━━━━\u001b[0m\u001b[37m\u001b[0m \u001b[1m0s\u001b[0m 1ms/step - accuracy: 1.0000 - loss: 0.0033 - val_accuracy: 0.9651 - val_loss: 0.1724\n",
      "Epoch 59/100\n",
      "\u001b[1m48/48\u001b[0m \u001b[32m━━━━━━━━━━━━━━━━━━━━\u001b[0m\u001b[37m\u001b[0m \u001b[1m0s\u001b[0m 1ms/step - accuracy: 1.0000 - loss: 0.0038 - val_accuracy: 0.9587 - val_loss: 0.1766\n",
      "Epoch 60/100\n",
      "\u001b[1m48/48\u001b[0m \u001b[32m━━━━━━━━━━━━━━━━━━━━\u001b[0m\u001b[37m\u001b[0m \u001b[1m0s\u001b[0m 1ms/step - accuracy: 1.0000 - loss: 0.0033 - val_accuracy: 0.9619 - val_loss: 0.1746\n",
      "Epoch 61/100\n",
      "\u001b[1m48/48\u001b[0m \u001b[32m━━━━━━━━━━━━━━━━━━━━\u001b[0m\u001b[37m\u001b[0m \u001b[1m0s\u001b[0m 1ms/step - accuracy: 1.0000 - loss: 0.0040 - val_accuracy: 0.9651 - val_loss: 0.1746\n",
      "Epoch 62/100\n",
      "\u001b[1m48/48\u001b[0m \u001b[32m━━━━━━━━━━━━━━━━━━━━\u001b[0m\u001b[37m\u001b[0m \u001b[1m0s\u001b[0m 1ms/step - accuracy: 1.0000 - loss: 0.0035 - val_accuracy: 0.9651 - val_loss: 0.1714\n",
      "Epoch 63/100\n",
      "\u001b[1m48/48\u001b[0m \u001b[32m━━━━━━━━━━━━━━━━━━━━\u001b[0m\u001b[37m\u001b[0m \u001b[1m0s\u001b[0m 1ms/step - accuracy: 1.0000 - loss: 0.0031 - val_accuracy: 0.9619 - val_loss: 0.1761\n",
      "Epoch 64/100\n",
      "\u001b[1m48/48\u001b[0m \u001b[32m━━━━━━━━━━━━━━━━━━━━\u001b[0m\u001b[37m\u001b[0m \u001b[1m0s\u001b[0m 1ms/step - accuracy: 1.0000 - loss: 0.0027 - val_accuracy: 0.9651 - val_loss: 0.1738\n",
      "Epoch 65/100\n",
      "\u001b[1m48/48\u001b[0m \u001b[32m━━━━━━━━━━━━━━━━━━━━\u001b[0m\u001b[37m\u001b[0m \u001b[1m0s\u001b[0m 1ms/step - accuracy: 1.0000 - loss: 0.0033 - val_accuracy: 0.9651 - val_loss: 0.1724\n",
      "Epoch 66/100\n",
      "\u001b[1m48/48\u001b[0m \u001b[32m━━━━━━━━━━━━━━━━━━━━\u001b[0m\u001b[37m\u001b[0m \u001b[1m0s\u001b[0m 1ms/step - accuracy: 1.0000 - loss: 0.0031 - val_accuracy: 0.9651 - val_loss: 0.1709\n",
      "Epoch 67/100\n",
      "\u001b[1m48/48\u001b[0m \u001b[32m━━━━━━━━━━━━━━━━━━━━\u001b[0m\u001b[37m\u001b[0m \u001b[1m0s\u001b[0m 1ms/step - accuracy: 1.0000 - loss: 0.0031 - val_accuracy: 0.9651 - val_loss: 0.1714\n",
      "Epoch 68/100\n",
      "\u001b[1m48/48\u001b[0m \u001b[32m━━━━━━━━━━━━━━━━━━━━\u001b[0m\u001b[37m\u001b[0m \u001b[1m0s\u001b[0m 1ms/step - accuracy: 1.0000 - loss: 0.0033 - val_accuracy: 0.9651 - val_loss: 0.1687\n",
      "Epoch 69/100\n",
      "\u001b[1m48/48\u001b[0m \u001b[32m━━━━━━━━━━━━━━━━━━━━\u001b[0m\u001b[37m\u001b[0m \u001b[1m0s\u001b[0m 1ms/step - accuracy: 1.0000 - loss: 0.0027 - val_accuracy: 0.9651 - val_loss: 0.1689\n",
      "Epoch 70/100\n",
      "\u001b[1m48/48\u001b[0m \u001b[32m━━━━━━━━━━━━━━━━━━━━\u001b[0m\u001b[37m\u001b[0m \u001b[1m0s\u001b[0m 1ms/step - accuracy: 1.0000 - loss: 0.0033 - val_accuracy: 0.9651 - val_loss: 0.1724\n",
      "Epoch 71/100\n",
      "\u001b[1m48/48\u001b[0m \u001b[32m━━━━━━━━━━━━━━━━━━━━\u001b[0m\u001b[37m\u001b[0m \u001b[1m0s\u001b[0m 1ms/step - accuracy: 1.0000 - loss: 0.0030 - val_accuracy: 0.9651 - val_loss: 0.1739\n",
      "Epoch 72/100\n",
      "\u001b[1m48/48\u001b[0m \u001b[32m━━━━━━━━━━━━━━━━━━━━\u001b[0m\u001b[37m\u001b[0m \u001b[1m0s\u001b[0m 2ms/step - accuracy: 1.0000 - loss: 0.0026 - val_accuracy: 0.9619 - val_loss: 0.1761\n",
      "Epoch 73/100\n",
      "\u001b[1m48/48\u001b[0m \u001b[32m━━━━━━━━━━━━━━━━━━━━\u001b[0m\u001b[37m\u001b[0m \u001b[1m0s\u001b[0m 2ms/step - accuracy: 1.0000 - loss: 0.0028 - val_accuracy: 0.9651 - val_loss: 0.1726\n",
      "Epoch 74/100\n",
      "\u001b[1m48/48\u001b[0m \u001b[32m━━━━━━━━━━━━━━━━━━━━\u001b[0m\u001b[37m\u001b[0m \u001b[1m0s\u001b[0m 1ms/step - accuracy: 1.0000 - loss: 0.0025 - val_accuracy: 0.9651 - val_loss: 0.1747\n",
      "Epoch 75/100\n",
      "\u001b[1m48/48\u001b[0m \u001b[32m━━━━━━━━━━━━━━━━━━━━\u001b[0m\u001b[37m\u001b[0m \u001b[1m0s\u001b[0m 1ms/step - accuracy: 1.0000 - loss: 0.0028 - val_accuracy: 0.9651 - val_loss: 0.1719\n",
      "Epoch 76/100\n",
      "\u001b[1m48/48\u001b[0m \u001b[32m━━━━━━━━━━━━━━━━━━━━\u001b[0m\u001b[37m\u001b[0m \u001b[1m0s\u001b[0m 1ms/step - accuracy: 1.0000 - loss: 0.0024 - val_accuracy: 0.9651 - val_loss: 0.1664\n",
      "Epoch 77/100\n",
      "\u001b[1m48/48\u001b[0m \u001b[32m━━━━━━━━━━━━━━━━━━━━\u001b[0m\u001b[37m\u001b[0m \u001b[1m0s\u001b[0m 2ms/step - accuracy: 1.0000 - loss: 0.0027 - val_accuracy: 0.9651 - val_loss: 0.1743\n",
      "Epoch 78/100\n",
      "\u001b[1m48/48\u001b[0m \u001b[32m━━━━━━━━━━━━━━━━━━━━\u001b[0m\u001b[37m\u001b[0m \u001b[1m0s\u001b[0m 1ms/step - accuracy: 1.0000 - loss: 0.0027 - val_accuracy: 0.9651 - val_loss: 0.1728\n",
      "Epoch 79/100\n",
      "\u001b[1m48/48\u001b[0m \u001b[32m━━━━━━━━━━━━━━━━━━━━\u001b[0m\u001b[37m\u001b[0m \u001b[1m0s\u001b[0m 1ms/step - accuracy: 1.0000 - loss: 0.0028 - val_accuracy: 0.9683 - val_loss: 0.1684\n",
      "Epoch 80/100\n",
      "\u001b[1m48/48\u001b[0m \u001b[32m━━━━━━━━━━━━━━━━━━━━\u001b[0m\u001b[37m\u001b[0m \u001b[1m0s\u001b[0m 1ms/step - accuracy: 1.0000 - loss: 0.0024 - val_accuracy: 0.9587 - val_loss: 0.1768\n",
      "Epoch 81/100\n",
      "\u001b[1m48/48\u001b[0m \u001b[32m━━━━━━━━━━━━━━━━━━━━\u001b[0m\u001b[37m\u001b[0m \u001b[1m0s\u001b[0m 1ms/step - accuracy: 1.0000 - loss: 0.0027 - val_accuracy: 0.9683 - val_loss: 0.1716\n",
      "Epoch 82/100\n",
      "\u001b[1m48/48\u001b[0m \u001b[32m━━━━━━━━━━━━━━━━━━━━\u001b[0m\u001b[37m\u001b[0m \u001b[1m0s\u001b[0m 1ms/step - accuracy: 1.0000 - loss: 0.0024 - val_accuracy: 0.9683 - val_loss: 0.1683\n",
      "Epoch 83/100\n",
      "\u001b[1m48/48\u001b[0m \u001b[32m━━━━━━━━━━━━━━━━━━━━\u001b[0m\u001b[37m\u001b[0m \u001b[1m0s\u001b[0m 1ms/step - accuracy: 1.0000 - loss: 0.0025 - val_accuracy: 0.9651 - val_loss: 0.1718\n",
      "Epoch 84/100\n",
      "\u001b[1m48/48\u001b[0m \u001b[32m━━━━━━━━━━━━━━━━━━━━\u001b[0m\u001b[37m\u001b[0m \u001b[1m0s\u001b[0m 1ms/step - accuracy: 1.0000 - loss: 0.0023 - val_accuracy: 0.9651 - val_loss: 0.1716\n",
      "Epoch 85/100\n",
      "\u001b[1m48/48\u001b[0m \u001b[32m━━━━━━━━━━━━━━━━━━━━\u001b[0m\u001b[37m\u001b[0m \u001b[1m0s\u001b[0m 2ms/step - accuracy: 1.0000 - loss: 0.0023 - val_accuracy: 0.9683 - val_loss: 0.1696\n",
      "Epoch 86/100\n",
      "\u001b[1m48/48\u001b[0m \u001b[32m━━━━━━━━━━━━━━━━━━━━\u001b[0m\u001b[37m\u001b[0m \u001b[1m0s\u001b[0m 1ms/step - accuracy: 1.0000 - loss: 0.0022 - val_accuracy: 0.9651 - val_loss: 0.1730\n",
      "Epoch 87/100\n",
      "\u001b[1m48/48\u001b[0m \u001b[32m━━━━━━━━━━━━━━━━━━━━\u001b[0m\u001b[37m\u001b[0m \u001b[1m0s\u001b[0m 1ms/step - accuracy: 1.0000 - loss: 0.0025 - val_accuracy: 0.9651 - val_loss: 0.1722\n",
      "Epoch 88/100\n",
      "\u001b[1m48/48\u001b[0m \u001b[32m━━━━━━━━━━━━━━━━━━━━\u001b[0m\u001b[37m\u001b[0m \u001b[1m0s\u001b[0m 2ms/step - accuracy: 1.0000 - loss: 0.0023 - val_accuracy: 0.9651 - val_loss: 0.1725\n",
      "Epoch 89/100\n",
      "\u001b[1m48/48\u001b[0m \u001b[32m━━━━━━━━━━━━━━━━━━━━\u001b[0m\u001b[37m\u001b[0m \u001b[1m0s\u001b[0m 1ms/step - accuracy: 1.0000 - loss: 0.0019 - val_accuracy: 0.9651 - val_loss: 0.1726\n",
      "Epoch 90/100\n",
      "\u001b[1m48/48\u001b[0m \u001b[32m━━━━━━━━━━━━━━━━━━━━\u001b[0m\u001b[37m\u001b[0m \u001b[1m0s\u001b[0m 1ms/step - accuracy: 1.0000 - loss: 0.0023 - val_accuracy: 0.9651 - val_loss: 0.1727\n",
      "Epoch 91/100\n",
      "\u001b[1m48/48\u001b[0m \u001b[32m━━━━━━━━━━━━━━━━━━━━\u001b[0m\u001b[37m\u001b[0m \u001b[1m0s\u001b[0m 1ms/step - accuracy: 1.0000 - loss: 0.0020 - val_accuracy: 0.9683 - val_loss: 0.1712\n",
      "Epoch 92/100\n",
      "\u001b[1m48/48\u001b[0m \u001b[32m━━━━━━━━━━━━━━━━━━━━\u001b[0m\u001b[37m\u001b[0m \u001b[1m0s\u001b[0m 2ms/step - accuracy: 1.0000 - loss: 0.0018 - val_accuracy: 0.9683 - val_loss: 0.1701\n",
      "Epoch 93/100\n",
      "\u001b[1m48/48\u001b[0m \u001b[32m━━━━━━━━━━━━━━━━━━━━\u001b[0m\u001b[37m\u001b[0m \u001b[1m0s\u001b[0m 2ms/step - accuracy: 1.0000 - loss: 0.0021 - val_accuracy: 0.9651 - val_loss: 0.1722\n",
      "Epoch 94/100\n",
      "\u001b[1m48/48\u001b[0m \u001b[32m━━━━━━━━━━━━━━━━━━━━\u001b[0m\u001b[37m\u001b[0m \u001b[1m0s\u001b[0m 2ms/step - accuracy: 1.0000 - loss: 0.0021 - val_accuracy: 0.9683 - val_loss: 0.1694\n",
      "Epoch 95/100\n",
      "\u001b[1m48/48\u001b[0m \u001b[32m━━━━━━━━━━━━━━━━━━━━\u001b[0m\u001b[37m\u001b[0m \u001b[1m0s\u001b[0m 1ms/step - accuracy: 1.0000 - loss: 0.0024 - val_accuracy: 0.9619 - val_loss: 0.1825\n",
      "Epoch 96/100\n",
      "\u001b[1m48/48\u001b[0m \u001b[32m━━━━━━━━━━━━━━━━━━━━\u001b[0m\u001b[37m\u001b[0m \u001b[1m0s\u001b[0m 1ms/step - accuracy: 1.0000 - loss: 0.0020 - val_accuracy: 0.9683 - val_loss: 0.1729\n",
      "Epoch 97/100\n",
      "\u001b[1m48/48\u001b[0m \u001b[32m━━━━━━━━━━━━━━━━━━━━\u001b[0m\u001b[37m\u001b[0m \u001b[1m0s\u001b[0m 2ms/step - accuracy: 1.0000 - loss: 0.0020 - val_accuracy: 0.9683 - val_loss: 0.1712\n",
      "Epoch 98/100\n",
      "\u001b[1m48/48\u001b[0m \u001b[32m━━━━━━━━━━━━━━━━━━━━\u001b[0m\u001b[37m\u001b[0m \u001b[1m0s\u001b[0m 2ms/step - accuracy: 1.0000 - loss: 0.0020 - val_accuracy: 0.9683 - val_loss: 0.1724\n",
      "Epoch 99/100\n",
      "\u001b[1m48/48\u001b[0m \u001b[32m━━━━━━━━━━━━━━━━━━━━\u001b[0m\u001b[37m\u001b[0m \u001b[1m0s\u001b[0m 1ms/step - accuracy: 1.0000 - loss: 0.0019 - val_accuracy: 0.9651 - val_loss: 0.1741\n",
      "Epoch 100/100\n",
      "\u001b[1m48/48\u001b[0m \u001b[32m━━━━━━━━━━━━━━━━━━━━\u001b[0m\u001b[37m\u001b[0m \u001b[1m0s\u001b[0m 1ms/step - accuracy: 1.0000 - loss: 0.0016 - val_accuracy: 0.9683 - val_loss: 0.1716\n",
      "CPU times: total: 2.11 s\n",
      "Wall time: 9.64 s\n"
     ]
    }
   ],
   "source": [
    "%%time\n",
    "# Fit the model\n",
    "history = model.fit(\n",
    "    X_train,\n",
    "    y_train,\n",
    "    validation_split = 0.25,\n",
    "    batch_size = 20,\n",
    "    epochs = 100,\n",
    "    verbose = 1)"
   ]
  },
  {
   "cell_type": "code",
   "execution_count": 34,
   "metadata": {
    "colab": {
     "base_uri": "https://localhost:8080/"
    },
    "executionInfo": {
     "elapsed": 24,
     "status": "ok",
     "timestamp": 1719210692265,
     "user": {
      "displayName": "Samuel Hambling",
      "userId": "16671324372129903179"
     },
     "user_tz": -720
    },
    "id": "RM1gr2Vgygtb",
    "outputId": "f61fc408-0304-4f3c-e606-43f61d9e5910",
    "scrolled": true
   },
   "outputs": [
    {
     "data": {
      "text/plain": [
       "['__class__',\n",
       " '__delattr__',\n",
       " '__dict__',\n",
       " '__dir__',\n",
       " '__doc__',\n",
       " '__eq__',\n",
       " '__format__',\n",
       " '__ge__',\n",
       " '__getattribute__',\n",
       " '__getstate__',\n",
       " '__gt__',\n",
       " '__hash__',\n",
       " '__init__',\n",
       " '__init_subclass__',\n",
       " '__le__',\n",
       " '__lt__',\n",
       " '__module__',\n",
       " '__ne__',\n",
       " '__new__',\n",
       " '__reduce__',\n",
       " '__reduce_ex__',\n",
       " '__repr__',\n",
       " '__setattr__',\n",
       " '__sizeof__',\n",
       " '__str__',\n",
       " '__subclasshook__',\n",
       " '__weakref__',\n",
       " '_api_export_path',\n",
       " '_api_export_symbol_id',\n",
       " '_model',\n",
       " 'epoch',\n",
       " 'history',\n",
       " 'model',\n",
       " 'on_batch_begin',\n",
       " 'on_batch_end',\n",
       " 'on_epoch_begin',\n",
       " 'on_epoch_end',\n",
       " 'on_predict_batch_begin',\n",
       " 'on_predict_batch_end',\n",
       " 'on_predict_begin',\n",
       " 'on_predict_end',\n",
       " 'on_test_batch_begin',\n",
       " 'on_test_batch_end',\n",
       " 'on_test_begin',\n",
       " 'on_test_end',\n",
       " 'on_train_batch_begin',\n",
       " 'on_train_batch_end',\n",
       " 'on_train_begin',\n",
       " 'on_train_end',\n",
       " 'params',\n",
       " 'set_model',\n",
       " 'set_params']"
      ]
     },
     "execution_count": 34,
     "metadata": {},
     "output_type": "execute_result"
    }
   ],
   "source": [
    "dir(history)"
   ]
  },
  {
   "cell_type": "code",
   "execution_count": 37,
   "metadata": {
    "colab": {
     "base_uri": "https://localhost:8080/",
     "height": 120
    },
    "executionInfo": {
     "elapsed": 22,
     "status": "ok",
     "timestamp": 1719210692266,
     "user": {
      "displayName": "Samuel Hambling",
      "userId": "16671324372129903179"
     },
     "user_tz": -720
    },
    "id": "WxWcFTquzms5",
    "outputId": "d7c5cd95-20c0-4e29-e5e3-d4e331b49cc6"
   },
   "outputs": [
    {
     "data": {
      "text/plain": [
       "<bound method Callback.on_batch_begin of <keras.src.callbacks.history.History object at 0x000001C8177C5A30>>"
      ]
     },
     "execution_count": 37,
     "metadata": {},
     "output_type": "execute_result"
    }
   ],
   "source": [
    "history.on_batch_begin"
   ]
  },
  {
   "cell_type": "code",
   "execution_count": 39,
   "metadata": {
    "executionInfo": {
     "elapsed": 20,
     "status": "ok",
     "timestamp": 1719210692266,
     "user": {
      "displayName": "Samuel Hambling",
      "userId": "16671324372129903179"
     },
     "user_tz": -720
    },
    "id": "CQsFQY0fy-Qy"
   },
   "outputs": [],
   "source": [
    "#predictions = model.predict_classes(X_test)\n",
    "#predictions =  (model.predict(X_test) > 0.5).astype(\"int32\")"
   ]
  },
  {
   "cell_type": "code",
   "execution_count": 41,
   "metadata": {
    "colab": {
     "base_uri": "https://localhost:8080/"
    },
    "executionInfo": {
     "elapsed": 19,
     "status": "ok",
     "timestamp": 1719210692266,
     "user": {
      "displayName": "Samuel Hambling",
      "userId": "16671324372129903179"
     },
     "user_tz": -720
    },
    "id": "Rxv8cytvB5hk",
    "outputId": "c0c89b44-5a65-48c6-c3c5-b3f6a24a6811"
   },
   "outputs": [
    {
     "name": "stdout",
     "output_type": "stream",
     "text": [
      "\u001b[1m17/17\u001b[0m \u001b[32m━━━━━━━━━━━━━━━━━━━━\u001b[0m\u001b[37m\u001b[0m \u001b[1m0s\u001b[0m 3ms/step \n"
     ]
    }
   ],
   "source": [
    "predictions = np.argmax(model.predict(X_test), axis=-1)"
   ]
  },
  {
   "cell_type": "code",
   "execution_count": 43,
   "metadata": {
    "colab": {
     "base_uri": "https://localhost:8080/"
    },
    "executionInfo": {
     "elapsed": 396,
     "status": "ok",
     "timestamp": 1719211416445,
     "user": {
      "displayName": "Samuel Hambling",
      "userId": "16671324372129903179"
     },
     "user_tz": -720
    },
    "id": "F0SQ84H4_Ef1",
    "outputId": "98a5d833-02a0-430f-de09-dcaf47347715",
    "scrolled": true
   },
   "outputs": [
    {
     "data": {
      "text/plain": [
       "array([0, 7, 6, 9, 7, 5, 3, 0, 1, 3, 7, 7, 4, 3, 4, 1, 3, 8, 5, 3, 5, 3,\n",
       "       1, 2, 9, 6, 1, 6, 0, 1, 5, 4, 5, 0, 7, 9, 1, 1, 1, 6, 5, 9, 4, 1,\n",
       "       9, 4, 7, 7, 4, 3, 9, 4, 8, 3, 0, 9, 6, 8, 7, 2, 2, 5, 8, 7, 4, 3,\n",
       "       2, 1, 6, 9, 9, 4, 8, 1, 7, 2, 8, 6, 6, 7, 3, 0, 8, 3, 0, 1, 0, 2,\n",
       "       9, 4, 2, 3, 0, 1, 7, 7, 3, 9, 4, 5, 1, 2, 3, 8, 4, 2, 1, 2, 7, 2,\n",
       "       2, 3, 2, 5, 1, 4, 0, 8, 5, 5, 0, 1, 0, 8, 0, 9, 8, 1, 8, 1, 9, 5,\n",
       "       9, 1, 7, 5, 8, 9, 3, 6, 9, 7, 9, 5, 6, 2, 4, 3, 5, 3, 7, 4, 9, 4,\n",
       "       3, 4, 1, 6, 4, 2, 3, 1, 5, 6, 8, 5, 0, 1, 5, 0, 6, 9, 6, 4, 4, 5,\n",
       "       0, 0, 2, 6, 1, 6, 4, 1, 6, 7, 0, 9, 2, 8, 9, 0, 8, 5, 8, 9, 5, 9,\n",
       "       3, 2, 7, 6, 1, 9, 7, 5, 3, 0, 2, 0, 0, 5, 1, 9, 5, 6, 5, 5, 0, 8,\n",
       "       4, 4, 5, 7, 1, 9, 5, 7, 6, 5, 1, 1, 2, 0, 0, 0, 8, 1, 2, 2, 3, 4,\n",
       "       8, 7, 7, 6, 7, 5, 5, 5, 8, 6, 6, 8, 7, 6, 2, 6, 7, 6, 3, 2, 5, 5,\n",
       "       7, 7, 0, 5, 4, 6, 9, 5, 9, 2, 4, 6, 7, 5, 0, 4, 9, 6, 0, 8, 2, 7,\n",
       "       7, 8, 9, 3, 6, 8, 0, 7, 4, 6, 2, 9, 6, 1, 1, 1, 9, 3, 5, 8, 7, 1,\n",
       "       8, 2, 4, 3, 7, 5, 4, 3, 9, 7, 6, 8, 4, 8, 2, 8, 1, 0, 3, 4, 9, 7,\n",
       "       5, 6, 4, 6, 5, 1, 9, 6, 9, 0, 7, 2, 4, 6, 3, 1, 9, 6, 0, 3, 9, 8,\n",
       "       2, 8, 6, 7, 7, 5, 3, 9, 0, 5, 7, 7, 4, 3, 0, 6, 6, 2, 9, 5, 1, 4,\n",
       "       1, 8, 6, 2, 6, 2, 4, 8, 2, 2, 7, 8, 1, 8, 8, 5, 6, 9, 8, 6, 5, 1,\n",
       "       0, 0, 4, 6, 9, 4, 2, 5, 3, 5, 9, 0, 0, 8, 4, 4, 7, 3, 9, 1, 6, 5,\n",
       "       7, 9, 8, 1, 0, 9, 6, 8, 4, 7, 0, 6, 4, 7, 5, 2, 4, 5, 3, 8, 0, 6,\n",
       "       1, 0, 9, 1, 6, 7, 8, 4, 6, 9, 6, 3, 5, 3, 5, 0, 2, 5, 1, 6, 8, 2,\n",
       "       3, 0, 2, 7, 5, 5, 1, 3, 3, 2, 7, 1, 6, 0, 4, 8, 1, 0, 3, 3, 1, 0,\n",
       "       9, 4, 6, 1, 8, 4, 0, 4, 5, 6, 7, 4, 1, 8, 1, 2, 0, 3, 2, 3, 5, 6,\n",
       "       5, 0, 8, 4, 8, 9, 4, 5, 5, 9, 6, 0, 9, 3, 3, 5, 6, 3, 6, 1, 6, 2,\n",
       "       5, 3, 1, 0, 6, 7, 2, 4, 1, 6, 0, 2], dtype=int64)"
      ]
     },
     "execution_count": 43,
     "metadata": {},
     "output_type": "execute_result"
    }
   ],
   "source": [
    "predictions"
   ]
  },
  {
   "cell_type": "code",
   "execution_count": 45,
   "metadata": {
    "colab": {
     "base_uri": "https://localhost:8080/"
    },
    "executionInfo": {
     "elapsed": 16,
     "status": "ok",
     "timestamp": 1719210692266,
     "user": {
      "displayName": "Samuel Hambling",
      "userId": "16671324372129903179"
     },
     "user_tz": -720
    },
    "id": "7XbWCdmmy-Q0",
    "outputId": "d9f4d64d-dd64-4b9c-8777-25056c8b59d0",
    "scrolled": true
   },
   "outputs": [
    {
     "name": "stdout",
     "output_type": "stream",
     "text": [
      "\u001b[1m2/2\u001b[0m \u001b[32m━━━━━━━━━━━━━━━━━━━━\u001b[0m\u001b[37m\u001b[0m \u001b[1m0s\u001b[0m 4ms/step - accuracy: 0.9705 - loss: 0.0953 \n",
      "\n",
      "Test loss: 0.102933, Test accuracy: 0.968518\n"
     ]
    }
   ],
   "source": [
    "score = model.evaluate(X_test, y_test, batch_size = 315)\n",
    "print('\\nTest loss: %.6f, Test accuracy: %.6f' % tuple(score))"
   ]
  },
  {
   "cell_type": "code",
   "execution_count": 47,
   "metadata": {
    "executionInfo": {
     "elapsed": 14,
     "status": "ok",
     "timestamp": 1719210692267,
     "user": {
      "displayName": "Samuel Hambling",
      "userId": "16671324372129903179"
     },
     "user_tz": -720
    },
    "id": "YAEoxWaNy-Q2"
   },
   "outputs": [],
   "source": [
    "def print_cm(cm):\n",
    "    #cm : confusion matrix\n",
    "    c = '%%%dd ' % len('%d' % cm.max())\n",
    "    s = ' | '\n",
    "    s += ''.join([c % i for i in range(len(cm[0]))])\n",
    "    print(s)\n",
    "    print('-' * len(s))\n",
    "    for i, r in enumerate(cm):\n",
    "        s = '%d| ' % i\n",
    "        s += c * len(r)\n",
    "        print(s % tuple(r))"
   ]
  },
  {
   "cell_type": "code",
   "execution_count": 49,
   "metadata": {
    "colab": {
     "base_uri": "https://localhost:8080/"
    },
    "executionInfo": {
     "elapsed": 14,
     "status": "ok",
     "timestamp": 1719210692267,
     "user": {
      "displayName": "Samuel Hambling",
      "userId": "16671324372129903179"
     },
     "user_tz": -720
    },
    "id": "5a00OEH5y-Q4",
    "outputId": "aa7e01de-ac23-4a18-fd9e-98522b5ff151",
    "scrolled": true
   },
   "outputs": [
    {
     "name": "stdout",
     "output_type": "stream",
     "text": [
      " |  0  1  2  3  4  5  6  7  8  9 \n",
      "---------------------------------\n",
      "0| 54  0  0  0  0  0  1  0  0  0 \n",
      "1|  0 53  0  0  0  0  1  0  1  0 \n",
      "2|  0  2 47  0  0  0  0  0  0  0 \n",
      "3|  0  0  0 49  0  2  0  0  1  0 \n",
      "4|  0  0  0  0 53  0  2  0  0  0 \n",
      "5|  0  0  0  0  0 60  0  0  0  0 \n",
      "6|  0  0  0  0  0  0 60  0  1  0 \n",
      "7|  0  0  0  0  0  0  0 51  0  1 \n",
      "8|  0  1  0  0  0  0  0  1 46  1 \n",
      "9|  0  1  0  0  0  1  0  0  0 50 \n"
     ]
    }
   ],
   "source": [
    "y_test_target = np.array([x.argmax() for x in y_test])\n",
    "cm = confusion_matrix(y_test_target, predictions)\n",
    "print_cm(cm)"
   ]
  },
  {
   "cell_type": "code",
   "execution_count": 51,
   "metadata": {
    "colab": {
     "base_uri": "https://localhost:8080/"
    },
    "executionInfo": {
     "elapsed": 13,
     "status": "ok",
     "timestamp": 1719210692267,
     "user": {
      "displayName": "Samuel Hambling",
      "userId": "16671324372129903179"
     },
     "user_tz": -720
    },
    "id": "1pWSk8irBNRW",
    "outputId": "c8c37117-bc31-430c-f914-e7f22f120593",
    "scrolled": true
   },
   "outputs": [
    {
     "data": {
      "text/plain": [
       "[1.2629156112670898,\n",
       " 0.4498264193534851,\n",
       " 0.17903339862823486,\n",
       " 0.13201940059661865,\n",
       " 0.10736681520938873,\n",
       " 0.12586946785449982,\n",
       " 0.06994710117578506,\n",
       " 0.05953560769557953,\n",
       " 0.04923569783568382,\n",
       " 0.04472404345870018,\n",
       " 0.11964956670999527,\n",
       " 0.03643640875816345,\n",
       " 0.03121805004775524,\n",
       " 0.027242381125688553,\n",
       " 0.024650022387504578,\n",
       " 0.021173229441046715,\n",
       " 0.020028527826070786,\n",
       " 0.017887704074382782,\n",
       " 0.017510104924440384,\n",
       " 0.015140333212912083,\n",
       " 0.014363804832100868,\n",
       " 0.013174251653254032,\n",
       " 0.012175366282463074,\n",
       " 0.011682313866913319,\n",
       " 0.010620968416333199,\n",
       " 0.010325214825570583,\n",
       " 0.009453259408473969,\n",
       " 0.008793814107775688,\n",
       " 0.009043017402291298,\n",
       " 0.008458048105239868,\n",
       " 0.008012142032384872,\n",
       " 0.007650358602404594,\n",
       " 0.0074301911517977715,\n",
       " 0.007414510939270258,\n",
       " 0.00691623892635107,\n",
       " 0.006488124839961529,\n",
       " 0.006249949801713228,\n",
       " 0.006312344688922167,\n",
       " 0.006000788416713476,\n",
       " 0.00578883895650506,\n",
       " 0.00555890379473567,\n",
       " 0.005276315379887819,\n",
       " 0.005314831156283617,\n",
       " 0.005064407363533974,\n",
       " 0.00499754399061203,\n",
       " 0.004884636029601097,\n",
       " 0.004747651517391205,\n",
       " 0.004569660406559706,\n",
       " 0.0045055001974105835,\n",
       " 0.004374334122985601,\n",
       " 0.004254406318068504,\n",
       " 0.004259468987584114,\n",
       " 0.004049075301736593,\n",
       " 0.003995006904006004,\n",
       " 0.00390856945887208,\n",
       " 0.0038144802674651146,\n",
       " 0.003771788440644741,\n",
       " 0.0036760305520147085,\n",
       " 0.003582536708563566,\n",
       " 0.003502835053950548,\n",
       " 0.0035275958944112062,\n",
       " 0.003411792917177081,\n",
       " 0.0033007999882102013,\n",
       " 0.003239389043301344,\n",
       " 0.0031883171759545803,\n",
       " 0.003091426333412528,\n",
       " 0.0030592845287173986,\n",
       " 0.0029946162831038237,\n",
       " 0.0029554544016718864,\n",
       " 0.003033664543181658,\n",
       " 0.0028758812695741653,\n",
       " 0.0028293668292462826,\n",
       " 0.0027746243868023157,\n",
       " 0.0027370909228920937,\n",
       " 0.002676796866580844,\n",
       " 0.002628995105624199,\n",
       " 0.0026725083589553833,\n",
       " 0.002544137416407466,\n",
       " 0.0025168154388666153,\n",
       " 0.002479394432157278,\n",
       " 0.0024691771250218153,\n",
       " 0.0023972545750439167,\n",
       " 0.0023643330205231905,\n",
       " 0.0023363165091723204,\n",
       " 0.002316501457244158,\n",
       " 0.002262994647026062,\n",
       " 0.0022382435854524374,\n",
       " 0.0022210772149264812,\n",
       " 0.0021867903415113688,\n",
       " 0.0021620001643896103,\n",
       " 0.0021135469432920218,\n",
       " 0.0020774411968886852,\n",
       " 0.0020752158015966415,\n",
       " 0.002046907087787986,\n",
       " 0.002014891244471073,\n",
       " 0.0020521313417702913,\n",
       " 0.0019614892080426216,\n",
       " 0.0019584568217396736,\n",
       " 0.001930583850480616,\n",
       " 0.00190895632840693]"
      ]
     },
     "execution_count": 51,
     "metadata": {},
     "output_type": "execute_result"
    }
   ],
   "source": [
    "history.history['loss']"
   ]
  },
  {
   "cell_type": "code",
   "execution_count": 53,
   "metadata": {
    "colab": {
     "base_uri": "https://localhost:8080/",
     "height": 358
    },
    "executionInfo": {
     "elapsed": 997,
     "status": "ok",
     "timestamp": 1719210693253,
     "user": {
      "displayName": "Samuel Hambling",
      "userId": "16671324372129903179"
     },
     "user_tz": -720
    },
    "id": "UhiEYNVqy-Q6",
    "outputId": "246f4a5e-13ab-478a-db3d-c864acb4eca0"
   },
   "outputs": [
    {
     "data": {
      "image/png": "[encoded data removed]",
      "text/plain": [
       "<Figure size 1800x600 with 2 Axes>"
      ]
     },
     "metadata": {},
     "output_type": "display_data"
    }
   ],
   "source": [
    "fig, ax = plt.subplots(1, 2, figsize = (18, 6))\n",
    "fig.subplots_adjust(left = 0.02, right = 0.98, wspace = 0.2)\n",
    "\n",
    "plt.rcParams.update({'font.size': 18})\n",
    "\n",
    "# Plot training & validation accuracy values\n",
    "ax[0].plot(history.history['accuracy'], label = 'Training')\n",
    "ax[0].plot(history.history['val_accuracy'], label = 'Validation')\n",
    "ax[0].set_title('Model accuracy')\n",
    "ax[0].set_ylabel('Accuracy')\n",
    "ax[0].set_xlabel('Epoch')\n",
    "ax[0].legend()\n",
    "\n",
    "# Plot training & validation loss values\n",
    "ax[1].plot(history.history['loss'], label = 'Training')\n",
    "ax[1].plot(history.history['val_loss'], label = 'Validation')\n",
    "ax[1].set_title('Model loss')\n",
    "ax[1].set_ylabel('Loss')\n",
    "ax[1].set_xlabel('Epoch')\n",
    "ax[1].legend()\n",
    "\n",
    "plt.show()"
   ]
  },
  {
   "cell_type": "code",
   "execution_count": 55,
   "metadata": {
    "executionInfo": {
     "elapsed": 9,
     "status": "ok",
     "timestamp": 1719210693254,
     "user": {
      "displayName": "Samuel Hambling",
      "userId": "16671324372129903179"
     },
     "user_tz": -720
    },
    "id": "grQoh06wy-Q7"
   },
   "outputs": [],
   "source": [
    "def show_digit():\n",
    "    id = np.random.randint(len(predictions))\n",
    "    XTest = X_test[id].reshape(8, 8)\n",
    "    plt.figure(figsize = (2, 2))\n",
    "    plt.imshow(XTest, cmap = 'gray')\n",
    "    plt.title('Prediction: %d' % predictions[id])\n",
    "    plt.xticks([])\n",
    "    plt.yticks([])\n",
    "    plt.show()"
   ]
  },
  {
   "cell_type": "code",
   "execution_count": 57,
   "metadata": {
    "executionInfo": {
     "elapsed": 8,
     "status": "ok",
     "timestamp": 1719210693254,
     "user": {
      "displayName": "Samuel Hambling",
      "userId": "16671324372129903179"
     },
     "user_tz": -720
    },
    "id": "4A6G2LEPy-Q9"
   },
   "outputs": [],
   "source": [
    "def show_10_digits():\n",
    "    fig, ax = plt.subplots(2, 5, figsize = (8, 4))\n",
    "    fig.subplots_adjust(left = 0.02, right = 0.98, top = 0.8, wspace = 0.2, hspace = 0.3)\n",
    "    fig.suptitle('Ten Predictions', fontsize = 12, fontweight = 'bold')\n",
    "\n",
    "    plt.rcParams.update({'font.size': 10})\n",
    "\n",
    "    ids = np.random.randint(len(predictions), size = 10)\n",
    "    r = 0\n",
    "    c = 0\n",
    "    for id in ids:\n",
    "        XTest = X_test[id].reshape(8, 8)\n",
    "\n",
    "        # original image\n",
    "        ax[r, c].imshow(XTest, cmap = 'gray')\n",
    "        ax[r, c].set_title('Prediction: %d' % predictions[id])\n",
    "        ax[r, c].set_xticks([])\n",
    "        ax[r, c].set_yticks([])\n",
    "        c += 1\n",
    "        if c > 4:\n",
    "            r += 1\n",
    "            c = 0\n",
    "\n",
    "    plt.show()"
   ]
  },
  {
   "cell_type": "code",
   "execution_count": 59,
   "metadata": {
    "colab": {
     "base_uri": "https://localhost:8080/",
     "height": 222
    },
    "executionInfo": {
     "elapsed": 7,
     "status": "ok",
     "timestamp": 1719210693254,
     "user": {
      "displayName": "Samuel Hambling",
      "userId": "16671324372129903179"
     },
     "user_tz": -720
    },
    "id": "iG9wf-bTy-Q-",
    "outputId": "7733d5a2-97d6-47c5-b6c2-6f5fa2d2185b"
   },
   "outputs": [
    {
     "data": {
      "image/png": "[encoded data removed]",
      "text/plain": [
       "<Figure size 200x200 with 1 Axes>"
      ]
     },
     "metadata": {},
     "output_type": "display_data"
    }
   ],
   "source": [
    "# show one\n",
    "show_digit()"
   ]
  },
  {
   "cell_type": "code",
   "execution_count": 61,
   "metadata": {
    "colab": {
     "base_uri": "https://localhost:8080/",
     "height": 385
    },
    "executionInfo": {
     "elapsed": 664,
     "status": "ok",
     "timestamp": 1719210693912,
     "user": {
      "displayName": "Samuel Hambling",
      "userId": "16671324372129903179"
     },
     "user_tz": -720
    },
    "id": "Ue7Oo4Vxy-Q_",
    "outputId": "c045cfa4-f51f-4128-d55d-ab68faa5d59c",
    "scrolled": true
   },
   "outputs": [
    {
     "data": {
      "image/png": "[encoded data removed]",
      "text/plain": [
       "<Figure size 800x400 with 10 Axes>"
      ]
     },
     "metadata": {},
     "output_type": "display_data"
    }
   ],
   "source": [
    "# show ten\n",
    "show_10_digits()"
   ]
  },
  {
   "cell_type": "markdown",
   "metadata": {
    "id": "RERADKgNFq9T"
   },
   "source": [
    "\n",
    "\n",
    "---\n",
    "\n",
    "\n",
    "\n",
    "---\n",
    "\n",
    "\n",
    "\n",
    "> > > > > > > > > © 2024 Institute of Data\n",
    "\n",
    "\n",
    "---\n",
    "\n",
    "\n",
    "\n",
    "---"
   ]
  }
 ],
 "metadata": {
  "accelerator": "GPU",
  "colab": {
   "provenance": []
  },
  "kernelspec": {
   "display_name": "Python 3 (ipykernel)",
   "language": "python",
   "name": "python3"
  },
  "language_info": {
   "codemirror_mode": {
    "name": "ipython",
    "version": 3
   },
   "file_extension": ".py",
   "mimetype": "text/x-python",
   "name": "python",
   "nbconvert_exporter": "python",
   "pygments_lexer": "ipython3",
   "version": "3.12.5"
  }
 },
 "nbformat": 4,
 "nbformat_minor": 4
}
