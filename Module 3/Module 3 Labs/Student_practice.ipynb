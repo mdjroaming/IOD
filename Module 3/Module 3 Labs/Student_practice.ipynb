{
 "cells": [
  {
   "cell_type": "code",
   "execution_count": 1,
   "id": "8881aea4-2036-4c2c-9002-7aba31106037",
   "metadata": {},
   "outputs": [],
   "source": [
    "# Reconnect to SQLite database (or create it if it doesn't exist)\n",
    "import sqlite3\n",
    "import pandas as pd"
   ]
  },
  {
   "cell_type": "code",
   "execution_count": 2,
   "id": "492c37f3-6d4d-4170-9b32-2785b6ffc191",
   "metadata": {},
   "outputs": [],
   "source": [
    "# Connect to SQLite database (or create it if it doesn't exist)\n",
    "conn = sqlite3.connect(':memory:')\n",
    "cursor = conn.cursor()"
   ]
  },
  {
   "cell_type": "code",
   "execution_count": 3,
   "id": "dfbee6eb-9eef-4d9d-9d99-2e96f4faad7b",
   "metadata": {},
   "outputs": [
    {
     "data": {
      "text/plain": [
       "<sqlite3.Cursor at 0x29f5ca2d240>"
      ]
     },
     "execution_count": 3,
     "metadata": {},
     "output_type": "execute_result"
    }
   ],
   "source": [
    "# Create the students table\n",
    "cursor.execute('''\n",
    "CREATE TABLE students (\n",
    "    student_id INTEGER PRIMARY KEY,\n",
    "    name TEXT NOT NULL,\n",
    "    age INTEGER,\n",
    "    major TEXT\n",
    ");\n",
    "''')"
   ]
  },
  {
   "cell_type": "code",
   "execution_count": 4,
   "id": "e1431788-6dc7-4b8d-902c-51093bd45aab",
   "metadata": {},
   "outputs": [
    {
     "data": {
      "text/plain": [
       "<sqlite3.Cursor at 0x29f5ca2d240>"
      ]
     },
     "execution_count": 4,
     "metadata": {},
     "output_type": "execute_result"
    }
   ],
   "source": [
    "# Create the courses table\n",
    "cursor.execute('''\n",
    "CREATE TABLE courses (\n",
    "    course_id INTEGER PRIMARY KEY,\n",
    "    course_name TEXT NOT NULL\n",
    ");\n",
    "''')"
   ]
  },
  {
   "cell_type": "code",
   "execution_count": 5,
   "id": "11254b81-19e3-40bf-9ebb-a545e7196832",
   "metadata": {},
   "outputs": [
    {
     "data": {
      "text/plain": [
       "<sqlite3.Cursor at 0x29f5ca2d240>"
      ]
     },
     "execution_count": 5,
     "metadata": {},
     "output_type": "execute_result"
    }
   ],
   "source": [
    "# Create the enrollments table\n",
    "cursor.execute('''\n",
    "CREATE TABLE enrollments (\n",
    "    enrollment_id INTEGER PRIMARY KEY,\n",
    "    student_id INTEGER,\n",
    "    course_id INTEGER,\n",
    "    FOREIGN KEY (student_id) REFERENCES students (student_id),\n",
    "    FOREIGN KEY (course_id) REFERENCES courses (course_id)\n",
    ");\n",
    "''')"
   ]
  },
  {
   "cell_type": "code",
   "execution_count": 6,
   "id": "429a3503-832a-4dae-bafc-c64a7e69e070",
   "metadata": {},
   "outputs": [
    {
     "data": {
      "text/plain": [
       "<sqlite3.Cursor at 0x29f5ca2d240>"
      ]
     },
     "execution_count": 6,
     "metadata": {},
     "output_type": "execute_result"
    }
   ],
   "source": [
    "# Create the exams table\n",
    "cursor.execute('''\n",
    "CREATE TABLE exams (\n",
    "    exam_id INTEGER PRIMARY KEY,\n",
    "    enrollment_id INTEGER,\n",
    "    score INTEGER,\n",
    "    FOREIGN KEY (enrollment_id) REFERENCES enrollments (enrollment_id)\n",
    ");\n",
    "''')"
   ]
  },
  {
   "cell_type": "code",
   "execution_count": 7,
   "id": "e47efbd0-fd41-46a1-9832-893453605905",
   "metadata": {},
   "outputs": [],
   "source": [
    "# Insert sample data into the \n",
    "# Insert sample data into the courses table\n",
    "\n",
    "cursor.executemany('''\n",
    "INSERT INTO students (student_id, name, age, major) VALUES (?, ?, ?, ?);''', [\n",
    "    (1, 'Alice', 15, 'Computer Science'), \n",
    "    (2, 'Sam', 10, 'Stats'), \n",
    "    (3, 'Bob', 17, 'Physics'), \n",
    "    (4, 'Charlie', 16, 'Mathematics'), \n",
    "    (5, 'David', 14, 'Biology'), \n",
    "    (6, 'Eva', 13, 'Chemistry'), \n",
    "    (7, 'Frank', 12, 'Engineering'), \n",
    "    (8, 'Grace', 18, 'Literature'), \n",
    "    (9, 'Hannah', 19, 'Philosophy'), \n",
    "    (10, 'Ian', 20, 'Art')\n",
    "])\n",
    "\n",
    "\n",
    "cursor.executemany('''\n",
    "INSERT INTO courses (course_id, course_name) VALUES (?, ?);''', [\n",
    "    (1, 'Algorithms'), \n",
    "    (2, 'Data Structures'), \n",
    "    (3, 'Databases'), \n",
    "    (4, 'Machine Learning'), \n",
    "    (5, 'Artificial Intelligence'), \n",
    "    (6, 'Networking'), \n",
    "    (7, 'Operating Systems'), \n",
    "    (8, 'Software Engineering'), \n",
    "    (9, 'Cyber Security'), \n",
    "    (10, 'Computer Graphics')\n",
    "])\n",
    "# Insert sample data into the enrollments table\n",
    "cursor.executemany('''\n",
    "INSERT INTO enrollments (enrollment_id, student_id, course_id) VALUES (?, ?, ?);''', [\n",
    "    (1, 1, 1), \n",
    "    (2, 2, 2), \n",
    "    (3, 3, 3), \n",
    "    (4, 4, 4), \n",
    "    (5, 5, 5), \n",
    "    (6, 6, 6), \n",
    "    (7, 7, 7), \n",
    "    (8, 8, 8), \n",
    "    (9, 9, 9), \n",
    "    (10, 10, 10)\n",
    "])\n",
    "# Insert sample data into the exams table\n",
    "cursor.executemany('''\n",
    "INSERT INTO exams (exam_id, enrollment_id, score) VALUES (?, ?, ?);''', [\n",
    "    (1, 1, 95), \n",
    "    (2, 2, 88), \n",
    "    (3, 3, 92), \n",
    "    (4, 4, 85), \n",
    "    (5, 5, 78), \n",
    "    (6, 6, 90), \n",
    "    (7, 7, 82), \n",
    "    (8, 8, 89), \n",
    "    (9, 9, 94), \n",
    "    (10, 10, 91)\n",
    "])\n",
    "# Commit the changes\n",
    "conn.commit()"
   ]
  },
  {
   "cell_type": "code",
   "execution_count": 8,
   "id": "e574b50e-5e7c-4b74-8899-1b1b20ec727c",
   "metadata": {},
   "outputs": [
    {
     "name": "stdout",
     "output_type": "stream",
     "text": [
      "Data in students table:\n",
      "(1, 'Alice', 15, 'Computer Science')\n",
      "(2, 'Sam', 10, 'Stats')\n",
      "(3, 'Bob', 17, 'Physics')\n",
      "(4, 'Charlie', 16, 'Mathematics')\n",
      "(5, 'David', 14, 'Biology')\n",
      "(6, 'Eva', 13, 'Chemistry')\n",
      "(7, 'Frank', 12, 'Engineering')\n",
      "(8, 'Grace', 18, 'Literature')\n",
      "(9, 'Hannah', 19, 'Philosophy')\n",
      "(10, 'Ian', 20, 'Art')\n"
     ]
    }
   ],
   "source": [
    "# View data in the students table\n",
    "print(\"Data in students table:\")\n",
    "students_data = cursor.execute(\"SELECT * FROM students\").fetchall()\n",
    "for row in students_data:\n",
    "    print(row)"
   ]
  },
  {
   "cell_type": "code",
   "execution_count": 9,
   "id": "008e0f12-5aa1-4bed-a52f-92fc2614ff5c",
   "metadata": {},
   "outputs": [
    {
     "name": "stdout",
     "output_type": "stream",
     "text": [
      "\n",
      "Data in enrollments table:\n",
      "(1, 1, 1)\n",
      "(2, 2, 2)\n",
      "(3, 3, 3)\n",
      "(4, 4, 4)\n",
      "(5, 5, 5)\n",
      "(6, 6, 6)\n",
      "(7, 7, 7)\n",
      "(8, 8, 8)\n",
      "(9, 9, 9)\n",
      "(10, 10, 10)\n"
     ]
    }
   ],
   "source": [
    "# View data in the enrollments table\n",
    "print(\"\\nData in enrollments table:\")\n",
    "enrollments_data = cursor.execute(\"SELECT * FROM enrollments\").fetchall()\n",
    "for row in enrollments_data:\n",
    "    print(row)"
   ]
  },
  {
   "cell_type": "code",
   "execution_count": 10,
   "id": "d30c9c28-8736-4ade-aefe-3ae82ffbebdf",
   "metadata": {},
   "outputs": [
    {
     "data": {
      "text/plain": [
       "[('Alice',)]"
      ]
     },
     "execution_count": 10,
     "metadata": {},
     "output_type": "execute_result"
    }
   ],
   "source": [
    "# Get name of students whose major is computer science (or whatever name you have in your data)\n",
    "name = cursor.execute(\"\"\" SELECT name FROM students WHERE major = 'Computer Science';\"\"\")\n",
    "name.fetchall()"
   ]
  },
  {
   "cell_type": "code",
   "execution_count": 13,
   "id": "c8b14e90-512f-442f-ba94-a5070c018871",
   "metadata": {},
   "outputs": [
    {
     "data": {
      "text/plain": [
       "[('Art', 1),\n",
       " ('Biology', 1),\n",
       " ('Chemistry', 1),\n",
       " ('Computer Science', 1),\n",
       " ('Engineering', 1),\n",
       " ('Literature', 1),\n",
       " ('Mathematics', 1),\n",
       " ('Philosophy', 1),\n",
       " ('Physics', 1),\n",
       " ('Stats', 1)]"
      ]
     },
     "execution_count": 13,
     "metadata": {},
     "output_type": "execute_result"
    }
   ],
   "source": [
    "# Get count of students per major\n",
    "major = cursor.execute(\"\"\" SELECT major, COUNT(*) FROM students GROUP BY major; \"\"\")\n",
    "major.fetchall()"
   ]
  },
  {
   "cell_type": "code",
   "execution_count": 14,
   "id": "b339d227-3151-493e-b4f2-6e28de09ffac",
   "metadata": {},
   "outputs": [
    {
     "name": "stdout",
     "output_type": "stream",
     "text": [
      "[('Art', 20, 20), ('Biology', 14, 14), ('Chemistry', 13, 13), ('Computer Science', 15, 15), ('Engineering', 12, 12), ('Literature', 18, 18), ('Mathematics', 16, 16), ('Philosophy', 19, 19), ('Physics', 17, 17), ('Stats', 10, 10)]\n"
     ]
    }
   ],
   "source": [
    "# get major name and min and max student age for each\n",
    "query = \"\"\" SELECT major, min(age), max(age)\n",
    "            FROM students\n",
    "            GROUP BY major;\"\"\"\n",
    "\n",
    "cursor.execute(query)\n",
    "results = cursor.fetchall()\n",
    "print(results)"
   ]
  },
  {
   "cell_type": "code",
   "execution_count": 17,
   "id": "47855ec4-8a6e-431e-844f-f44f4045a848",
   "metadata": {},
   "outputs": [
    {
     "name": "stdout",
     "output_type": "stream",
     "text": [
      "[('Art', 1, 20.0), ('Biology', 1, 14.0), ('Chemistry', 1, 13.0), ('Computer Science', 1, 15.0), ('Engineering', 1, 12.0), ('Literature', 1, 18.0), ('Mathematics', 1, 16.0), ('Philosophy', 1, 19.0), ('Physics', 1, 17.0), ('Stats', 1, 10.0)]\n"
     ]
    }
   ],
   "source": [
    "# get list of majors and count of students in each and average age of these students\n",
    "query = \"\"\" SELECT major, COUNT(age) AS student_count, avg(age) AS student_age\n",
    "            FROM students\n",
    "            GROUP BY major;\"\"\"\n",
    "\n",
    "cursor.execute(query)\n",
    "results = cursor.fetchall()\n",
    "print(results)"
   ]
  },
  {
   "cell_type": "code",
   "execution_count": 20,
   "id": "99b553ac-4ec2-44db-ad1b-8ba619694987",
   "metadata": {},
   "outputs": [
    {
     "name": "stdout",
     "output_type": "stream",
     "text": [
      "[(15.4,)]\n"
     ]
    }
   ],
   "source": [
    "# Get average students ages\n",
    "query = \"\"\" SELECT avg(age)\n",
    "            FROM students; \"\"\"\n",
    "\n",
    "cursor.execute(query)\n",
    "results = cursor.fetchall()\n",
    "print(results)"
   ]
  },
  {
   "cell_type": "code",
   "execution_count": 16,
   "id": "75810714-d8ec-4498-b69f-a94cdd6d2b3d",
   "metadata": {},
   "outputs": [
    {
     "name": "stdout",
     "output_type": "stream",
     "text": [
      "[]\n"
     ]
    }
   ],
   "source": [
    "# Get student names that are not enrolled in any course\n",
    "query = \"\"\" SELECT name\n",
    "            FROM students\n",
    "            WHERE student_id not in (SELECT student_id FROM enrollments);\"\"\"\n",
    "\n",
    "cursor.execute(query)\n",
    "results = cursor.fetchall()\n",
    "print(results)"
   ]
  },
  {
   "cell_type": "code",
   "execution_count": 30,
   "id": "3f2c50fc-9f61-4667-ad4e-a322fdf254a7",
   "metadata": {},
   "outputs": [
    {
     "name": "stdout",
     "output_type": "stream",
     "text": [
      "[('Alice', 'Algorithms'), ('Sam', 'Data Structures'), ('Bob', 'Databases'), ('Charlie', 'Machine Learning'), ('David', 'Artificial Intelligence'), ('Eva', 'Networking'), ('Frank', 'Operating Systems'), ('Grace', 'Software Engineering'), ('Hannah', 'Cyber Security'), ('Ian', 'Computer Graphics')]\n"
     ]
    }
   ],
   "source": [
    "# get list of student names and the course names they are enrolled in\n",
    "query = \"\"\" SELECT students.name AS student_name,\n",
    "            (SELECT courses.course_name\n",
    "            FROM courses\n",
    "            WHERE courses.course_id IN (SELECT enrollments.course_id\n",
    "                                 FROM enrollments\n",
    "                                 WHERE enrollments.student_id = students.student_id)\n",
    "    ) AS course_name\n",
    "FROM students; \"\"\"\n",
    "\n",
    "cursor.execute(query)\n",
    "results = cursor.fetchall()\n",
    "print(results)"
   ]
  },
  {
   "cell_type": "code",
   "execution_count": 32,
   "id": "2bd02fca-fde2-49ea-8abf-23e963252198",
   "metadata": {},
   "outputs": [
    {
     "name": "stdout",
     "output_type": "stream",
     "text": [
      "[('Algorithms', 1), ('Data Structures', 1), ('Databases', 1), ('Machine Learning', 1), ('Artificial Intelligence', 1), ('Networking', 1), ('Operating Systems', 1), ('Software Engineering', 1), ('Cyber Security', 1), ('Computer Graphics', 1)]\n"
     ]
    }
   ],
   "source": [
    "# get course name and count of students enrolled in\n",
    "query = \"\"\" SELECT c.course_name,\n",
    "    (SELECT COUNT(*)\n",
    "     FROM enrollments e\n",
    "     WHERE e.course_id = c.course_id\n",
    "    ) AS student_count\n",
    "    FROM courses c; \"\"\"\n",
    "\n",
    "cursor.execute(query)\n",
    "results = cursor.fetchall()\n",
    "print(results)"
   ]
  },
  {
   "cell_type": "code",
   "execution_count": 35,
   "id": "3b19336d-babd-4fa1-afe6-4df9f06320d8",
   "metadata": {},
   "outputs": [
    {
     "name": "stdout",
     "output_type": "stream",
     "text": [
      "[('Sam', 'Stats', 10, 1), ('Frank', 'Engineering', 12, 2), ('Eva', 'Chemistry', 13, 3), ('David', 'Biology', 14, 4), ('Alice', 'Computer Science', 15, 5), ('Charlie', 'Mathematics', 16, 6), ('Bob', 'Physics', 17, 7), ('Grace', 'Literature', 18, 8), ('Hannah', 'Philosophy', 19, 9), ('Ian', 'Art', 20, 10)]\n"
     ]
    }
   ],
   "source": [
    "# get student name, major, age and age rank\n",
    "\n",
    "query = \"\"\" WITH RankedStudents AS \n",
    "            (SELECT name, major, age,\n",
    "            ROW_NUMBER() OVER (ORDER BY age ASC) AS age_rank\n",
    "            \n",
    "            FROM students)\n",
    "            SELECT name, major, age, age_rank\n",
    "            FROM RankedStudents; \"\"\"\n",
    "\n",
    "cursor.execute(query)\n",
    "results = cursor.fetchall()\n",
    "print(results)"
   ]
  },
  {
   "cell_type": "code",
   "execution_count": null,
   "id": "e41c40a2-838c-41fb-bb29-7c52539f3c65",
   "metadata": {},
   "outputs": [],
   "source": []
  },
  {
   "cell_type": "code",
   "execution_count": null,
   "id": "a6f4b695-6556-4593-915f-ee57ea7fcd46",
   "metadata": {},
   "outputs": [],
   "source": []
  }
 ],
 "metadata": {
  "kernelspec": {
   "display_name": "Python 3 (ipykernel)",
   "language": "python",
   "name": "python3"
  },
  "language_info": {
   "codemirror_mode": {
    "name": "ipython",
    "version": 3
   },
   "file_extension": ".py",
   "mimetype": "text/x-python",
   "name": "python",
   "nbconvert_exporter": "python",
   "pygments_lexer": "ipython3",
   "version": "3.12.4"
  }
 },
 "nbformat": 4,
 "nbformat_minor": 5
}
