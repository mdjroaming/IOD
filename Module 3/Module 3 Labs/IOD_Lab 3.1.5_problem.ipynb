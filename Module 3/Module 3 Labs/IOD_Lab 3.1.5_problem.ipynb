{
 "cells": [
  {
   "cell_type": "markdown",
   "metadata": {
    "id": "gnfClx7-FfjU"
   },
   "source": [
    "<div>\n",
    "<img src=https://www.institutedata.com/wp-content/uploads/2019/10/iod_h_tp_primary_c.svg width=\"300\">\n",
    "</div>"
   ]
  },
  {
   "cell_type": "markdown",
   "metadata": {
    "id": "_shYCClxFfjX"
   },
   "source": [
    "# Lab 3.1.5\n",
    "# *Neo4j and Python*"
   ]
  },
  {
   "cell_type": "markdown",
   "metadata": {
    "id": "pDJmT5Y5Ffja"
   },
   "source": [
    "## Introduction\n",
    "\n",
    "Neo4j is the most popular graph database. Free versions include the Desktop (Developer) edition and the Community Server edition (which we can drive from Python).\n",
    "\n",
    "We will begin this lab by working through the tutorial embedded in the Neo4j *start* page to learn about graph databases structures and the Cypher query language. We will then see how to integrate a Neo4j database with a Python program."
   ]
  },
  {
   "cell_type": "markdown",
   "metadata": {
    "id": "--O6XzsrFfjc"
   },
   "source": [
    "The Community Server version can be downloaded here: https://neo4j.com/deployment-center/#releases\n",
    "* Link for additional assistance: [How To Neo4j Community Install On Windows 2019 Server For External Access](https://www.youtube.com/watch?v=JaWGwnPkOYA&t=105s)\n",
    "\n",
    "If installation here is unsuccessful try the Desktop edition: https://neo4j.com/download/\n",
    "* Link for additional assistance: [Neo4j (Graph Database) Crash Course](https://www.youtube.com/watch?v=8jNPelugC2s&t=597s)"
   ]
  },
  {
   "cell_type": "markdown",
   "metadata": {
    "id": "iLovaF_hFfje"
   },
   "source": [
    "- Go through the *Concepts* tutorial.\n",
    "- At the end, click *Intro* under *Keep getting started* heading and go through the tutorial.\n",
    "- At the end, click *Cypher* under *Keep getting started* heading and go through the tutorial.\n",
    "- At the end, click *The Movie Graph* under *Jump into code* heading and go through the tutorial.\n"
   ]
  },
  {
   "cell_type": "code",
   "execution_count": null,
   "metadata": {
    "id": "eSLGjx5XKGds"
   },
   "outputs": [],
   "source": [
    "#### (If you are using community)Add instruction to create/connect/start the database from neo4j localhost browser, otherwise your query won't work"
   ]
  },
  {
   "cell_type": "markdown",
   "metadata": {
    "id": "hpo-lWuhFfjg"
   },
   "source": [
    "## Driving Neo4j from Python\n",
    "\n",
    "There are a variety of Python libraries for Neo4j, some of which provide more compact (and simpler) ways of executing commands. To avoid having to learn too many different ways of doing the same thing, however, we will use the official one, which is based on the syntax of the Cypher query language."
   ]
  },
  {
   "cell_type": "markdown",
   "metadata": {
    "id": "9KKFMPT4Ffjh"
   },
   "source": [
    "The ***Neo4j Bolt Driver for Python*** is documented at https://neo4j.com/docs/api/python-driver/current/."
   ]
  },
  {
   "cell_type": "code",
   "execution_count": 1,
   "metadata": {
    "id": "IgBzpeZdKGdt"
   },
   "outputs": [
    {
     "name": "stdout",
     "output_type": "stream",
     "text": [
      "Requirement already satisfied: neo4j in c:\\users\\mdjro\\anaconda3\\lib\\site-packages (5.22.0)\n",
      "Requirement already satisfied: pytz in c:\\users\\mdjro\\anaconda3\\lib\\site-packages (from neo4j) (2024.1)\n"
     ]
    }
   ],
   "source": [
    "!pip install neo4j"
   ]
  },
  {
   "cell_type": "code",
   "execution_count": null,
   "metadata": {
    "id": "IydOe0ZgKGdu"
   },
   "outputs": [],
   "source": [
    "# After a while if you want to use neo4j, you can use this local browser link to log in\n",
    "# http://localhost:7474/browser/"
   ]
  },
  {
   "cell_type": "code",
   "execution_count": 19,
   "metadata": {
    "id": "HAhDdXNsFfji"
   },
   "outputs": [],
   "source": [
    "#from neo4j.v1 import GraphDatabase\n",
    "from neo4j import GraphDatabase\n",
    "\n",
    "#uri = \"bolt://localhost:7687\" ----> This should also work\n",
    "uri = \"neo4j://localhost:7687\"\n",
    "\n",
    "username = \"neo4j\"\n",
    "password = \"Bagpuss01\" #----> your default password might not work in the first try, so you should change your password\n",
    "\n",
    "# How to change Neo4j default password?\n",
    "# After going to localhost:7474 in your browser, you will be prompted to log in.\n",
    "# Use the default login info:\n",
    "    # User: neo4j\n",
    "    # Password: neo4j\n",
    "# You’ll then be asked to change your password."
   ]
  },
  {
   "cell_type": "code",
   "execution_count": 21,
   "metadata": {
    "id": "0OvOtl7tFfjm"
   },
   "outputs": [],
   "source": [
    "driver = GraphDatabase.driver(uri, auth=(username, password))"
   ]
  },
  {
   "cell_type": "markdown",
   "metadata": {
    "id": "GYF3MCsMFfjq"
   },
   "source": [
    "To execute a query against a database using this driver, we need to wrap the Cypher query string in a function definition and pass the function to the `read_transaction` method of the `session` object. Our query function then has access to the `tx` object.\n",
    "\n",
    "Here is a function that finds all the movies that the requested `Person` acted in:"
   ]
  },
  {
   "cell_type": "code",
   "execution_count": 27,
   "metadata": {
    "id": "K3q7Wl8yFfjs"
   },
   "outputs": [],
   "source": [
    "def print_movies_by(tx, name):\n",
    "    for record in tx.run(\"MATCH (a:Person)-[:ACTED_IN]->(anyMovies) \"\n",
    "                         \"WHERE a.name = $name \"\n",
    "                         \"RETURN anyMovies\", name = name):\n",
    "        print(record[\"anyMovies\"])"
   ]
  },
  {
   "cell_type": "markdown",
   "metadata": {
    "id": "9EsP4CYhKGdw"
   },
   "source": [
    "**Note**: For the following queries to work the Movie Graph database should have been loaded with your Neo4j program."
   ]
  },
  {
   "cell_type": "markdown",
   "metadata": {
    "id": "MTNO6Y6eFfjx"
   },
   "source": [
    "Here is how to use it to list Tom Hanks' movies:"
   ]
  },
  {
   "cell_type": "code",
   "execution_count": 29,
   "metadata": {
    "id": "eQTlrnveFfjy",
    "outputId": "922251b0-2088-4a4c-8143-8b82401b065a"
   },
   "outputs": [
    {
     "name": "stdout",
     "output_type": "stream",
     "text": [
      "<Node element_id='4:91372be6-be88-4da7-9c6a-4ce23b161d6b:144' labels=frozenset({'Movie'}) properties={'tagline': 'Houston, we have a problem.', 'title': 'Apollo 13', 'released': 1995}>\n",
      "<Node element_id='4:91372be6-be88-4da7-9c6a-4ce23b161d6b:67' labels=frozenset({'Movie'}) properties={'tagline': 'At odds in life... in love on-line.', 'title': \"You've Got Mail\", 'released': 1998}>\n",
      "<Node element_id='4:91372be6-be88-4da7-9c6a-4ce23b161d6b:162' labels=frozenset({'Movie'}) properties={'tagline': 'Once in a lifetime you get a chance to do something different.', 'title': 'A League of Their Own', 'released': 1992}>\n",
      "<Node element_id='4:91372be6-be88-4da7-9c6a-4ce23b161d6b:78' labels=frozenset({'Movie'}) properties={'tagline': 'A story of love, lava and burning desire.', 'title': 'Joe Versus the Volcano', 'released': 1990}>\n",
      "<Node element_id='4:91372be6-be88-4da7-9c6a-4ce23b161d6b:85' labels=frozenset({'Movie'}) properties={'tagline': 'In every life there comes a time when that thing you dream becomes that thing you do', 'title': 'That Thing You Do', 'released': 1996}>\n",
      "<Node element_id='4:91372be6-be88-4da7-9c6a-4ce23b161d6b:111' labels=frozenset({'Movie'}) properties={'tagline': 'Break The Codes', 'title': 'The Da Vinci Code', 'released': 2006}>\n",
      "<Node element_id='4:91372be6-be88-4da7-9c6a-4ce23b161d6b:105' labels=frozenset({'Movie'}) properties={'tagline': 'Everything is connected', 'title': 'Cloud Atlas', 'released': 2012}>\n",
      "<Node element_id='4:91372be6-be88-4da7-9c6a-4ce23b161d6b:150' labels=frozenset({'Movie'}) properties={'tagline': 'At the edge of the world, his journey begins.', 'title': 'Cast Away', 'released': 2000}>\n",
      "<Node element_id='4:91372be6-be88-4da7-9c6a-4ce23b161d6b:130' labels=frozenset({'Movie'}) properties={'tagline': \"Walk a mile you'll never forget.\", 'title': 'The Green Mile', 'released': 1999}>\n",
      "<Node element_id='4:91372be6-be88-4da7-9c6a-4ce23b161d6b:73' labels=frozenset({'Movie'}) properties={'tagline': 'What if someone you never met, someone you never saw, someone you never knew was the only someone for you?', 'title': 'Sleepless in Seattle', 'released': 1993}>\n",
      "<Node element_id='4:91372be6-be88-4da7-9c6a-4ce23b161d6b:161' labels=frozenset({'Movie'}) properties={'tagline': 'This Holiday Season... Believe', 'title': 'The Polar Express', 'released': 2004}>\n",
      "<Node element_id='4:91372be6-be88-4da7-9c6a-4ce23b161d6b:159' labels=frozenset({'Movie'}) properties={'tagline': \"A stiff drink. A little mascara. A lot of nerve. Who said they couldn't bring down the Soviet empire.\", 'title': \"Charlie Wilson's War\", 'released': 2007}>\n"
     ]
    }
   ],
   "source": [
    "with driver.session() as session:\n",
    "    session.execute_read(print_movies_by, \"Tom Hanks\")"
   ]
  },
  {
   "cell_type": "markdown",
   "metadata": {
    "id": "QDEBcR_5Ffj1"
   },
   "source": [
    "Clearly, some further wrangling is required to produce neat output. (Read the documentation before you attempt this.)"
   ]
  },
  {
   "cell_type": "markdown",
   "metadata": {
    "id": "joJo0-GmFfj1"
   },
   "source": [
    "In fact, both the method of using the Neo4j Bolt Driver and the data returned by it are unwieldy. This is typical of low-level drivers."
   ]
  },
  {
   "cell_type": "markdown",
   "metadata": {
    "id": "bG--AtaEFfj2"
   },
   "source": [
    "Try building and running some more queries based on the code in examples queries in The Movie Graph tutorial."
   ]
  },
  {
   "cell_type": "code",
   "execution_count": 31,
   "metadata": {
    "id": "W19ySgHfKGdy",
    "outputId": "f8a24c15-4f53-4b29-d751-f642941cb77c"
   },
   "outputs": [
    {
     "name": "stdout",
     "output_type": "stream",
     "text": [
      "Title: Apollo 13\n",
      "Tagline: Houston, we have a problem.\n",
      "Released: 1995\n",
      "==================================================\n",
      "Title: You've Got Mail\n",
      "Tagline: At odds in life... in love on-line.\n",
      "Released: 1998\n",
      "==================================================\n",
      "Title: A League of Their Own\n",
      "Tagline: Once in a lifetime you get a chance to do something different.\n",
      "Released: 1992\n",
      "==================================================\n",
      "Title: Joe Versus the Volcano\n",
      "Tagline: A story of love, lava and burning desire.\n",
      "Released: 1990\n",
      "==================================================\n",
      "Title: That Thing You Do\n",
      "Tagline: In every life there comes a time when that thing you dream becomes that thing you do\n",
      "Released: 1996\n",
      "==================================================\n",
      "Title: The Da Vinci Code\n",
      "Tagline: Break The Codes\n",
      "Released: 2006\n",
      "==================================================\n",
      "Title: Cloud Atlas\n",
      "Tagline: Everything is connected\n",
      "Released: 2012\n",
      "==================================================\n",
      "Title: Cast Away\n",
      "Tagline: At the edge of the world, his journey begins.\n",
      "Released: 2000\n",
      "==================================================\n",
      "Title: The Green Mile\n",
      "Tagline: Walk a mile you'll never forget.\n",
      "Released: 1999\n",
      "==================================================\n",
      "Title: Sleepless in Seattle\n",
      "Tagline: What if someone you never met, someone you never saw, someone you never knew was the only someone for you?\n",
      "Released: 1993\n",
      "==================================================\n",
      "Title: The Polar Express\n",
      "Tagline: This Holiday Season... Believe\n",
      "Released: 2004\n",
      "==================================================\n",
      "Title: Charlie Wilson's War\n",
      "Tagline: A stiff drink. A little mascara. A lot of nerve. Who said they couldn't bring down the Soviet empire.\n",
      "Released: 2007\n",
      "==================================================\n"
     ]
    }
   ],
   "source": [
    "# Prints a more readable output\n",
    "def print_movies_by(tx, name):\n",
    "    for record in tx.run(\"MATCH (a:Person)-[:ACTED_IN]->(movie:Movie) \"\n",
    "                         \"WHERE a.name = $name \"\n",
    "                         \"RETURN movie.title AS title, movie.tagline AS tagline, movie.released AS released\", name=name):\n",
    "        title = record[\"title\"]\n",
    "        tagline = record[\"tagline\"]\n",
    "        released = record[\"released\"]\n",
    "        print(f\"Title: {title}\")\n",
    "        print(f\"Tagline: {tagline}\")\n",
    "        print(f\"Released: {released}\")\n",
    "        print(\"=\" * 50)\n",
    "\n",
    "with driver.session() as session:\n",
    "    session.execute_read(print_movies_by, \"Tom Hanks\")\n"
   ]
  },
  {
   "cell_type": "markdown",
   "metadata": {
    "id": "GAEYkd-qKGdy"
   },
   "source": [
    "## 1. Find actors who have acted in more than a certain number of movies:"
   ]
  },
  {
   "cell_type": "code",
   "execution_count": 33,
   "metadata": {
    "id": "RKclmOX6KGdy"
   },
   "outputs": [],
   "source": [
    "def find_actors_with_movies(tx, threshold):\n",
    "    query = (\n",
    "        \"MATCH (a:Person)-[:ACTED_IN]->(m:Movie) \"\n",
    "        \"WITH a, count(m) AS movieCount \"\n",
    "        \"WHERE movieCount > $threshold \"\n",
    "        \"RETURN a.name AS actorName, movieCount\"\n",
    "    )\n",
    "    result = tx.run(query, threshold=threshold)\n",
    "    for record in result:\n",
    "        print(record[\"actorName\"], \"acted in\", record[\"movieCount\"], \"movies\")\n"
   ]
  },
  {
   "cell_type": "code",
   "execution_count": 35,
   "metadata": {
    "id": "1tS1JftxKGdz",
    "outputId": "8174f89e-ce92-41eb-fc4b-31a99d66d480"
   },
   "outputs": [
    {
     "name": "stdout",
     "output_type": "stream",
     "text": [
      "Keanu Reeves acted in 7 movies\n",
      "Tom Hanks acted in 12 movies\n"
     ]
    }
   ],
   "source": [
    "# Usage:\n",
    "driver = GraphDatabase.driver(\"bolt://localhost:7687\", auth=(username, password))\n",
    "with driver.session() as session:\n",
    "    session.execute_read(find_actors_with_movies, threshold=5)"
   ]
  },
  {
   "cell_type": "markdown",
   "metadata": {
    "id": "itJZaNfeKGdz"
   },
   "source": [
    "## 2. Identify co-actors of a specific actor"
   ]
  },
  {
   "cell_type": "code",
   "execution_count": 37,
   "metadata": {
    "id": "_fnCwCnFKGdz"
   },
   "outputs": [],
   "source": [
    "def find_co_actors(tx, actor_name):\n",
    "    query = (\n",
    "        \"MATCH (a1:Person)-[:ACTED_IN]->(m:Movie)<-[:ACTED_IN]-(a2:Person) \"\n",
    "        \"WHERE a1.name = $actorName \"\n",
    "        \"RETURN a2.name AS coActorName, collect(m.title) AS movies\"\n",
    "    )\n",
    "    result = tx.run(query, actorName=actor_name)\n",
    "    data = [(record[\"coActorName\"], \", \".join(record[\"movies\"])) for record in result]\n",
    "    return data"
   ]
  },
  {
   "cell_type": "code",
   "execution_count": 49,
   "metadata": {
    "id": "12nbhqkJKGdz",
    "outputId": "73a2ef09-53d7-44a0-8c73-94abf6a0ca45"
   },
   "outputs": [
    {
     "name": "stdout",
     "output_type": "stream",
     "text": [
      "Co-Actor Name           Movies\n",
      "----------------------  -------------------------------------------------------------\n",
      "Ed Harris               Apollo 13\n",
      "Gary Sinise             Apollo 13, The Green Mile\n",
      "Kevin Bacon             Apollo 13\n",
      "Bill Paxton             Apollo 13, A League of Their Own\n",
      "Parker Posey            You've Got Mail\n",
      "Greg Kinnear            You've Got Mail\n",
      "Meg Ryan                You've Got Mail, Joe Versus the Volcano, Sleepless in Seattle\n",
      "Steve Zahn              You've Got Mail\n",
      "Dave Chappelle          You've Got Mail\n",
      "Madonna                 A League of Their Own\n",
      "Rosie O'Donnell         A League of Their Own, Sleepless in Seattle\n",
      "Geena Davis             A League of Their Own\n",
      "Lori Petty              A League of Their Own\n",
      "Nathan Lane             Joe Versus the Volcano\n",
      "Liv Tyler               That Thing You Do\n",
      "Charlize Theron         That Thing You Do\n",
      "Ian McKellen            The Da Vinci Code\n",
      "Audrey Tautou           The Da Vinci Code\n",
      "Paul Bettany            The Da Vinci Code\n",
      "Jim Broadbent           Cloud Atlas\n",
      "Halle Berry             Cloud Atlas\n",
      "Hugo Weaving            Cloud Atlas\n",
      "Helen Hunt              Cast Away\n",
      "Sam Rockwell            The Green Mile\n",
      "Bonnie Hunt             The Green Mile\n",
      "Patricia Clarkson       The Green Mile\n",
      "James Cromwell          The Green Mile\n",
      "Michael Clarke Duncan   The Green Mile\n",
      "David Morse             The Green Mile\n",
      "Victor Garber           Sleepless in Seattle\n",
      "Bill Pullman            Sleepless in Seattle\n",
      "Rita Wilson             Sleepless in Seattle\n",
      "Julia Roberts           Charlie Wilson's War\n",
      "Philip Seymour Hoffman  Charlie Wilson's War\n"
     ]
    }
   ],
   "source": [
    "from tabulate import tabulate\n",
    "# Usage:\n",
    "# driver = GraphDatabase.driver(\"bolt://localhost:7687\", auth=(username, password))\n",
    "with driver.session() as session:\n",
    "    data = session.execute_read(find_co_actors, \"Tom Hanks\")\n",
    "\n",
    "print(tabulate(data, headers=[\"Co-Actor Name\", \"Movies\"]))\n"
   ]
  },
  {
   "cell_type": "markdown",
   "metadata": {
    "id": "-9Ii3M0RKGd0"
   },
   "source": [
    "## 3. Find movies released after a certain year:"
   ]
  },
  {
   "cell_type": "code",
   "execution_count": 51,
   "metadata": {
    "id": "eqNpCrITKGd0"
   },
   "outputs": [],
   "source": [
    "def find_movies_after_year(tx, year):\n",
    "    query = (\n",
    "        \"MATCH (m:Movie) \"\n",
    "        \"WHERE m.released > $year \"\n",
    "        \"RETURN m.title AS movieTitle, m.released AS releaseYear\"\n",
    "    )\n",
    "    result = tx.run(query, year=year)\n",
    "    for record in result:\n",
    "        print(record[\"movieTitle\"], \"was released in\", record[\"releaseYear\"])\n"
   ]
  },
  {
   "cell_type": "code",
   "execution_count": 53,
   "metadata": {
    "id": "WeyhQpPvKGd0",
    "outputId": "7e5e8c5a-bd89-411e-c8aa-9f9c797dae93"
   },
   "outputs": [
    {
     "name": "stdout",
     "output_type": "stream",
     "text": [
      "RescueDawn was released in 2006\n",
      "Cloud Atlas was released in 2012\n",
      "The Da Vinci Code was released in 2006\n",
      "V for Vendetta was released in 2006\n",
      "Speed Racer was released in 2008\n",
      "Ninja Assassin was released in 2009\n",
      "Frost/Nixon was released in 2008\n",
      "Charlie Wilson's War was released in 2007\n",
      "The Polar Express was released in 2004\n"
     ]
    }
   ],
   "source": [
    "# Usage:\n",
    "#driver = GraphDatabase.driver(\"bolt://localhost:7687\", auth=(\"neo4j\", \"password\"))\n",
    "with driver.session() as session:\n",
    "    session.execute_read(find_movies_after_year, 2003)"
   ]
  },
  {
   "cell_type": "markdown",
   "metadata": {
    "id": "nJy_XtgyKGd0"
   },
   "source": [
    "## 4. Find movies in a particular genre:"
   ]
  },
  {
   "cell_type": "code",
   "execution_count": 169,
   "metadata": {
    "id": "ecTp_NT_KGd0"
   },
   "outputs": [],
   "source": [
    "def find_movies_in_genre(tx, genre):\n",
    "    query = (\n",
    "        \"MATCH (m:Movie)-[:IN_GENRE]->(g:genre)\"\n",
    "        \"WHERE g.name = $genre\"\n",
    "        \"RETURN m.title AS movieTitle\"\n",
    "    )\n",
    "    result = tx.run(query, genre=genre)\n",
    "    for record in result:\n",
    "        print(record[\"movieTitle\"], \"is in the\", genre, \"genre\")"
   ]
  },
  {
   "cell_type": "code",
   "execution_count": 171,
   "metadata": {
    "id": "gh2xk2WIKGd0"
   },
   "outputs": [
    {
     "ename": "CypherSyntaxError",
     "evalue": "{code: Neo.ClientError.Statement.SyntaxError} {message: Invalid input 'm': expected an expression, 'FOREACH', 'CALL', 'CREATE', 'LOAD CSV', 'DELETE', 'DETACH', 'FINISH', 'INSERT', 'MATCH', 'MERGE', 'NODETACH', 'OPTIONAL', 'REMOVE', 'RETURN', 'SET', 'UNION', 'UNWIND', 'USE', 'WITH' or <EOF> (line 1, column 69 (offset: 68))\r\n\"MATCH (m:Movie)-[:BELONGS_TO]->(g:Genre)WHERE g.name = $genreRETURN m.title AS movieTitle\"\r\n                                                                     ^}",
     "output_type": "error",
     "traceback": [
      "\u001b[1;31m---------------------------------------------------------------------------\u001b[0m",
      "\u001b[1;31mCypherSyntaxError\u001b[0m                         Traceback (most recent call last)",
      "Cell \u001b[1;32mIn[171], line 2\u001b[0m\n\u001b[0;32m      1\u001b[0m \u001b[38;5;28;01mwith\u001b[39;00m driver\u001b[38;5;241m.\u001b[39msession() \u001b[38;5;28;01mas\u001b[39;00m session:\n\u001b[1;32m----> 2\u001b[0m     session\u001b[38;5;241m.\u001b[39mexecute_read(find_movies_in_genre, genre\u001b[38;5;241m=\u001b[39m\u001b[38;5;124m\"\u001b[39m\u001b[38;5;124mAction\u001b[39m\u001b[38;5;124m\"\u001b[39m)\n",
      "File \u001b[1;32m~\\anaconda3\\Lib\\site-packages\\neo4j\\_sync\\work\\session.py:663\u001b[0m, in \u001b[0;36mSession.execute_read\u001b[1;34m(self, transaction_function, *args, **kwargs)\u001b[0m\n\u001b[0;32m    594\u001b[0m \u001b[38;5;129m@NonConcurrentMethodChecker\u001b[39m\u001b[38;5;241m.\u001b[39mnon_concurrent_method\n\u001b[0;32m    595\u001b[0m \u001b[38;5;28;01mdef\u001b[39;00m \u001b[38;5;21mexecute_read\u001b[39m(\n\u001b[0;32m    596\u001b[0m     \u001b[38;5;28mself\u001b[39m,\n\u001b[1;32m   (...)\u001b[0m\n\u001b[0;32m    600\u001b[0m     \u001b[38;5;241m*\u001b[39margs: _P\u001b[38;5;241m.\u001b[39margs, \u001b[38;5;241m*\u001b[39m\u001b[38;5;241m*\u001b[39mkwargs: _P\u001b[38;5;241m.\u001b[39mkwargs\n\u001b[0;32m    601\u001b[0m ) \u001b[38;5;241m-\u001b[39m\u001b[38;5;241m>\u001b[39m _R:\n\u001b[0;32m    602\u001b[0m \u001b[38;5;250m    \u001b[39m\u001b[38;5;124;03m\"\"\"Execute a unit of work in a managed read transaction.\u001b[39;00m\n\u001b[0;32m    603\u001b[0m \n\u001b[0;32m    604\u001b[0m \u001b[38;5;124;03m    .. note::\u001b[39;00m\n\u001b[1;32m   (...)\u001b[0m\n\u001b[0;32m    661\u001b[0m \u001b[38;5;124;03m    .. versionadded:: 5.0\u001b[39;00m\n\u001b[0;32m    662\u001b[0m \u001b[38;5;124;03m    \"\"\"\u001b[39;00m\n\u001b[1;32m--> 663\u001b[0m     \u001b[38;5;28;01mreturn\u001b[39;00m \u001b[38;5;28mself\u001b[39m\u001b[38;5;241m.\u001b[39m_run_transaction(\n\u001b[0;32m    664\u001b[0m         READ_ACCESS, TelemetryAPI\u001b[38;5;241m.\u001b[39mTX_FUNC,\n\u001b[0;32m    665\u001b[0m         transaction_function, args, kwargs\n\u001b[0;32m    666\u001b[0m     )\n",
      "File \u001b[1;32m~\\anaconda3\\Lib\\site-packages\\neo4j\\_sync\\work\\session.py:554\u001b[0m, in \u001b[0;36mSession._run_transaction\u001b[1;34m(self, access_mode, api, transaction_function, args, kwargs)\u001b[0m\n\u001b[0;32m    552\u001b[0m tx \u001b[38;5;241m=\u001b[39m \u001b[38;5;28mself\u001b[39m\u001b[38;5;241m.\u001b[39m_transaction\n\u001b[0;32m    553\u001b[0m \u001b[38;5;28;01mtry\u001b[39;00m:\n\u001b[1;32m--> 554\u001b[0m     result \u001b[38;5;241m=\u001b[39m transaction_function(tx, \u001b[38;5;241m*\u001b[39margs, \u001b[38;5;241m*\u001b[39m\u001b[38;5;241m*\u001b[39mkwargs)\n\u001b[0;32m    555\u001b[0m \u001b[38;5;28;01mexcept\u001b[39;00m asyncio\u001b[38;5;241m.\u001b[39mCancelledError:\n\u001b[0;32m    556\u001b[0m     \u001b[38;5;66;03m# if cancellation callback has not been called yet:\u001b[39;00m\n\u001b[0;32m    557\u001b[0m     \u001b[38;5;28;01mif\u001b[39;00m \u001b[38;5;28mself\u001b[39m\u001b[38;5;241m.\u001b[39m_transaction \u001b[38;5;129;01mis\u001b[39;00m \u001b[38;5;129;01mnot\u001b[39;00m \u001b[38;5;28;01mNone\u001b[39;00m:\n",
      "Cell \u001b[1;32mIn[169], line 7\u001b[0m, in \u001b[0;36mfind_movies_in_genre\u001b[1;34m(tx, genre)\u001b[0m\n\u001b[0;32m      1\u001b[0m \u001b[38;5;28;01mdef\u001b[39;00m \u001b[38;5;21mfind_movies_in_genre\u001b[39m(tx, genre):\n\u001b[0;32m      2\u001b[0m     query \u001b[38;5;241m=\u001b[39m (\n\u001b[0;32m      3\u001b[0m         \u001b[38;5;124m\"\u001b[39m\u001b[38;5;124mMATCH (m:Movie)-[:BELONGS_TO]->(g:Genre)\u001b[39m\u001b[38;5;124m\"\u001b[39m\n\u001b[0;32m      4\u001b[0m         \u001b[38;5;124m\"\u001b[39m\u001b[38;5;124mWHERE g.name = $genre\u001b[39m\u001b[38;5;124m\"\u001b[39m\n\u001b[0;32m      5\u001b[0m         \u001b[38;5;124m\"\u001b[39m\u001b[38;5;124mRETURN m.title AS movieTitle\u001b[39m\u001b[38;5;124m\"\u001b[39m\n\u001b[0;32m      6\u001b[0m     )\n\u001b[1;32m----> 7\u001b[0m     result \u001b[38;5;241m=\u001b[39m tx\u001b[38;5;241m.\u001b[39mrun(query, genre\u001b[38;5;241m=\u001b[39mgenre)\n\u001b[0;32m      8\u001b[0m     \u001b[38;5;28;01mfor\u001b[39;00m record \u001b[38;5;129;01min\u001b[39;00m result:\n\u001b[0;32m      9\u001b[0m         \u001b[38;5;28mprint\u001b[39m(record[\u001b[38;5;124m\"\u001b[39m\u001b[38;5;124mmovieTitle\u001b[39m\u001b[38;5;124m\"\u001b[39m], \u001b[38;5;124m\"\u001b[39m\u001b[38;5;124mis in the\u001b[39m\u001b[38;5;124m\"\u001b[39m, genre, \u001b[38;5;124m\"\u001b[39m\u001b[38;5;124mgenre\u001b[39m\u001b[38;5;124m\"\u001b[39m)\n",
      "File \u001b[1;32m~\\anaconda3\\Lib\\site-packages\\neo4j\\_sync\\work\\transaction.py:172\u001b[0m, in \u001b[0;36mTransactionBase.run\u001b[1;34m(self, query, parameters, **kwparameters)\u001b[0m\n\u001b[0;32m    169\u001b[0m \u001b[38;5;28mself\u001b[39m\u001b[38;5;241m.\u001b[39m_results\u001b[38;5;241m.\u001b[39mappend(result)\n\u001b[0;32m    171\u001b[0m parameters \u001b[38;5;241m=\u001b[39m \u001b[38;5;28mdict\u001b[39m(parameters \u001b[38;5;129;01mor\u001b[39;00m {}, \u001b[38;5;241m*\u001b[39m\u001b[38;5;241m*\u001b[39mkwparameters)\n\u001b[1;32m--> 172\u001b[0m result\u001b[38;5;241m.\u001b[39m_tx_ready_run(query, parameters)\n\u001b[0;32m    174\u001b[0m \u001b[38;5;28;01mreturn\u001b[39;00m result\n",
      "File \u001b[1;32m~\\anaconda3\\Lib\\site-packages\\neo4j\\_sync\\work\\result.py:171\u001b[0m, in \u001b[0;36mResult._tx_ready_run\u001b[1;34m(self, query, parameters)\u001b[0m\n\u001b[0;32m    167\u001b[0m \u001b[38;5;28;01mdef\u001b[39;00m \u001b[38;5;21m_tx_ready_run\u001b[39m(\u001b[38;5;28mself\u001b[39m, query, parameters):\n\u001b[0;32m    168\u001b[0m     \u001b[38;5;66;03m# BEGIN+RUN does not carry any extra on the RUN message.\u001b[39;00m\n\u001b[0;32m    169\u001b[0m     \u001b[38;5;66;03m# BEGIN {extra}\u001b[39;00m\n\u001b[0;32m    170\u001b[0m     \u001b[38;5;66;03m# RUN \"query\" {parameters} {extra}\u001b[39;00m\n\u001b[1;32m--> 171\u001b[0m     \u001b[38;5;28mself\u001b[39m\u001b[38;5;241m.\u001b[39m_run(query, parameters, \u001b[38;5;28;01mNone\u001b[39;00m, \u001b[38;5;28;01mNone\u001b[39;00m, \u001b[38;5;28;01mNone\u001b[39;00m, \u001b[38;5;28;01mNone\u001b[39;00m, \u001b[38;5;28;01mNone\u001b[39;00m, \u001b[38;5;28;01mNone\u001b[39;00m)\n",
      "File \u001b[1;32m~\\anaconda3\\Lib\\site-packages\\neo4j\\_sync\\work\\result.py:221\u001b[0m, in \u001b[0;36mResult._run\u001b[1;34m(self, query, parameters, db, imp_user, access_mode, bookmarks, notifications_min_severity, notifications_disabled_classifications)\u001b[0m\n\u001b[0;32m    219\u001b[0m \u001b[38;5;28mself\u001b[39m\u001b[38;5;241m.\u001b[39m_pull()\n\u001b[0;32m    220\u001b[0m \u001b[38;5;28mself\u001b[39m\u001b[38;5;241m.\u001b[39m_connection\u001b[38;5;241m.\u001b[39msend_all()\n\u001b[1;32m--> 221\u001b[0m \u001b[38;5;28mself\u001b[39m\u001b[38;5;241m.\u001b[39m_attach()\n",
      "File \u001b[1;32m~\\anaconda3\\Lib\\site-packages\\neo4j\\_sync\\work\\result.py:409\u001b[0m, in \u001b[0;36mResult._attach\u001b[1;34m(self)\u001b[0m\n\u001b[0;32m    407\u001b[0m \u001b[38;5;28;01mif\u001b[39;00m \u001b[38;5;28mself\u001b[39m\u001b[38;5;241m.\u001b[39m_exhausted \u001b[38;5;129;01mis\u001b[39;00m \u001b[38;5;28;01mFalse\u001b[39;00m:\n\u001b[0;32m    408\u001b[0m     \u001b[38;5;28;01mwhile\u001b[39;00m \u001b[38;5;28mself\u001b[39m\u001b[38;5;241m.\u001b[39m_attached \u001b[38;5;129;01mis\u001b[39;00m \u001b[38;5;28;01mFalse\u001b[39;00m:\n\u001b[1;32m--> 409\u001b[0m         \u001b[38;5;28mself\u001b[39m\u001b[38;5;241m.\u001b[39m_connection\u001b[38;5;241m.\u001b[39mfetch_message()\n",
      "File \u001b[1;32m~\\anaconda3\\Lib\\site-packages\\neo4j\\_sync\\io\\_common.py:178\u001b[0m, in \u001b[0;36mConnectionErrorHandler.__getattr__.<locals>.outer.<locals>.inner\u001b[1;34m(*args, **kwargs)\u001b[0m\n\u001b[0;32m    176\u001b[0m \u001b[38;5;28;01mdef\u001b[39;00m \u001b[38;5;21minner\u001b[39m(\u001b[38;5;241m*\u001b[39margs, \u001b[38;5;241m*\u001b[39m\u001b[38;5;241m*\u001b[39mkwargs):\n\u001b[0;32m    177\u001b[0m     \u001b[38;5;28;01mtry\u001b[39;00m:\n\u001b[1;32m--> 178\u001b[0m         func(\u001b[38;5;241m*\u001b[39margs, \u001b[38;5;241m*\u001b[39m\u001b[38;5;241m*\u001b[39mkwargs)\n\u001b[0;32m    179\u001b[0m     \u001b[38;5;28;01mexcept\u001b[39;00m (Neo4jError, ServiceUnavailable, SessionExpired) \u001b[38;5;28;01mas\u001b[39;00m exc:\n\u001b[0;32m    180\u001b[0m         \u001b[38;5;28;01massert\u001b[39;00m \u001b[38;5;129;01mnot\u001b[39;00m asyncio\u001b[38;5;241m.\u001b[39miscoroutinefunction(\u001b[38;5;28mself\u001b[39m\u001b[38;5;241m.\u001b[39m__on_error)\n",
      "File \u001b[1;32m~\\anaconda3\\Lib\\site-packages\\neo4j\\_sync\\io\\_bolt.py:855\u001b[0m, in \u001b[0;36mBolt.fetch_message\u001b[1;34m(self)\u001b[0m\n\u001b[0;32m    851\u001b[0m \u001b[38;5;66;03m# Receive exactly one message\u001b[39;00m\n\u001b[0;32m    852\u001b[0m tag, fields \u001b[38;5;241m=\u001b[39m \u001b[38;5;28mself\u001b[39m\u001b[38;5;241m.\u001b[39minbox\u001b[38;5;241m.\u001b[39mpop(\n\u001b[0;32m    853\u001b[0m     hydration_hooks\u001b[38;5;241m=\u001b[39m\u001b[38;5;28mself\u001b[39m\u001b[38;5;241m.\u001b[39mresponses[\u001b[38;5;241m0\u001b[39m]\u001b[38;5;241m.\u001b[39mhydration_hooks\n\u001b[0;32m    854\u001b[0m )\n\u001b[1;32m--> 855\u001b[0m res \u001b[38;5;241m=\u001b[39m \u001b[38;5;28mself\u001b[39m\u001b[38;5;241m.\u001b[39m_process_message(tag, fields)\n\u001b[0;32m    856\u001b[0m \u001b[38;5;28mself\u001b[39m\u001b[38;5;241m.\u001b[39midle_since \u001b[38;5;241m=\u001b[39m monotonic()\n\u001b[0;32m    857\u001b[0m \u001b[38;5;28;01mreturn\u001b[39;00m res\n",
      "File \u001b[1;32m~\\anaconda3\\Lib\\site-packages\\neo4j\\_sync\\io\\_bolt5.py:370\u001b[0m, in \u001b[0;36mBolt5x0._process_message\u001b[1;34m(self, tag, fields)\u001b[0m\n\u001b[0;32m    368\u001b[0m \u001b[38;5;28mself\u001b[39m\u001b[38;5;241m.\u001b[39m_server_state_manager\u001b[38;5;241m.\u001b[39mstate \u001b[38;5;241m=\u001b[39m \u001b[38;5;28mself\u001b[39m\u001b[38;5;241m.\u001b[39mbolt_states\u001b[38;5;241m.\u001b[39mFAILED\n\u001b[0;32m    369\u001b[0m \u001b[38;5;28;01mtry\u001b[39;00m:\n\u001b[1;32m--> 370\u001b[0m     response\u001b[38;5;241m.\u001b[39mon_failure(summary_metadata \u001b[38;5;129;01mor\u001b[39;00m {})\n\u001b[0;32m    371\u001b[0m \u001b[38;5;28;01mexcept\u001b[39;00m (ServiceUnavailable, DatabaseUnavailable):\n\u001b[0;32m    372\u001b[0m     \u001b[38;5;28;01mif\u001b[39;00m \u001b[38;5;28mself\u001b[39m\u001b[38;5;241m.\u001b[39mpool:\n",
      "File \u001b[1;32m~\\anaconda3\\Lib\\site-packages\\neo4j\\_sync\\io\\_common.py:245\u001b[0m, in \u001b[0;36mResponse.on_failure\u001b[1;34m(self, metadata)\u001b[0m\n\u001b[0;32m    243\u001b[0m handler \u001b[38;5;241m=\u001b[39m \u001b[38;5;28mself\u001b[39m\u001b[38;5;241m.\u001b[39mhandlers\u001b[38;5;241m.\u001b[39mget(\u001b[38;5;124m\"\u001b[39m\u001b[38;5;124mon_summary\u001b[39m\u001b[38;5;124m\"\u001b[39m)\n\u001b[0;32m    244\u001b[0m Util\u001b[38;5;241m.\u001b[39mcallback(handler)\n\u001b[1;32m--> 245\u001b[0m \u001b[38;5;28;01mraise\u001b[39;00m Neo4jError\u001b[38;5;241m.\u001b[39mhydrate(\u001b[38;5;241m*\u001b[39m\u001b[38;5;241m*\u001b[39mmetadata)\n",
      "\u001b[1;31mCypherSyntaxError\u001b[0m: {code: Neo.ClientError.Statement.SyntaxError} {message: Invalid input 'm': expected an expression, 'FOREACH', 'CALL', 'CREATE', 'LOAD CSV', 'DELETE', 'DETACH', 'FINISH', 'INSERT', 'MATCH', 'MERGE', 'NODETACH', 'OPTIONAL', 'REMOVE', 'RETURN', 'SET', 'UNION', 'UNWIND', 'USE', 'WITH' or <EOF> (line 1, column 69 (offset: 68))\r\n\"MATCH (m:Movie)-[:BELONGS_TO]->(g:Genre)WHERE g.name = $genreRETURN m.title AS movieTitle\"\r\n                                                                     ^}"
     ]
    }
   ],
   "source": [
    "with driver.session() as session:\n",
    "    session.execute_read(find_movies_in_genre, genre=\"Action\")"
   ]
  },
  {
   "cell_type": "markdown",
   "metadata": {
    "id": "HYMf6h3kKGd0"
   },
   "source": [
    "## 5. Find movies directed by a specific director:"
   ]
  },
  {
   "cell_type": "code",
   "execution_count": 131,
   "metadata": {
    "id": "XGXJVhnlKGd1"
   },
   "outputs": [],
   "source": [
    "def find_movies_by_director(tx, director):\n",
    "    query = (\n",
    "        \"MATCH (d:Person)-[:DIRECTED]->(m:Movie)\"\n",
    "        \"WHERE d.name = $director \"\n",
    "        \"RETURN m.title AS movieTitle\"\n",
    "    )\n",
    "    result = tx.run(query, director=director)\n",
    "    for record in result:\n",
    "        print(record[\"movieTitle\"], \"was directed by\", director)\n"
   ]
  },
  {
   "cell_type": "code",
   "execution_count": 129,
   "metadata": {
    "id": "wbWCXdwsKGd1"
   },
   "outputs": [],
   "source": [
    "# Usage:\n",
    "#driver = GraphDatabase.driver(\"bolt://localhost:7687\", auth=(\"neo4j\", \"password\"))\n",
    "with driver.session() as session:\n",
    "    session.execute_read(find_movies_by_director, director=\"Steven Spielberg\")"
   ]
  },
  {
   "cell_type": "code",
   "execution_count": 133,
   "metadata": {},
   "outputs": [
    {
     "name": "stdout",
     "output_type": "stream",
     "text": [
      "Unforgiven was directed by Clint Eastwood\n",
      "Unforgiven was directed by Clint Eastwood\n",
      "Unforgiven was directed by Clint Eastwood\n"
     ]
    }
   ],
   "source": [
    "#driver = GraphDatabase.driver(\"bolt://localhost:7687\", auth=(\"neo4j\", \"password\"))\n",
    "with driver.session() as session:\n",
    "    session.execute_read(find_movies_by_director, director=\"Clint Eastwood\")"
   ]
  },
  {
   "cell_type": "markdown",
   "metadata": {
    "id": "X4Yy4pHxKGd1"
   },
   "source": [
    "## 6. Find movies where a specific actor both acted in and directed:"
   ]
  },
  {
   "cell_type": "code",
   "execution_count": 173,
   "metadata": {
    "id": "5YuO6lHZKGd1"
   },
   "outputs": [],
   "source": [
    "def find_movies_actor_directed(tx, actor_name):\n",
    "    query = (\n",
    "        \"MATCH (a:Person)-[:ACTED_IN]->(m:Movie)<-[:DIRECTED]-(a)\"\n",
    "        \"WHERE a.name = $actorName \"\n",
    "        \"RETURN m.title AS movieTitle\"\n",
    "    )\n",
    "    result = tx.run(query, actorName=actor_name)\n",
    "    for record in result:\n",
    "\n",
    "        print(actor_name, \"acted in and directed\", record[\"movieTitle\"])"
   ]
  },
  {
   "cell_type": "code",
   "execution_count": 175,
   "metadata": {
    "id": "kwfQb1QxKGd1",
    "outputId": "f6ca33f4-55fa-4cd3-a42a-edf723741df9"
   },
   "outputs": [
    {
     "name": "stdout",
     "output_type": "stream",
     "text": [
      "Tom Hanks acted in and directed That Thing You Do\n",
      "Tom Hanks acted in and directed That Thing You Do\n",
      "Tom Hanks acted in and directed That Thing You Do\n"
     ]
    }
   ],
   "source": [
    "# Usage:\n",
    "#driver = GraphDatabase.driver(\"bolt://localhost:7687\", auth=(\"neo4j\", \"password\"))\n",
    "with driver.session() as session:\n",
    "    session.execute_read(find_movies_actor_directed, actor_name=\"Tom Hanks\")"
   ]
  },
  {
   "cell_type": "markdown",
   "metadata": {
    "id": "RAnfpS8VKGd1"
   },
   "source": [
    "## 7. Find actors who have worked in a specific genre:"
   ]
  },
  {
   "cell_type": "code",
   "execution_count": 181,
   "metadata": {
    "id": "7If06_tDKGd1"
   },
   "outputs": [],
   "source": [
    "def find_actors_in_genre(tx, genre):\n",
    "    query = (\n",
    "        \"MATCH (a:Person)-[:ACTED_IN]->(m:Movie)-[:IN_GENRE]->(g:genre)\"\n",
    "        \"WHERE g.name = $genre \"\n",
    "        \"RETURN DISTINCT a.name AS actorName\"\n",
    "    )\n",
    "    result = tx.run(query, genre=genre)\n",
    "    for record in result:\n",
    "        print(record[\"actorName\"], \"has worked in the\", genre, \"genre\")\n"
   ]
  },
  {
   "cell_type": "code",
   "execution_count": 183,
   "metadata": {
    "id": "sjRbyn3CKGd1"
   },
   "outputs": [
    {
     "name": "stderr",
     "output_type": "stream",
     "text": [
      "Received notification from DBMS server: {severity: WARNING} {code: Neo.ClientNotification.Statement.UnknownRelationshipTypeWarning} {category: UNRECOGNIZED} {title: The provided relationship type is not in the database.} {description: One of the relationship types in your query is not available in the database, make sure you didn't misspell it or that the label is available when you run this statement in your application (the missing relationship type is: HAS_GENRE)} {position: line: 1, column: 43, offset: 42} for query: 'MATCH (a:Person)-[:ACTED_IN]->(m:Movie)-[:HAS_GENRE]->(g:Genre)WHERE g.name = $genre RETURN DISTINCT a.name AS actorName'\n",
      "Received notification from DBMS server: {severity: WARNING} {code: Neo.ClientNotification.Statement.UnknownLabelWarning} {category: UNRECOGNIZED} {title: The provided label is not in the database.} {description: One of the labels in your query is not available in the database, make sure you didn't misspell it or that the label is available when you run this statement in your application (the missing label name is: Genre)} {position: line: 1, column: 58, offset: 57} for query: 'MATCH (a:Person)-[:ACTED_IN]->(m:Movie)-[:HAS_GENRE]->(g:Genre)WHERE g.name = $genre RETURN DISTINCT a.name AS actorName'\n"
     ]
    }
   ],
   "source": [
    "# Usage:\n",
    "#driver = GraphDatabase.driver(\"bolt://localhost:7687\", auth=(\"neo4j\", \"password\"))\n",
    "with driver.session() as session:\n",
    "    session.execute_read(find_actors_in_genre, genre=\"Comedy\")\n"
   ]
  },
  {
   "cell_type": "code",
   "execution_count": null,
   "metadata": {
    "id": "kaXi-OExFfj6"
   },
   "outputs": [],
   "source": [
    "session.close()\n",
    "driver.close()"
   ]
  },
  {
   "cell_type": "markdown",
   "metadata": {
    "id": "D-ZYErQTKGd2"
   },
   "source": [
    "### Additional Reference\n",
    "* [Build applications with Neo4j and Python](https://neo4j.com/docs/python-manual/current/)"
   ]
  },
  {
   "cell_type": "markdown",
   "metadata": {
    "id": "sNOPRB7rFfj9"
   },
   "source": [
    "## - END -"
   ]
  },
  {
   "cell_type": "markdown",
   "metadata": {
    "id": "RERADKgNFq9T"
   },
   "source": [
    "\n",
    "\n",
    "---\n",
    "\n",
    "\n",
    "\n",
    "---\n",
    "\n",
    "\n",
    "\n",
    "> > > > > > > > > © 2024 Institute of Data\n",
    "\n",
    "\n",
    "---\n",
    "\n",
    "\n",
    "\n",
    "---\n",
    "\n",
    "\n",
    "\n"
   ]
  }
 ],
 "metadata": {
  "colab": {
   "provenance": []
  },
  "kernelspec": {
   "display_name": "Python 3 (ipykernel)",
   "language": "python",
   "name": "python3"
  },
  "language_info": {
   "codemirror_mode": {
    "name": "ipython",
    "version": 3
   },
   "file_extension": ".py",
   "mimetype": "text/x-python",
   "name": "python",
   "nbconvert_exporter": "python",
   "pygments_lexer": "ipython3",
   "version": "3.12.4"
  }
 },
 "nbformat": 4,
 "nbformat_minor": 4
}
