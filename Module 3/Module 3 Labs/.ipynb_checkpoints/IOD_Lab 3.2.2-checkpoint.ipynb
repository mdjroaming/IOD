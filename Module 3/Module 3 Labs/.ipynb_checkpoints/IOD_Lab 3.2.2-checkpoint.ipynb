{
 "cells": [
  {
   "cell_type": "markdown",
   "metadata": {
    "id": "nOGGU7gNKck0"
   },
   "source": [
    "<div>\n",
    "<img src=https://www.institutedata.com/wp-content/uploads/2019/10/iod_h_tp_primary_c.svg width=\"300\">\n",
    "</div>"
   ]
  },
  {
   "cell_type": "markdown",
   "metadata": {
    "id": "_D_idRWZKck4"
   },
   "source": [
    "# Lab 3.2.2\n",
    "# *Mining Social Media on Reddit*"
   ]
  },
  {
   "cell_type": "markdown",
   "metadata": {
    "id": "atJ1XMr3Kck7"
   },
   "source": [
    "## The Reddit API and the PRAW Package"
   ]
  },
  {
   "cell_type": "markdown",
   "metadata": {
    "id": "aJ9o1EfAKck-"
   },
   "source": [
    "The Reddit API is rich and complex, with many endpoints (https://www.reddit.com/dev/api/). It includes methods for navigating its collections, which include various kinds of media as well as comments. Fortunately, the Python library PRAW reduces much of this complexity.\n",
    "\n",
    "Reddit requires developers to create and authenticate an app before they can use the API, but the process is much less onerous than some, and does not have waiting period for approval of new developers."
   ]
  },
  {
   "cell_type": "markdown",
   "metadata": {
    "id": "egz9IUhlKclB"
   },
   "source": [
    "### 1. Create a Reddit App\n",
    "\n",
    "Go to https://www.reddit.com/prefs/apps and click \"create an app\".\n",
    "\n",
    "Enter the following in the form:\n",
    "\n",
    "- a name for your app\n",
    "- select \"script\" radio button\n",
    "- a description\n",
    "- a redirect URI\n",
    "\n",
    "(Nb. For pulling data into a data science experiment, a local port can be used for the Redirect URI; try http://127.0.0.1:1410)\n",
    "\n",
    "\n",
    "- click \"create app\"\n",
    "- from the form that displays, copy the following to a local text file (or to this notebook):\n",
    "\n",
    "  - name (the name you gave to your app)\n",
    "  - redirect URI\n",
    "  - personal use script (this is your OAuth 2 Client ID)\n",
    "  - secret (this is your OAuth 2 Secret)"
   ]
  },
  {
   "cell_type": "markdown",
   "metadata": {
    "id": "LF9V-LJ2KclE"
   },
   "source": [
    "### 2. Register for API Access\n",
    "\n",
    "- follow the link at https://www.reddit.com/wiki/api and read the terms of use for Reddit API access\n",
    "- fill in the form fields at the bottom\n",
    "  - make sure to enter your new OAuth Client ID where indicated\n",
    "  - your use case could be something like \"Training in API usage for data science projects\"\n",
    "  - your platform could be something like \"Jupyter Notebooks / Python\"\n",
    "  \n",
    "- click \"SUBMIT\"\n",
    "\n",
    "- when asked for User-Agent, enter something that fits this pattern:\n",
    "  `your_os-python:your_reddit_appname:v1.0 (by /u/your_reddit_username)`"
   ]
  },
  {
   "cell_type": "markdown",
   "metadata": {
    "id": "JIsv8YAMKclG"
   },
   "source": [
    "### 3. Load Python Libraries"
   ]
  },
  {
   "cell_type": "code",
   "execution_count": 1,
   "metadata": {
    "colab": {
     "base_uri": "https://localhost:8080/"
    },
    "executionInfo": {
     "elapsed": 4231,
     "status": "ok",
     "timestamp": 1685516919188,
     "user": {
      "displayName": "Maheshkumar Paik",
      "userId": "02349378107593826691"
     },
     "user_tz": -480
    },
    "id": "U3ZVHsiYoubq",
    "outputId": "ab731409-5046-47f5-aeed-c7d5a5b8f4bb"
   },
   "outputs": [],
   "source": [
    "#!pip install praw"
   ]
  },
  {
   "cell_type": "code",
   "execution_count": 3,
   "metadata": {
    "id": "xqi2BT66KclI"
   },
   "outputs": [],
   "source": [
    "import praw\n",
    "import requests\n",
    "import json\n",
    "import pprint\n",
    "from datetime import datetime, date, time"
   ]
  },
  {
   "cell_type": "markdown",
   "metadata": {
    "id": "wwXaO9GPKclP"
   },
   "source": [
    "### 4. Authenticate from your Python script"
   ]
  },
  {
   "cell_type": "markdown",
   "metadata": {
    "id": "ZF5oh54RKclR"
   },
   "source": [
    "You could assign your authentication details explicitly, as follows:"
   ]
  },
  {
   "cell_type": "code",
   "execution_count": 12,
   "metadata": {
    "id": "qH2-X9juKclS"
   },
   "outputs": [],
   "source": [
    "#my_user_agent = 'XXX'   # your user Agent string goes in here\n",
    "#my_client_id = 'XXX'   # your Client ID string goes in here\n",
    "#my_client_secret = 'XXX'   # your Secret string goes in here\n",
    "\n",
    "# See JSON file"
   ]
  },
  {
   "cell_type": "markdown",
   "metadata": {
    "id": "1TmzPxHIKclX"
   },
   "source": [
    "A better way would be to store these details externally, so they are not displayed in the notebook:\n",
    "\n",
    "- create a file called \"auth_reddit.json\" in your \"notebooks\" directory, and save your credentials there in JSON format:\n",
    "\n",
    "`{   \"my_client_id\": \"your Client ID string goes in here\",` <br>\n",
    "&nbsp;&nbsp;&nbsp;&nbsp;&nbsp;&nbsp;&nbsp;&nbsp;` \"my_client_secret\": \"your Secret string goes in here\",` <br>\n",
    "&nbsp;&nbsp;&nbsp;&nbsp;&nbsp;&nbsp;&nbsp;&nbsp;`\"my_user_agent\": \"your user Agent string goes in here\"` <br>\n",
    "`}`\n",
    "\n",
    "Use the following code to load the credentials:  "
   ]
  },
  {
   "cell_type": "code",
   "execution_count": 5,
   "metadata": {
    "colab": {
     "base_uri": "https://localhost:8080/",
     "height": 35
    },
    "executionInfo": {
     "elapsed": 324,
     "status": "ok",
     "timestamp": 1685517832027,
     "user": {
      "displayName": "Maheshkumar Paik",
      "userId": "02349378107593826691"
     },
     "user_tz": -480
    },
    "id": "mFbFWGnVKclY",
    "outputId": "97c00516-ffaa-4ea3-a62f-943f12278dcf"
   },
   "outputs": [
    {
     "data": {
      "text/plain": [
       "'C:\\\\Users\\\\mdjro\\\\Documents\\\\IOD\\\\Module 3\\\\Module 3 Labs'"
      ]
     },
     "execution_count": 5,
     "metadata": {},
     "output_type": "execute_result"
    }
   ],
   "source": [
    "pwd()  # make sure your working directory is where the file is"
   ]
  },
  {
   "cell_type": "code",
   "execution_count": 7,
   "metadata": {
    "colab": {
     "base_uri": "https://localhost:8080/"
    },
    "executionInfo": {
     "elapsed": 333,
     "status": "ok",
     "timestamp": 1685518100680,
     "user": {
      "displayName": "Maheshkumar Paik",
      "userId": "02349378107593826691"
     },
     "user_tz": -480
    },
    "id": "Jc5_dh-jKclc",
    "outputId": "8b5c246d-e9aa-4713-d041-6d7257ea69af"
   },
   "outputs": [],
   "source": [
    "path_auth = 'auth_reddit.json'\n",
    "auth = json.loads(open(path_auth).read())\n",
    "pp = pprint.PrettyPrinter(indent=4)\n",
    "# For debugging only:\n",
    "\n",
    "#pp.pprint(auth)\n",
    "\n",
    "\n"
   ]
  },
  {
   "cell_type": "code",
   "execution_count": 9,
   "metadata": {
    "id": "IyPlUZ-wtRrS"
   },
   "outputs": [],
   "source": [
    "my_user_agent = auth['my_user_agent']\n",
    "my_client_id = auth['my_client_id']\n",
    "my_client_secret = auth['my_client_secret']"
   ]
  },
  {
   "cell_type": "markdown",
   "metadata": {
    "id": "lVKFy9rZKclf"
   },
   "source": [
    "Security considerations:\n",
    "- this method only keeps your credentials invisible as long as nobody else gets access to this notebook file\n",
    "- if you wanted another user to have access to the executable notebook without divulging your credentials you should set up an OAuth 2.0 workflow to let them obtain and apply their own API tokens when using your app\n",
    "- if you just want to share your analyses, you could use a separate script (which you don't share) to fetch the data and save it locally, then use a second notebook (with no API access) to load and analyse the locally stored data"
   ]
  },
  {
   "cell_type": "markdown",
   "metadata": {
    "id": "fgHqt72rKclg"
   },
   "source": [
    "### 5. Exploring the API"
   ]
  },
  {
   "cell_type": "markdown",
   "metadata": {
    "id": "ByEQS6QsKclh"
   },
   "source": [
    "Here is how to connect to Reddit with read-only access:"
   ]
  },
  {
   "cell_type": "code",
   "execution_count": 11,
   "metadata": {
    "colab": {
     "base_uri": "https://localhost:8080/"
    },
    "executionInfo": {
     "elapsed": 392,
     "status": "ok",
     "timestamp": 1685518185231,
     "user": {
      "displayName": "Maheshkumar Paik",
      "userId": "02349378107593826691"
     },
     "user_tz": -480
    },
    "id": "8hkZJlcJKcli",
    "outputId": "8e736632-b9cc-4ddd-808c-9fa125dada0f"
   },
   "outputs": [
    {
     "name": "stdout",
     "output_type": "stream",
     "text": [
      "Read-only = True\n"
     ]
    }
   ],
   "source": [
    "reddit = praw.Reddit(client_id = my_client_id,\n",
    "                     client_secret = my_client_secret,\n",
    "                     user_agent = my_user_agent)\n",
    "\n",
    "print('Read-only = ' + str(reddit.read_only))  # Output: True"
   ]
  },
  {
   "cell_type": "markdown",
   "metadata": {
    "id": "slGz0lS5Kclk"
   },
   "source": [
    "In the next cell, put the cursor after the '.' and hit the [tab] key to see the available members and methods in the response object:"
   ]
  },
  {
   "cell_type": "code",
   "execution_count": 22,
   "metadata": {
    "id": "McKdW7YGqmk3"
   },
   "outputs": [
    {
     "ename": "SyntaxError",
     "evalue": "invalid syntax (1019240351.py, line 1)",
     "output_type": "error",
     "traceback": [
      "\u001b[1;36m  Cell \u001b[1;32mIn[22], line 1\u001b[1;36m\u001b[0m\n\u001b[1;33m    reddit.\u001b[0m\n\u001b[1;37m           ^\u001b[0m\n\u001b[1;31mSyntaxError\u001b[0m\u001b[1;31m:\u001b[0m invalid syntax\n"
     ]
    }
   ],
   "source": [
    "reddit."
   ]
  },
  {
   "cell_type": "code",
   "execution_count": 13,
   "metadata": {
    "id": "poGsr4X9tv42"
   },
   "outputs": [],
   "source": [
    "subreddit_name = 'malaysia'\n",
    "subreddit = reddit.subreddit(subreddit_name)"
   ]
  },
  {
   "cell_type": "code",
   "execution_count": 15,
   "metadata": {
    "colab": {
     "base_uri": "https://localhost:8080/"
    },
    "executionInfo": {
     "elapsed": 96527,
     "status": "ok",
     "timestamp": 1685518357553,
     "user": {
      "displayName": "Maheshkumar Paik",
      "userId": "02349378107593826691"
     },
     "user_tz": -480
    },
    "id": "_iuNlRadtx9T",
    "outputId": "deee9289-d1f9-4811-eb8e-80db3438e8f1"
   },
   "outputs": [],
   "source": [
    "comments = []\n",
    "for comment in subreddit.comments(limit=1000):\n",
    "    comments.append(comment)"
   ]
  },
  {
   "cell_type": "code",
   "execution_count": 17,
   "metadata": {
    "colab": {
     "base_uri": "https://localhost:8080/"
    },
    "executionInfo": {
     "elapsed": 7,
     "status": "ok",
     "timestamp": 1685521538900,
     "user": {
      "displayName": "Maheshkumar Paik",
      "userId": "02349378107593826691"
     },
     "user_tz": -480
    },
    "id": "6MvyYewEKcll",
    "outputId": "3c40f831-334b-4f57-bd1b-d229134ae7f8"
   },
   "outputs": [
    {
     "data": {
      "text/plain": [
       "Subreddit(display_name='malaysia')"
      ]
     },
     "execution_count": 17,
     "metadata": {},
     "output_type": "execute_result"
    }
   ],
   "source": [
    "reddit.subreddit(subreddit_name)"
   ]
  },
  {
   "cell_type": "code",
   "execution_count": null,
   "metadata": {
    "id": "o5C8Bb2HtvTd"
   },
   "outputs": [],
   "source": []
  },
  {
   "cell_type": "markdown",
   "metadata": {
    "id": "AKfXBu7yKcln"
   },
   "source": [
    "Consult the PRAW and Reddit API documentation. Print a few of the response members below:"
   ]
  },
  {
   "cell_type": "code",
   "execution_count": null,
   "metadata": {
    "id": "31Njl99lKcln"
   },
   "outputs": [],
   "source": []
  },
  {
   "cell_type": "markdown",
   "metadata": {
    "id": "5L10cuKfKclp"
   },
   "source": [
    "Content in Reddit is grouped by topics called \"subreddits\". Content, called \"submissions\", is fetched by calling the `subreddit` method of the connection object (which is our `reddit` variable) with an argument that matches an actual topic.\n",
    "\n",
    "We also need to append a further method call to a \"subinstance\", such as one of the following:\n",
    "\n",
    "- controversial\n",
    "- gilded\n",
    "- hot\n",
    "- new\n",
    "- rising\n",
    "- top\n",
    "\n",
    "One of the submission objects members is `title`. Fetch and print 10 submission titles from the 'learnpython' subreddit using one of the subinstances above:"
   ]
  },
  {
   "cell_type": "code",
   "execution_count": 19,
   "metadata": {
    "colab": {
     "base_uri": "https://localhost:8080/"
    },
    "executionInfo": {
     "elapsed": 433,
     "status": "ok",
     "timestamp": 1685521546523,
     "user": {
      "displayName": "Maheshkumar Paik",
      "userId": "02349378107593826691"
     },
     "user_tz": -480
    },
    "id": "2W1iCDE9Kclp",
    "outputId": "1af1e406-d056-4cf6-da9c-e80705981b37"
   },
   "outputs": [
    {
     "name": "stdout",
     "output_type": "stream",
     "text": [
      "Ask Anything Monday - Weekly Thread\n",
      "Python memory internals: where does the stack memory for function calling exists?\n",
      "Completed a Python tutorial. What do I do next?\n",
      "list2 = list2[:] What is this?\n",
      "How to Remove Duplicate Values from a List, and Store them in ANOTHER List\n",
      "Am I not ready for leetcode?\n",
      "Looking for a coding buddy #python\n",
      "Api Creation in Fast Api Vs Django Rest Framework Vs Flask\n",
      "How to get images from a server\n",
      "Tried making my first python3 game. Didn't go so well... Can anyone give me some tips?\n"
     ]
    }
   ],
   "source": [
    "for submission in reddit.subreddit('learnpython').hot(limit=10):\n",
    "    print(submission.title)"
   ]
  },
  {
   "cell_type": "markdown",
   "metadata": {
    "id": "00coF0YJKclr"
   },
   "source": [
    "Now retrieve 10 authors:"
   ]
  },
  {
   "cell_type": "code",
   "execution_count": 21,
   "metadata": {
    "colab": {
     "base_uri": "https://localhost:8080/"
    },
    "executionInfo": {
     "elapsed": 7086,
     "status": "ok",
     "timestamp": 1685521557229,
     "user": {
      "displayName": "Maheshkumar Paik",
      "userId": "02349378107593826691"
     },
     "user_tz": -480
    },
    "id": "U1vTByCGKclr",
    "outputId": "836a8bf7-dbaa-45f2-ae11-559bee7c2744"
   },
   "outputs": [
    {
     "name": "stdout",
     "output_type": "stream",
     "text": [
      "AutoModerator\n",
      "hideo_kuze_\n",
      "Medium_Fox645\n",
      "PotooProductions\n",
      "definitely-_-human\n",
      "mattgas_\n",
      "vaardhanraju\n",
      "Working_Emphasis_271\n",
      "opalbow_adtonitus\n",
      "spirtexfer\n"
     ]
    }
   ],
   "source": [
    "for submission in reddit.subreddit('learnpython').hot(limit=10):\n",
    "    print(submission.author)"
   ]
  },
  {
   "cell_type": "markdown",
   "metadata": {
    "id": "dOFMMl6AKclt"
   },
   "source": [
    "Note that we obtained the titles and authors from separate API calls. Can we expect these to correspond to the same submissions? If not, how could we gurantee that they do?"
   ]
  },
  {
   "cell_type": "code",
   "execution_count": 23,
   "metadata": {
    "id": "eIPVr-WaKclu"
   },
   "outputs": [],
   "source": [
    "submissions=reddit.subreddit('learnpython')"
   ]
  },
  {
   "cell_type": "markdown",
   "metadata": {
    "id": "IjIJ6ojAKclv"
   },
   "source": [
    "Why doesn't the next cell produce output?"
   ]
  },
  {
   "cell_type": "code",
   "execution_count": 25,
   "metadata": {
    "colab": {
     "base_uri": "https://localhost:8080/",
     "height": 183
    },
    "executionInfo": {
     "elapsed": 6,
     "status": "error",
     "timestamp": 1685521616248,
     "user": {
      "displayName": "Maheshkumar Paik",
      "userId": "02349378107593826691"
     },
     "user_tz": -480
    },
    "id": "ifxjcJ2aKclw",
    "outputId": "7e555d2c-0489-4eaa-888d-66fe598c1bf9"
   },
   "outputs": [
    {
     "ename": "TypeError",
     "evalue": "'Subreddit' object is not iterable",
     "output_type": "error",
     "traceback": [
      "\u001b[1;31m---------------------------------------------------------------------------\u001b[0m",
      "\u001b[1;31mTypeError\u001b[0m                                 Traceback (most recent call last)",
      "Cell \u001b[1;32mIn[25], line 1\u001b[0m\n\u001b[1;32m----> 1\u001b[0m \u001b[38;5;28;01mfor\u001b[39;00m submission \u001b[38;5;129;01min\u001b[39;00m submissions:\n\u001b[0;32m      2\u001b[0m     \u001b[38;5;28mprint\u001b[39m(submission\u001b[38;5;241m.\u001b[39mcomments)\n",
      "\u001b[1;31mTypeError\u001b[0m: 'Subreddit' object is not iterable"
     ]
    }
   ],
   "source": [
    "for submission in submissions:\n",
    "    print(submission.comments)"
   ]
  },
  {
   "cell_type": "code",
   "execution_count": null,
   "metadata": {
    "id": "kPNVNapBKcly"
   },
   "outputs": [],
   "source": []
  },
  {
   "cell_type": "markdown",
   "metadata": {
    "id": "4aZ2OSd_Kclz"
   },
   "source": [
    "Print two comments associated with each of these submissions:"
   ]
  },
  {
   "cell_type": "code",
   "execution_count": 27,
   "metadata": {
    "colab": {
     "base_uri": "https://localhost:8080/"
    },
    "executionInfo": {
     "elapsed": 81419,
     "status": "ok",
     "timestamp": 1685521718870,
     "user": {
      "displayName": "Maheshkumar Paik",
      "userId": "02349378107593826691"
     },
     "user_tz": -480
    },
    "id": "RO4ppDPJKcl0",
    "outputId": "523482f9-0c62-42c2-d039-f0b34962ba26"
   },
   "outputs": [
    {
     "name": "stdout",
     "output_type": "stream",
     "text": [
      "See the PyThreadState (stack) and PyFrameObject (call frame) structures\n",
      "The python process asks the OS for memory, the OS (probably) uses virtual addressing and so exposes a single continuous chunk of memory. \n",
      "\n",
      "\n",
      "The process chooses one end of that memory to start the stack at, and starts the heap from the other end. \n",
      "\n",
      "At least that's how it's typically done.  AFAIK the language spec doesn't require any particular stack implementation, or indeed any particular memory layout at all.\n",
      "While I am aware that everybody learns at a different pace, I doubt that you were able to learn and properly understand everything from the basics up to OOP within a single tutorial. Especially when the practice part consists of following along the tutorials projects. \n",
      "\n",
      "What I would recommend is to practice on your own. Think of some smaller personal projects that you come up with and try to solve yourself without copy pasting code from GPT, Stack Overflow or similar. Try to properly understand what you do and why. This helps to internalize everything that you have learned in the tutorial. And keep in mind it is totally fine to read documentation, parts of the tutorial or something similar if you forgot some syntax or whatever ;) You could for example create some small tool that sorts your downloads folder or your desktop. \n",
      "\n",
      "Apart from just practicing I would recommend to also have a look into basic programming principles that apply to all programming languages and not only python. How to structure code, design patterns, DRY, KISS, single responsibility, testing, documenting, coupling & cohesion, ...\n",
      "\n",
      "Some people also recommend to build up some sort of portfolio on your own website or e.g. github to be able to showcase your work when applying for an internship.\n",
      "\n",
      "Hope that helps. Keep it up :)\n",
      "Try writing your own project/code without a tutorial/video guide on how to do it.\n",
      "\n",
      "If you succeed, congratulations your learning ability is awesome.\n",
      "\n",
      "My guess is 10 hours of a youtube video is not enough to understand programming in python, and you might want to brush up on things, and do some coding yourself rather than guided videos.\n",
      "Slicing returns shallow copies of the original, so `list2[:]` is making a shallow copy of `list2`. Without the slicing, `list1 = list2` makes `list2` refer to the same list that `list1` refers to.\n",
      "`list2[:]` is an oldschool way of writing `list2.copy()`\n",
      ">am having trouble comparing between the new\\_list (list1) and original\\_list (list2).\n",
      "\n",
      "What kind of trouble do you have?\n",
      "\n",
      "Also, comparing floats can be tricky (likely, not in this case, but still it can), so could you provide some more context to avoid an [XY problem](https://xyproblem.info/)?\n",
      "In the collections library is class Counter. It is a collection where elements are stored as dictionary keys and their counts are stored as dictionary values.  [https://docs.python.org/3/library/collections.html#collections.Counter](https://docs.python.org/3/library/collections.html#collections.Counter)\n",
      "\n",
      "You can use this to count all of the items in the list.  You can then use a list comprehension to find all items with a count greater than one to create the output.\n",
      "\n",
      "    import collections\n",
      "    \n",
      "    original_list = [12.0, 13.0, 14.0, 15.0, 18.0, 20.0, 12.0, 24.0, 25.0, 26.0, 17.0, 19.0, 21.0, 13.0, 27.0]\n",
      "    \n",
      "    ol_counter = collections.Counter(original_list)\n",
      "    repeats = [k for k,v in ol_counter.items() if v > 1]\n",
      "    print(repeats)\n",
      "find out why you got your ass whooped, solve for it, go back to get your ass whooped again and repeat it until you’re interview ready. \n",
      "\n",
      "this is the process of scott h young’s “ultralearning” if you’re interested.\n",
      "So like leetcode isn’t programming, it’s solved algorithm, and sometimes language specific optimization. \n",
      "\n",
      "It’s not about finishing leetcode, you’re really not supposed to. \n",
      "\n",
      "If you’re confused about the solutions you look up…well trying looking that up. \n",
      "\n",
      "The ‘self’ argument for example is like this.\n",
      "\n",
      "One sec I wrote this up\n",
      "r/ProgrammingBuddies is a better sub for this pal.\n",
      "I’m currently finishing mooc. Post that I’ll start leetcode.\n",
      "I really like fast api myself. I havnt used flask for api building specifically but its not too bad either. I’d highly suggest trying fast api and seeing how you like it. A basic crud api will be less than 100 lines of code\n",
      "I personally like django because of its connectivity\n",
      "HTTP is fine for this, there’s no reason to use anything else\n",
      "So run a http server for the images? Im using SSL as its setup for people to create accounts and log in with a password so wanted to use a secure session that also remained active to handle all the communication with the individuals.\n",
      "\n",
      "How would you do this with html\n",
      "This looks like code from someone that’s learning and doesn’t know enough of the language to use effectively. In about a month or so you’re gonna be embarrassed by this post a lot. (Happens to everyone…it reminds me of myself in a lot of ways. \n",
      "\n",
      "It’s actually sort of impressive that you did something like this without defining many function, or use any datatype beyond a string and an int. And it weird your nesting some of these functions inside of start_game() for no apparent reason other then “it works I guess”. \n",
      "\n",
      "There is just so much to improve that it’s not really worth it to go through the code. \n",
      "\n",
      "You need to learn about list, dicts and tuples. You have everyone defined as a single varible and there are times you are acting like they are lists…spell1, spell2, spell3 should be spells = [“fireball”, “ice”,…]\n",
      "\n",
      "For example. \n",
      "        \n",
      "        if selection_read == 1:\n",
      "             print(“Option1”)\n",
      "        elif selection_read == 2:\n",
      "             print(“Option2”)\n",
      "        ….\n",
      "\n",
      "Can be done completely like this \n",
      "\n",
      "       options = [“Option0”, “Option1”, “Option2”,…]\n",
      "       print(options[selection_read])\n",
      "\n",
      "We can nest it in dictionaries.\n",
      "\n",
      "       plot = {“scenario1” : {“choices” : [“option0”…]}, “scnario2”: {…}}\n",
      "       print(plot[scene_atm][“choices”][int(user_input)])  \n",
      " \n",
      "There is so much of you trying to make a dictionary here…you just didn’t know that’s what it was…I’ve 150% been there. \n",
      "\n",
      "making the for…loop more correct…\n",
      "\n",
      "       for index, option in enumerate(options):\n",
      "             print(f”{index}. {option}”) \n",
      "\n",
      "Utilizing this should cut the code size down by half.  While making expansions and different versions much more manageable.\n",
      "\n",
      "Your mind is going to be blown by how much your hard coding stuff that are built into some of these datatypes. You even make a len()…which is ridiculous, yet somehow inspiring. You trying to make stuff that’s already there as you need it, google works man. \n",
      "\n",
      "You’ve somehow fallen into the Globals trap…I honestly never understand how beginner simply just run to it, it really shouldn’t be introduced to you before…dictionaries and lists. And even after that should be heavily avoided (I can’t remember a single time I needed a global). These Globals should be passed arguments into your functions. My advice is to pretend Globals don’t exist, that usually how I just operate.\n",
      "\n",
      "Your functions are too long period. It’s hard to follow you should be breaking them up into much much smaller functions. They should be doing basically a single task each, or be ordering multiple tasks/functions in a main()/flow()/process() I think you haven’t realized what the keyword ‘return’ does, as it’s noticeably absent from this code. \n",
      "\n",
      "The real problem here is datatype ignorance, I have to say again. You can group information/data together inside a list or dictionary. Once you have a firmer grasp over that, and how to break up your functions into more manageable chunks, you’ll be fine. Trust me, when you give a hard look at list and dictionaries you’re gonna be “well that would have been nice to know before all this.” Then you’ll find out about classes which is all that plus custom functionality. \n",
      "\n",
      "      spell1 = ‘fireball (25 DMG 20 CD)’\n",
      "\n",
      "This does not want to be string, I think some of you knows this. It wants to be a NamedTuple, or class. (It’s almost formatted correctly for it lol, and I know you thought about the format of those.) \n",
      "\n",
      "      from collections import namedtuple\n",
      "      import random \n",
      "      import time\n",
      "\n",
      "      Spell = namedtuple(“Spell”, [“name”, “DMG”, “CD”])\n",
      "\n",
      "      my_spells = [\n",
      "            Spell(“Fire”, 10, 5), \n",
      "            Spell(“Ice”, 8, 3),\n",
      "            Spell(“Explosion”, 9001, 9001),\n",
      "             …]\n",
      "\n",
      "      _spell = random.choice(my_spells)\n",
      "      print(f”{_spell.name} did {_spell.DMG) damage”)\n",
      "      time.wait(_spell.CD) #seconds\n",
      "\n",
      "Don’t worry OP if you think this code is above you, it probably is not what you’d just come up with. But I think you see what it’s doing, and how’d it help. \n",
      "        \n",
      "Your problem isn’t the design and isn’t the process your doing, I think this program has already been a learning experience to you, it’s just your not being pointed to the tools available that you need to do this better. You just don’t know the tools well enough yet, so you built with what you did know, which is admirable. **You saw what was possible and did it**, no one can take that from you, now let’s clean it up (refactor).\n",
      "```\n",
      "           def attackChoice():\n",
      "                global weapon\n",
      "                global Patk\n",
      "                global Pstr\n",
      "                global spell1\n",
      "                global spell2\n",
      "                global spell3\n",
      "                global CD1\n",
      "                global CD2\n",
      "                global CD3\n",
      "```\n",
      "\n",
      "Tip 1: Stop using global variables, use function arguments and return values.\n"
     ]
    }
   ],
   "source": [
    "submissions = reddit.subreddit('learnpython').hot(limit=10)\n",
    "for submission in submissions:\n",
    "    top_level_comments = list(submission.comments)\n",
    "    all_comments = submission.comments.list()[:2]\n",
    "    for comment in all_comments:\n",
    "        print(comment.body)"
   ]
  },
  {
   "cell_type": "markdown",
   "metadata": {
    "id": "JvYEOesKKcl2"
   },
   "source": [
    "Referring to the API documentation, explore the submissions object and print some interesting data:"
   ]
  },
  {
   "cell_type": "code",
   "execution_count": null,
   "metadata": {
    "id": "glEShYZbKcl3"
   },
   "outputs": [],
   "source": []
  },
  {
   "cell_type": "markdown",
   "metadata": {
    "id": "Khno5kpWKcl5"
   },
   "source": [
    "#### Posting to Reddit"
   ]
  },
  {
   "cell_type": "markdown",
   "metadata": {
    "id": "zjnyN1OfKcl6"
   },
   "source": [
    "To be able to post to your Reddit account (i.e. contribute submissions), you need to connect to the API with read/write privilege. This requires an *authorised instance*, which is obtained by including your Reddit user name and password in the connection request:"
   ]
  },
  {
   "cell_type": "code",
   "execution_count": 29,
   "metadata": {
    "colab": {
     "base_uri": "https://localhost:8080/"
    },
    "executionInfo": {
     "elapsed": 12,
     "status": "ok",
     "timestamp": 1685521718870,
     "user": {
      "displayName": "Maheshkumar Paik",
      "userId": "02349378107593826691"
     },
     "user_tz": -480
    },
    "id": "ZXG7kouZKcl7",
    "outputId": "5afb108d-aab6-4bb9-af3e-8329d75b1c72"
   },
   "outputs": [
    {
     "name": "stdout",
     "output_type": "stream",
     "text": [
      "False\n"
     ]
    }
   ],
   "source": [
    "reddit = praw.Reddit(client_id='my client id',\n",
    "                     client_secret='my client secret',\n",
    "                     user_agent='my user agent',\n",
    "                     username='my username',\n",
    "                     password='my password')\n",
    "print(reddit.read_only)  # Output: False"
   ]
  },
  {
   "cell_type": "markdown",
   "metadata": {
    "id": "nEjrsF9vKcl-"
   },
   "source": [
    "You could hide these last two credentials by adding them to your JSON file and then reading all five values at once."
   ]
  },
  {
   "cell_type": "code",
   "execution_count": null,
   "metadata": {
    "id": "BVcbR0K1Kcl_"
   },
   "outputs": [],
   "source": []
  },
  {
   "cell_type": "markdown",
   "metadata": {
    "id": "WqBG4xS5Kk3X"
   },
   "source": [
    ">\n",
    ">\n"
   ]
  },
  {
   "cell_type": "markdown",
   "metadata": {
    "id": "EfPDz2gEKnRn"
   },
   "source": [
    ">\n",
    ">\n"
   ]
  },
  {
   "cell_type": "markdown",
   "metadata": {
    "id": "5Uo-KnYhKoRA"
   },
   "source": [
    "\n",
    "\n",
    "---\n",
    "\n",
    "\n",
    "\n",
    "---\n",
    "\n",
    "\n",
    "\n",
    "> > > > > > > > > © 2024 Institute of Data\n",
    "\n",
    "\n",
    "---\n",
    "\n",
    "\n",
    "\n",
    "---\n",
    "\n",
    "\n",
    "\n"
   ]
  }
 ],
 "metadata": {
  "colab": {
   "provenance": []
  },
  "kernelspec": {
   "display_name": "Python 3 (ipykernel)",
   "language": "python",
   "name": "python3"
  },
  "language_info": {
   "codemirror_mode": {
    "name": "ipython",
    "version": 3
   },
   "file_extension": ".py",
   "mimetype": "text/x-python",
   "name": "python",
   "nbconvert_exporter": "python",
   "pygments_lexer": "ipython3",
   "version": "3.12.4"
  }
 },
 "nbformat": 4,
 "nbformat_minor": 4
}
