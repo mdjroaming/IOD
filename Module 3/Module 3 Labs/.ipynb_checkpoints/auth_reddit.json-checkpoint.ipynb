{
 "cells": [
  {
   "cell_type": "code",
   "execution_count": null,
   "id": "e8e050d5-9ad0-49ab-baf3-8620a308ffee",
   "metadata": {},
   "outputs": [],
   "source": [
    "{   \"my_client_id\": \"5dQ6cjBjj5JNYmo0OK7DUA\",\n",
    "         \"my_client_secret\": \"gN3oqc0mxkme2n01h2BjySmkbtBH6A\",\n",
    "        \"my_user_agent\": \"windows-python:shelley app:v1.0 (by /u/shelley app)\"\n",
    "}"
   ]
  }
 ],
 "metadata": {
  "kernelspec": {
   "display_name": "Python 3 (ipykernel)",
   "language": "python",
   "name": "python3"
  },
  "language_info": {
   "codemirror_mode": {
    "name": "ipython",
    "version": 3
   },
   "file_extension": ".py",
   "mimetype": "text/x-python",
   "name": "python",
   "nbconvert_exporter": "python",
   "pygments_lexer": "ipython3",
   "version": "3.12.4"
  }
 },
 "nbformat": 4,
 "nbformat_minor": 5
}
