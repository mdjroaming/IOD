{
 "cells": [
  {
   "cell_type": "markdown",
   "metadata": {
    "id": "2H4rNmz9QMoq"
   },
   "source": [
    "<div>\n",
    "<img src=https://www.institutedata.com/wp-content/uploads/2019/10/iod_h_tp_primary_c.svg width=\"300\">\n",
    "</div>"
   ]
  },
  {
   "cell_type": "markdown",
   "metadata": {
    "id": "-z0xtWELQMot"
   },
   "source": [
    "# Lab 3.2.3\n",
    "# *The Google BigQuery UI and API*"
   ]
  },
  {
   "cell_type": "markdown",
   "metadata": {
    "id": "Fyl3eBVAQMox"
   },
   "source": [
    "## Introduction"
   ]
  },
  {
   "cell_type": "markdown",
   "metadata": {
    "id": "xDR6T_maQMo0"
   },
   "source": [
    "The Google BigQuery UI provides access to Google's extensive collection of public data sets via an SQL-based query engine.\n",
    "\n",
    "The BigQuery API provides programmatic access to the data sets.\n",
    "\n",
    "We can use the UI to discover interesting data before writing Python code to access it. Then we can reproduce it in an API request so as to aggregate large amounts of data on Google's infrastructure before pulling the results into our application."
   ]
  },
  {
   "cell_type": "markdown",
   "metadata": {
    "id": "g2EqZVSGQMo3"
   },
   "source": [
    "## BigQuery Web UI\n",
    "\n",
    "Work through the Quickstart at https://cloud.google.com/bigquery/docs/quickstarts/quickstart-web-ui.\n",
    "\n",
    "You will need to set up a Google Cloud Platform account if you don't already have one. (This should not cost anything during the trial period unless you perform a large amount of querying. Afterwards, costs are based on actual resource usage, but most offerings have a free tier.)"
   ]
  },
  {
   "cell_type": "markdown",
   "metadata": {
    "id": "JM7ACBFEQMo6"
   },
   "source": [
    "## BigQuery API\n",
    "\n",
    "You should already have the Google Cloud Client Library for Python installed (https://cloud.google.com/python/setup).\n",
    "\n",
    "- Open Google Cloud Console (https://console.cloud.google.com/home/) and select to create a project.\n",
    "\n",
    "\n",
    "- Under \"Getting Started\", select \"Enable APIs and get credentials such as keys\"."
   ]
  },
  {
   "cell_type": "markdown",
   "metadata": {
    "id": "F10iMkipQMo9"
   },
   "source": [
    "- In the API table, make sure the BigQuery API is enabled. Page back."
   ]
  },
  {
   "cell_type": "markdown",
   "metadata": {
    "id": "peKoqVLaQMpA"
   },
   "source": [
    "### Authentication\n",
    "\n",
    "Go to https://cloud.google.com/iam/docs/creating-managing-service-account-keys and follow the instructions under \"Create a service account key\" to create a service account."
   ]
  },
  {
   "cell_type": "markdown",
   "metadata": {
    "id": "RprZFRn6QMpB"
   },
   "source": [
    "- Fill out the form, giving the account an appropriate name, and choose \"Project Owner\" for Account Type.\n",
    "\n",
    "- Click \"Create\"."
   ]
  },
  {
   "cell_type": "markdown",
   "metadata": {
    "id": "Vs9LutadQMpD"
   },
   "source": [
    "- The keys will get saved to your computer.\n",
    "\n",
    "- Note the location and copy the file path (of the json file) to somewhere safe, for future reference."
   ]
  },
  {
   "cell_type": "markdown",
   "metadata": {
    "id": "F4c4B7yHQMpH"
   },
   "source": [
    "- See here for more information:\n",
    "\n",
    "https://cloud.google.com/iam/docs/understanding-service-accounts?&_ga=2.173177830.-495703703.1532572448#managing_service_account_keys"
   ]
  },
  {
   "cell_type": "markdown",
   "metadata": {
    "id": "LycUcpuhQMpK"
   },
   "source": [
    "### Using the Python API\n",
    "\n",
    "Google provides Python libraries for wrapping the Google APIs. For conda users, these are available on the \"conda-forge\" channel. (There are other Python libraries for Google APIs, possibly adding novel features or ease of use, but Google's is presumably the most current.)\n",
    "\n",
    "(Installing the \"google-cloud-storage\" and \"google-cloud-bigquery\" libraries should cover all the dependencies for this lab.)"
   ]
  },
  {
   "cell_type": "code",
   "execution_count": 1,
   "metadata": {
    "executionInfo": {
     "elapsed": 4336,
     "status": "ok",
     "timestamp": 1722055301620,
     "user": {
      "displayName": "Maheshkumar Paik",
      "userId": "02349378107593826691"
     },
     "user_tz": -480
    },
    "id": "eKCOlUl8QMpL"
   },
   "outputs": [],
   "source": [
    "from google.cloud import bigquery\n",
    "from google.cloud.bigquery import Dataset\n",
    "from google.cloud import storage"
   ]
  },
  {
   "cell_type": "markdown",
   "metadata": {
    "id": "sJfytyHnQMpZ"
   },
   "source": [
    "Invoke a method of the `.Client` object that takes the path to your key files as a string argument:"
   ]
  },
  {
   "cell_type": "code",
   "execution_count": 4,
   "metadata": {
    "executionInfo": {
     "elapsed": 366,
     "status": "ok",
     "timestamp": 1722055609695,
     "user": {
      "displayName": "Maheshkumar Paik",
      "userId": "02349378107593826691"
     },
     "user_tz": -480
    },
    "id": "-L6z5aQRQMpZ"
   },
   "outputs": [],
   "source": [
    "key_path = '/content/automate-api-418103-b3ce3a74307a.json'          #: This file should contain your key path"
   ]
  },
  {
   "cell_type": "markdown",
   "metadata": {
    "id": "00HRXCrbQMpb"
   },
   "source": [
    "This should not throw an error if key retrieval / assignment worked:"
   ]
  },
  {
   "cell_type": "code",
   "execution_count": 5,
   "metadata": {
    "executionInfo": {
     "elapsed": 385,
     "status": "ok",
     "timestamp": 1722055614229,
     "user": {
      "displayName": "Maheshkumar Paik",
      "userId": "02349378107593826691"
     },
     "user_tz": -480
    },
    "id": "EaI5dybYQMpc"
   },
   "outputs": [],
   "source": [
    "storage_client = storage.Client.from_service_account_json(key_path)"
   ]
  },
  {
   "cell_type": "markdown",
   "metadata": {
    "id": "XyF90p35QMpf"
   },
   "source": [
    "*Nb. The `storage` object was used in the above example, but there are other objects of interest that have polymorphic `Client` members that are used similarly, such as `bigquery`, which is used below.*"
   ]
  },
  {
   "cell_type": "markdown",
   "metadata": {
    "id": "U2ejMLo5QMpj"
   },
   "source": [
    "Next, execute this:"
   ]
  },
  {
   "cell_type": "code",
   "execution_count": 6,
   "metadata": {
    "executionInfo": {
     "elapsed": 335,
     "status": "ok",
     "timestamp": 1722055620947,
     "user": {
      "displayName": "Maheshkumar Paik",
      "userId": "02349378107593826691"
     },
     "user_tz": -480
    },
    "id": "Lwfj-eI5QMpk"
   },
   "outputs": [],
   "source": [
    "client = bigquery.Client.from_service_account_json(key_path)"
   ]
  },
  {
   "cell_type": "code",
   "execution_count": 5,
   "metadata": {
    "executionInfo": {
     "elapsed": 358,
     "status": "ok",
     "timestamp": 1722055617979,
     "user": {
      "displayName": "Maheshkumar Paik",
      "userId": "02349378107593826691"
     },
     "user_tz": -480
    },
    "id": "JnTh9B3Kg2i5"
   },
   "outputs": [],
   "source": []
  },
  {
   "cell_type": "markdown",
   "metadata": {
    "id": "vpF3Gu-iQMpm"
   },
   "source": [
    "This client is associated with the default project (which was set or defaulted in the BigQuery UI):"
   ]
  },
  {
   "cell_type": "code",
   "execution_count": 7,
   "metadata": {
    "colab": {
     "base_uri": "https://localhost:8080/",
     "height": 35
    },
    "executionInfo": {
     "elapsed": 357,
     "status": "ok",
     "timestamp": 1722055624286,
     "user": {
      "displayName": "Maheshkumar Paik",
      "userId": "02349378107593826691"
     },
     "user_tz": -480
    },
    "id": "kO2v-luMQMpn",
    "outputId": "a45fd508-8c6f-439a-eb87-368c88329dc8"
   },
   "outputs": [
    {
     "data": {
      "application/vnd.google.colaboratory.intrinsic+json": {
       "type": "string"
      },
      "text/plain": [
       "'automate-api-418103'"
      ]
     },
     "execution_count": 7,
     "metadata": {},
     "output_type": "execute_result"
    }
   ],
   "source": [
    "client.project"
   ]
  },
  {
   "cell_type": "markdown",
   "metadata": {
    "id": "w_pX9XbnQMpr"
   },
   "source": [
    "A BigQuery project contains datasets. Datasets contain tables. To get at the data in a table we need to create a reference that covers this hierarchy; in the `bigquery` library this looks like `project.dataset.table`.  \n",
    "\n",
    "(Nb. Queries can be performed on projects and datasets, but most queries are performed on tables.)"
   ]
  },
  {
   "cell_type": "markdown",
   "metadata": {
    "id": "JyJVwEuyQMps"
   },
   "source": [
    "To explore the public datasets we will start by reassigning our `client` variable using optional `project` parameter (set to `bigquery-public-data`):"
   ]
  },
  {
   "cell_type": "code",
   "execution_count": 8,
   "metadata": {
    "colab": {
     "base_uri": "https://localhost:8080/"
    },
    "executionInfo": {
     "elapsed": 4,
     "status": "ok",
     "timestamp": 1722055627711,
     "user": {
      "displayName": "Maheshkumar Paik",
      "userId": "02349378107593826691"
     },
     "user_tz": -480
    },
    "id": "cqpyCYo5QMps",
    "outputId": "a8a35170-a54e-49ff-efc2-1a5e838844b4"
   },
   "outputs": [
    {
     "name": "stdout",
     "output_type": "stream",
     "text": [
      "bigquery-public-data\n"
     ]
    }
   ],
   "source": [
    "#project = 'bigquery-public-data'\n",
    "client = bigquery.Client.from_service_account_json(key_path, project = 'bigquery-public-data')\n",
    "print(client.project)"
   ]
  },
  {
   "cell_type": "markdown",
   "metadata": {
    "id": "MLI1MOiqQMpw"
   },
   "source": [
    "Here is how to get a list of the datasets in the current project:"
   ]
  },
  {
   "cell_type": "code",
   "execution_count": 9,
   "metadata": {
    "colab": {
     "base_uri": "https://localhost:8080/"
    },
    "executionInfo": {
     "elapsed": 6133,
     "status": "ok",
     "timestamp": 1722055637145,
     "user": {
      "displayName": "Maheshkumar Paik",
      "userId": "02349378107593826691"
     },
     "user_tz": -480
    },
    "id": "_81SBSwKQMpx",
    "outputId": "c1227fe6-c0cd-4898-bc6c-267f821e9eb5"
   },
   "outputs": [
    {
     "name": "stdout",
     "output_type": "stream",
     "text": [
      "[<google.cloud.bigquery.dataset.DatasetListItem object at 0x7be493bbde10>, <google.cloud.bigquery.dataset.DatasetListItem object at 0x7be493bbe0e0>, <google.cloud.bigquery.dataset.DatasetListItem object at 0x7be493bbcee0>, <google.cloud.bigquery.dataset.DatasetListItem object at 0x7be493bbd210>, <google.cloud.bigquery.dataset.DatasetListItem object at 0x7be493bbeda0>, <google.cloud.bigquery.dataset.DatasetListItem object at 0x7be493bbedd0>, <google.cloud.bigquery.dataset.DatasetListItem object at 0x7be493bbf0a0>, <google.cloud.bigquery.dataset.DatasetListItem object at 0x7be493bbcd30>, <google.cloud.bigquery.dataset.DatasetListItem object at 0x7be493bbcd60>, <google.cloud.bigquery.dataset.DatasetListItem object at 0x7be493bbc5b0>, <google.cloud.bigquery.dataset.DatasetListItem object at 0x7be493bbfaf0>, <google.cloud.bigquery.dataset.DatasetListItem object at 0x7be493bbcaf0>, <google.cloud.bigquery.dataset.DatasetListItem object at 0x7be493bbd2d0>, <google.cloud.bigquery.dataset.DatasetListItem object at 0x7be493bbd300>, <google.cloud.bigquery.dataset.DatasetListItem object at 0x7be493bbcc10>, <google.cloud.bigquery.dataset.DatasetListItem object at 0x7be493bbc910>, <google.cloud.bigquery.dataset.DatasetListItem object at 0x7be493bbca30>, <google.cloud.bigquery.dataset.DatasetListItem object at 0x7be493bbcbe0>, <google.cloud.bigquery.dataset.DatasetListItem object at 0x7be493bbcbb0>, <google.cloud.bigquery.dataset.DatasetListItem object at 0x7be493bbcac0>, <google.cloud.bigquery.dataset.DatasetListItem object at 0x7be493bbc940>, <google.cloud.bigquery.dataset.DatasetListItem object at 0x7be493bbfa30>, <google.cloud.bigquery.dataset.DatasetListItem object at 0x7be493bbf970>, <google.cloud.bigquery.dataset.DatasetListItem object at 0x7be493bbef20>, <google.cloud.bigquery.dataset.DatasetListItem object at 0x7be493bbc8b0>, <google.cloud.bigquery.dataset.DatasetListItem object at 0x7be493bbfa60>, <google.cloud.bigquery.dataset.DatasetListItem object at 0x7be493bbfa00>, <google.cloud.bigquery.dataset.DatasetListItem object at 0x7be493bbdb70>, <google.cloud.bigquery.dataset.DatasetListItem object at 0x7be493bbe5c0>, <google.cloud.bigquery.dataset.DatasetListItem object at 0x7be493bbc370>, <google.cloud.bigquery.dataset.DatasetListItem object at 0x7be493bbccd0>, <google.cloud.bigquery.dataset.DatasetListItem object at 0x7be493bbcca0>, <google.cloud.bigquery.dataset.DatasetListItem object at 0x7be493bbcd00>, <google.cloud.bigquery.dataset.DatasetListItem object at 0x7be493bbd9c0>, <google.cloud.bigquery.dataset.DatasetListItem object at 0x7be493bbd510>, <google.cloud.bigquery.dataset.DatasetListItem object at 0x7be493bbd570>, <google.cloud.bigquery.dataset.DatasetListItem object at 0x7be493bbd630>, <google.cloud.bigquery.dataset.DatasetListItem object at 0x7be493bbd5a0>, <google.cloud.bigquery.dataset.DatasetListItem object at 0x7be493bbd660>, <google.cloud.bigquery.dataset.DatasetListItem object at 0x7be493bbd6f0>, <google.cloud.bigquery.dataset.DatasetListItem object at 0x7be493bbd750>, <google.cloud.bigquery.dataset.DatasetListItem object at 0x7be493bbd810>, <google.cloud.bigquery.dataset.DatasetListItem object at 0x7be493bbd7e0>, <google.cloud.bigquery.dataset.DatasetListItem object at 0x7be493bbd870>, <google.cloud.bigquery.dataset.DatasetListItem object at 0x7be493bbd8d0>, <google.cloud.bigquery.dataset.DatasetListItem object at 0x7be493bbc400>, <google.cloud.bigquery.dataset.DatasetListItem object at 0x7be493bbc040>, <google.cloud.bigquery.dataset.DatasetListItem object at 0x7be493bbc0a0>, <google.cloud.bigquery.dataset.DatasetListItem object at 0x7be493bbc2b0>, <google.cloud.bigquery.dataset.DatasetListItem object at 0x7be493bbc250>, <google.cloud.bigquery.dataset.DatasetListItem object at 0x7be493bbde70>, <google.cloud.bigquery.dataset.DatasetListItem object at 0x7be493bbc2e0>, <google.cloud.bigquery.dataset.DatasetListItem object at 0x7be493bbc130>, <google.cloud.bigquery.dataset.DatasetListItem object at 0x7be493bbe860>, <google.cloud.bigquery.dataset.DatasetListItem object at 0x7be493bbe830>, <google.cloud.bigquery.dataset.DatasetListItem object at 0x7be493bbead0>, <google.cloud.bigquery.dataset.DatasetListItem object at 0x7be493bbe770>, <google.cloud.bigquery.dataset.DatasetListItem object at 0x7be493bbe920>, <google.cloud.bigquery.dataset.DatasetListItem object at 0x7be493bbd990>, <google.cloud.bigquery.dataset.DatasetListItem object at 0x7be493bbe9e0>, <google.cloud.bigquery.dataset.DatasetListItem object at 0x7be493bbe740>, <google.cloud.bigquery.dataset.DatasetListItem object at 0x7be493bbebc0>, <google.cloud.bigquery.dataset.DatasetListItem object at 0x7be493bbfbb0>, <google.cloud.bigquery.dataset.DatasetListItem object at 0x7be493bbe7d0>, <google.cloud.bigquery.dataset.DatasetListItem object at 0x7be493bbc160>, <google.cloud.bigquery.dataset.DatasetListItem object at 0x7be493bbeb60>, <google.cloud.bigquery.dataset.DatasetListItem object at 0x7be493bbfb50>, <google.cloud.bigquery.dataset.DatasetListItem object at 0x7be493bbea70>, <google.cloud.bigquery.dataset.DatasetListItem object at 0x7be493bbf940>, <google.cloud.bigquery.dataset.DatasetListItem object at 0x7be493bbf8b0>, <google.cloud.bigquery.dataset.DatasetListItem object at 0x7be493bbf910>, <google.cloud.bigquery.dataset.DatasetListItem object at 0x7be493bbef80>, <google.cloud.bigquery.dataset.DatasetListItem object at 0x7be493bbef50>, <google.cloud.bigquery.dataset.DatasetListItem object at 0x7be493bbf370>, <google.cloud.bigquery.dataset.DatasetListItem object at 0x7be493bbf3a0>, <google.cloud.bigquery.dataset.DatasetListItem object at 0x7be493bbf100>, <google.cloud.bigquery.dataset.DatasetListItem object at 0x7be493bbf160>, <google.cloud.bigquery.dataset.DatasetListItem object at 0x7be493bbf1c0>, <google.cloud.bigquery.dataset.DatasetListItem object at 0x7be493bbf220>, <google.cloud.bigquery.dataset.DatasetListItem object at 0x7be493bbf2b0>, <google.cloud.bigquery.dataset.DatasetListItem object at 0x7be493bbf2e0>, <google.cloud.bigquery.dataset.DatasetListItem object at 0x7be493bbf070>, <google.cloud.bigquery.dataset.DatasetListItem object at 0x7be493bbf400>, <google.cloud.bigquery.dataset.DatasetListItem object at 0x7be493bbf4c0>, <google.cloud.bigquery.dataset.DatasetListItem object at 0x7be493bbf6d0>, <google.cloud.bigquery.dataset.DatasetListItem object at 0x7be493bbf670>, <google.cloud.bigquery.dataset.DatasetListItem object at 0x7be493bbf5e0>, <google.cloud.bigquery.dataset.DatasetListItem object at 0x7be493bbf550>, <google.cloud.bigquery.dataset.DatasetListItem object at 0x7be493bbf6a0>, <google.cloud.bigquery.dataset.DatasetListItem object at 0x7be493bbf7f0>, <google.cloud.bigquery.dataset.DatasetListItem object at 0x7be493bbf850>, <google.cloud.bigquery.dataset.DatasetListItem object at 0x7be493bbffd0>, <google.cloud.bigquery.dataset.DatasetListItem object at 0x7be493bbff70>, <google.cloud.bigquery.dataset.DatasetListItem object at 0x7be493bbfdf0>, <google.cloud.bigquery.dataset.DatasetListItem object at 0x7be493bbfd30>, <google.cloud.bigquery.dataset.DatasetListItem object at 0x7be493bbfcd0>, <google.cloud.bigquery.dataset.DatasetListItem object at 0x7be493bbfe80>, <google.cloud.bigquery.dataset.DatasetListItem object at 0x7be4c6dd4370>, <google.cloud.bigquery.dataset.DatasetListItem object at 0x7be4c6dd40a0>, <google.cloud.bigquery.dataset.DatasetListItem object at 0x7be493ce2530>, <google.cloud.bigquery.dataset.DatasetListItem object at 0x7be4c469caf0>, <google.cloud.bigquery.dataset.DatasetListItem object at 0x7be493bbcd90>, <google.cloud.bigquery.dataset.DatasetListItem object at 0x7be493ce24d0>, <google.cloud.bigquery.dataset.DatasetListItem object at 0x7be493ce2380>, <google.cloud.bigquery.dataset.DatasetListItem object at 0x7be493ce2350>, <google.cloud.bigquery.dataset.DatasetListItem object at 0x7be493ce23e0>, <google.cloud.bigquery.dataset.DatasetListItem object at 0x7be493ce2440>, <google.cloud.bigquery.dataset.DatasetListItem object at 0x7be493ce2110>, <google.cloud.bigquery.dataset.DatasetListItem object at 0x7be493ce2170>, <google.cloud.bigquery.dataset.DatasetListItem object at 0x7be493ce20b0>, <google.cloud.bigquery.dataset.DatasetListItem object at 0x7be493ce1fc0>, <google.cloud.bigquery.dataset.DatasetListItem object at 0x7be493ce21d0>, <google.cloud.bigquery.dataset.DatasetListItem object at 0x7be493ce2080>, <google.cloud.bigquery.dataset.DatasetListItem object at 0x7be493ce2200>, <google.cloud.bigquery.dataset.DatasetListItem object at 0x7be493ce2260>, <google.cloud.bigquery.dataset.DatasetListItem object at 0x7be493ce1e10>, <google.cloud.bigquery.dataset.DatasetListItem object at 0x7be493ce22c0>, <google.cloud.bigquery.dataset.DatasetListItem object at 0x7be493ce1ed0>, <google.cloud.bigquery.dataset.DatasetListItem object at 0x7be493ce1d50>, <google.cloud.bigquery.dataset.DatasetListItem object at 0x7be493ce1f30>, <google.cloud.bigquery.dataset.DatasetListItem object at 0x7be493ce1f60>, <google.cloud.bigquery.dataset.DatasetListItem object at 0x7be493ce1cf0>, <google.cloud.bigquery.dataset.DatasetListItem object at 0x7be493ce1cc0>, <google.cloud.bigquery.dataset.DatasetListItem object at 0x7be493ce1c90>, <google.cloud.bigquery.dataset.DatasetListItem object at 0x7be493ce2590>, <google.cloud.bigquery.dataset.DatasetListItem object at 0x7be493ce2680>, <google.cloud.bigquery.dataset.DatasetListItem object at 0x7be493ce2620>, <google.cloud.bigquery.dataset.DatasetListItem object at 0x7be493ce25c0>, <google.cloud.bigquery.dataset.DatasetListItem object at 0x7be493ce0ee0>, <google.cloud.bigquery.dataset.DatasetListItem object at 0x7be493ce1840>, <google.cloud.bigquery.dataset.DatasetListItem object at 0x7be493ce1810>, <google.cloud.bigquery.dataset.DatasetListItem object at 0x7be493ce16c0>, <google.cloud.bigquery.dataset.DatasetListItem object at 0x7be493ce15a0>, <google.cloud.bigquery.dataset.DatasetListItem object at 0x7be493ce1540>, <google.cloud.bigquery.dataset.DatasetListItem object at 0x7be493ce1630>, <google.cloud.bigquery.dataset.DatasetListItem object at 0x7be493ce1690>, <google.cloud.bigquery.dataset.DatasetListItem object at 0x7be493ce1720>, <google.cloud.bigquery.dataset.DatasetListItem object at 0x7be493ce1750>, <google.cloud.bigquery.dataset.DatasetListItem object at 0x7be493ce1480>, <google.cloud.bigquery.dataset.DatasetListItem object at 0x7be493ce14e0>, <google.cloud.bigquery.dataset.DatasetListItem object at 0x7be493ce13c0>, <google.cloud.bigquery.dataset.DatasetListItem object at 0x7be493ce1390>, <google.cloud.bigquery.dataset.DatasetListItem object at 0x7be493ce1330>, <google.cloud.bigquery.dataset.DatasetListItem object at 0x7be493ce1210>, <google.cloud.bigquery.dataset.DatasetListItem object at 0x7be493ce11b0>, <google.cloud.bigquery.dataset.DatasetListItem object at 0x7be493ce1150>, <google.cloud.bigquery.dataset.DatasetListItem object at 0x7be493ce10f0>, <google.cloud.bigquery.dataset.DatasetListItem object at 0x7be493ce1090>, <google.cloud.bigquery.dataset.DatasetListItem object at 0x7be493ce1030>, <google.cloud.bigquery.dataset.DatasetListItem object at 0x7be493ce12a0>, <google.cloud.bigquery.dataset.DatasetListItem object at 0x7be493bbfb20>, <google.cloud.bigquery.dataset.DatasetListItem object at 0x7be493ce1000>, <google.cloud.bigquery.dataset.DatasetListItem object at 0x7be493ce0f40>, <google.cloud.bigquery.dataset.DatasetListItem object at 0x7be493ce1a20>, <google.cloud.bigquery.dataset.DatasetListItem object at 0x7be493ce1a50>, <google.cloud.bigquery.dataset.DatasetListItem object at 0x7be493ce1960>, <google.cloud.bigquery.dataset.DatasetListItem object at 0x7be493ce18a0>, <google.cloud.bigquery.dataset.DatasetListItem object at 0x7be493ce0eb0>, <google.cloud.bigquery.dataset.DatasetListItem object at 0x7be493ce0ac0>, <google.cloud.bigquery.dataset.DatasetListItem object at 0x7be493ce0a90>, <google.cloud.bigquery.dataset.DatasetListItem object at 0x7be493ce1900>, <google.cloud.bigquery.dataset.DatasetListItem object at 0x7be493ce0b50>, <google.cloud.bigquery.dataset.DatasetListItem object at 0x7be493ce0a00>, <google.cloud.bigquery.dataset.DatasetListItem object at 0x7be493ce18d0>, <google.cloud.bigquery.dataset.DatasetListItem object at 0x7be493ce0f70>, <google.cloud.bigquery.dataset.DatasetListItem object at 0x7be493ce0970>, <google.cloud.bigquery.dataset.DatasetListItem object at 0x7be493ce09a0>, <google.cloud.bigquery.dataset.DatasetListItem object at 0x7be493ce08b0>, <google.cloud.bigquery.dataset.DatasetListItem object at 0x7be493ce08e0>, <google.cloud.bigquery.dataset.DatasetListItem object at 0x7be493ce07f0>, <google.cloud.bigquery.dataset.DatasetListItem object at 0x7be493ce07c0>, <google.cloud.bigquery.dataset.DatasetListItem object at 0x7be493ce0760>, <google.cloud.bigquery.dataset.DatasetListItem object at 0x7be493ce0640>, <google.cloud.bigquery.dataset.DatasetListItem object at 0x7be493ce05e0>, <google.cloud.bigquery.dataset.DatasetListItem object at 0x7be493ce0580>, <google.cloud.bigquery.dataset.DatasetListItem object at 0x7be493ce0520>, <google.cloud.bigquery.dataset.DatasetListItem object at 0x7be493ce04c0>, <google.cloud.bigquery.dataset.DatasetListItem object at 0x7be493ce0460>, <google.cloud.bigquery.dataset.DatasetListItem object at 0x7be493ce06d0>, <google.cloud.bigquery.dataset.DatasetListItem object at 0x7be493ce0730>, <google.cloud.bigquery.dataset.DatasetListItem object at 0x7be493ce0340>, <google.cloud.bigquery.dataset.DatasetListItem object at 0x7be493ce0370>, <google.cloud.bigquery.dataset.DatasetListItem object at 0x7be493ce03a0>, <google.cloud.bigquery.dataset.DatasetListItem object at 0x7be493ce0bb0>, <google.cloud.bigquery.dataset.DatasetListItem object at 0x7be493ce0e50>, <google.cloud.bigquery.dataset.DatasetListItem object at 0x7be493ce0df0>, <google.cloud.bigquery.dataset.DatasetListItem object at 0x7be493ce0d60>, <google.cloud.bigquery.dataset.DatasetListItem object at 0x7be493ce0d00>, <google.cloud.bigquery.dataset.DatasetListItem object at 0x7be493ce0dc0>, <google.cloud.bigquery.dataset.DatasetListItem object at 0x7be493ce0c70>, <google.cloud.bigquery.dataset.DatasetListItem object at 0x7be493ce0c10>, <google.cloud.bigquery.dataset.DatasetListItem object at 0x7be493ce02e0>, <google.cloud.bigquery.dataset.DatasetListItem object at 0x7be493ce2a70>, <google.cloud.bigquery.dataset.DatasetListItem object at 0x7be493ce2aa0>, <google.cloud.bigquery.dataset.DatasetListItem object at 0x7be493ce2b30>, <google.cloud.bigquery.dataset.DatasetListItem object at 0x7be493ce2b60>, <google.cloud.bigquery.dataset.DatasetListItem object at 0x7be493ce2b00>, <google.cloud.bigquery.dataset.DatasetListItem object at 0x7be493ce2950>, <google.cloud.bigquery.dataset.DatasetListItem object at 0x7be493ce2980>, <google.cloud.bigquery.dataset.DatasetListItem object at 0x7be493ce27d0>, <google.cloud.bigquery.dataset.DatasetListItem object at 0x7be493ce1300>, <google.cloud.bigquery.dataset.DatasetListItem object at 0x7be493ce28c0>, <google.cloud.bigquery.dataset.DatasetListItem object at 0x7be493ce26e0>, <google.cloud.bigquery.dataset.DatasetListItem object at 0x7be493ce36d0>, <google.cloud.bigquery.dataset.DatasetListItem object at 0x7be493ce37c0>, <google.cloud.bigquery.dataset.DatasetListItem object at 0x7be493ce3730>, <google.cloud.bigquery.dataset.DatasetListItem object at 0x7be493ce2830>, <google.cloud.bigquery.dataset.DatasetListItem object at 0x7be493ce3820>, <google.cloud.bigquery.dataset.DatasetListItem object at 0x7be493ce3670>, <google.cloud.bigquery.dataset.DatasetListItem object at 0x7be493ce3970>, <google.cloud.bigquery.dataset.DatasetListItem object at 0x7be493ce37f0>, <google.cloud.bigquery.dataset.DatasetListItem object at 0x7be493ce3850>, <google.cloud.bigquery.dataset.DatasetListItem object at 0x7be493ce2e00>, <google.cloud.bigquery.dataset.DatasetListItem object at 0x7be493ce27a0>, <google.cloud.bigquery.dataset.DatasetListItem object at 0x7be493ce2770>, <google.cloud.bigquery.dataset.DatasetListItem object at 0x7be493ce0310>, <google.cloud.bigquery.dataset.DatasetListItem object at 0x7be493ce3640>, <google.cloud.bigquery.dataset.DatasetListItem object at 0x7be493ce2fe0>, <google.cloud.bigquery.dataset.DatasetListItem object at 0x7be493ce2e90>, <google.cloud.bigquery.dataset.DatasetListItem object at 0x7be493ce3610>, <google.cloud.bigquery.dataset.DatasetListItem object at 0x7be493ce35e0>, <google.cloud.bigquery.dataset.DatasetListItem object at 0x7be493ce2ef0>, <google.cloud.bigquery.dataset.DatasetListItem object at 0x7be493ce2f20>, <google.cloud.bigquery.dataset.DatasetListItem object at 0x7be493ce2f50>, <google.cloud.bigquery.dataset.DatasetListItem object at 0x7be493ce02b0>, <google.cloud.bigquery.dataset.DatasetListItem object at 0x7be493ce2a40>, <google.cloud.bigquery.dataset.DatasetListItem object at 0x7be493ce0250>, <google.cloud.bigquery.dataset.DatasetListItem object at 0x7be493ce01f0>, <google.cloud.bigquery.dataset.DatasetListItem object at 0x7be493ce0190>, <google.cloud.bigquery.dataset.DatasetListItem object at 0x7be493ce0160>, <google.cloud.bigquery.dataset.DatasetListItem object at 0x7be493ce00d0>, <google.cloud.bigquery.dataset.DatasetListItem object at 0x7be493ce0070>, <google.cloud.bigquery.dataset.DatasetListItem object at 0x7be493ce3040>, <google.cloud.bigquery.dataset.DatasetListItem object at 0x7be493ce3370>, <google.cloud.bigquery.dataset.DatasetListItem object at 0x7be493ce32b0>, <google.cloud.bigquery.dataset.DatasetListItem object at 0x7be493ce34f0>, <google.cloud.bigquery.dataset.DatasetListItem object at 0x7be493ce3550>, <google.cloud.bigquery.dataset.DatasetListItem object at 0x7be493ce3490>, <google.cloud.bigquery.dataset.DatasetListItem object at 0x7be493ce3f40>, <google.cloud.bigquery.dataset.DatasetListItem object at 0x7be493ce3580>, <google.cloud.bigquery.dataset.DatasetListItem object at 0x7be493ce3e80>, <google.cloud.bigquery.dataset.DatasetListItem object at 0x7be493ce3e50>, <google.cloud.bigquery.dataset.DatasetListItem object at 0x7be493ce3d90>, <google.cloud.bigquery.dataset.DatasetListItem object at 0x7be493ce3d00>, <google.cloud.bigquery.dataset.DatasetListItem object at 0x7be493ce3d30>, <google.cloud.bigquery.dataset.DatasetListItem object at 0x7be493ce35b0>, <google.cloud.bigquery.dataset.DatasetListItem object at 0x7be493ce3520>, <google.cloud.bigquery.dataset.DatasetListItem object at 0x7be493ce3fd0>, <google.cloud.bigquery.dataset.DatasetListItem object at 0x7be493ce3fa0>, <google.cloud.bigquery.dataset.DatasetListItem object at 0x7be493ce3b20>, <google.cloud.bigquery.dataset.DatasetListItem object at 0x7be493ce28f0>, <google.cloud.bigquery.dataset.DatasetListItem object at 0x7be493ce3a90>, <google.cloud.bigquery.dataset.DatasetListItem object at 0x7be493ce3b50>, <google.cloud.bigquery.dataset.DatasetListItem object at 0x7be493ce33d0>, <google.cloud.bigquery.dataset.DatasetListItem object at 0x7be493ce33a0>, <google.cloud.bigquery.dataset.DatasetListItem object at 0x7be493ce2dd0>, <google.cloud.bigquery.dataset.DatasetListItem object at 0x7be493ce3bb0>, <google.cloud.bigquery.dataset.DatasetListItem object at 0x7be493ce31f0>, <google.cloud.bigquery.dataset.DatasetListItem object at 0x7be493ce31c0>, <google.cloud.bigquery.dataset.DatasetListItem object at 0x7be493ce3430>, <google.cloud.bigquery.dataset.DatasetListItem object at 0x7be493ce3160>, <google.cloud.bigquery.dataset.DatasetListItem object at 0x7be493ce39d0>, <google.cloud.bigquery.dataset.DatasetListItem object at 0x7be493ce3c40>, <google.cloud.bigquery.dataset.DatasetListItem object at 0x7be493ce3be0>, <google.cloud.bigquery.dataset.DatasetListItem object at 0x7be493ce3220>, <google.cloud.bigquery.dataset.DatasetListItem object at 0x7be4c602ce20>, <google.cloud.bigquery.dataset.DatasetListItem object at 0x7be4c602e860>, <google.cloud.bigquery.dataset.DatasetListItem object at 0x7be4c602d390>, <google.cloud.bigquery.dataset.DatasetListItem object at 0x7be4c602e620>, <google.cloud.bigquery.dataset.DatasetListItem object at 0x7be4c602c4c0>, <google.cloud.bigquery.dataset.DatasetListItem object at 0x7be4c602cf70>, <google.cloud.bigquery.dataset.DatasetListItem object at 0x7be4c602d510>, <google.cloud.bigquery.dataset.DatasetListItem object at 0x7be4c602caf0>, <google.cloud.bigquery.dataset.DatasetListItem object at 0x7be4c602c610>, <google.cloud.bigquery.dataset.DatasetListItem object at 0x7be4c602d990>, <google.cloud.bigquery.dataset.DatasetListItem object at 0x7be4c602d300>, <google.cloud.bigquery.dataset.DatasetListItem object at 0x7be4c602d960>, <google.cloud.bigquery.dataset.DatasetListItem object at 0x7be4c602d690>, <google.cloud.bigquery.dataset.DatasetListItem object at 0x7be4c602e140>, <google.cloud.bigquery.dataset.DatasetListItem object at 0x7be4c602db70>, <google.cloud.bigquery.dataset.DatasetListItem object at 0x7be4c602d6c0>, <google.cloud.bigquery.dataset.DatasetListItem object at 0x7be4c602d810>, <google.cloud.bigquery.dataset.DatasetListItem object at 0x7be4c602d4b0>, <google.cloud.bigquery.dataset.DatasetListItem object at 0x7be4c602df00>, <google.cloud.bigquery.dataset.DatasetListItem object at 0x7be4c602e920>, <google.cloud.bigquery.dataset.DatasetListItem object at 0x7be4c602e050>, <google.cloud.bigquery.dataset.DatasetListItem object at 0x7be4c602cbb0>, <google.cloud.bigquery.dataset.DatasetListItem object at 0x7be493e4c2b0>, <google.cloud.bigquery.dataset.DatasetListItem object at 0x7be493e4fc10>, <google.cloud.bigquery.dataset.DatasetListItem object at 0x7be493e4f3a0>, <google.cloud.bigquery.dataset.DatasetListItem object at 0x7be493e4f3d0>, <google.cloud.bigquery.dataset.DatasetListItem object at 0x7be493e4f5b0>, <google.cloud.bigquery.dataset.DatasetListItem object at 0x7be493e4f670>, <google.cloud.bigquery.dataset.DatasetListItem object at 0x7be493e4f1f0>, <google.cloud.bigquery.dataset.DatasetListItem object at 0x7be493e4f520>, <google.cloud.bigquery.dataset.DatasetListItem object at 0x7be493e4f610>, <google.cloud.bigquery.dataset.DatasetListItem object at 0x7be493e4ead0>, <google.cloud.bigquery.dataset.DatasetListItem object at 0x7be493e4ec20>, <google.cloud.bigquery.dataset.DatasetListItem object at 0x7be493e4f6d0>, <google.cloud.bigquery.dataset.DatasetListItem object at 0x7be493e4f700>, <google.cloud.bigquery.dataset.DatasetListItem object at 0x7be493ce3a60>, <google.cloud.bigquery.dataset.DatasetListItem object at 0x7be493ce3940>, <google.cloud.bigquery.dataset.DatasetListItem object at 0x7be493e4ea40>, <google.cloud.bigquery.dataset.DatasetListItem object at 0x7be493e4d030>, <google.cloud.bigquery.dataset.DatasetListItem object at 0x7be493e4eec0>, <google.cloud.bigquery.dataset.DatasetListItem object at 0x7be493e4f340>, <google.cloud.bigquery.dataset.DatasetListItem object at 0x7be493e4ce20>, <google.cloud.bigquery.dataset.DatasetListItem object at 0x7be493e4cdf0>, <google.cloud.bigquery.dataset.DatasetListItem object at 0x7be493e4ea70>, <google.cloud.bigquery.dataset.DatasetListItem object at 0x7be493e4caf0>, <google.cloud.bigquery.dataset.DatasetListItem object at 0x7be493e4c550>, <google.cloud.bigquery.dataset.DatasetListItem object at 0x7be493e4f250>, <google.cloud.bigquery.dataset.DatasetListItem object at 0x7be493e4e8c0>, <google.cloud.bigquery.dataset.DatasetListItem object at 0x7be493e4cb50>, <google.cloud.bigquery.dataset.DatasetListItem object at 0x7be493e4e920>, <google.cloud.bigquery.dataset.DatasetListItem object at 0x7be493e4ca60>, <google.cloud.bigquery.dataset.DatasetListItem object at 0x7be493e4e7a0>, <google.cloud.bigquery.dataset.DatasetListItem object at 0x7be493e4c250>, <google.cloud.bigquery.dataset.DatasetListItem object at 0x7be493e4c5e0>, <google.cloud.bigquery.dataset.DatasetListItem object at 0x7be493e4f460>, <google.cloud.bigquery.dataset.DatasetListItem object at 0x7be493e4fb80>, <google.cloud.bigquery.dataset.DatasetListItem object at 0x7be493e4fdf0>, <google.cloud.bigquery.dataset.DatasetListItem object at 0x7be493e4f760>, <google.cloud.bigquery.dataset.DatasetListItem object at 0x7be493e4f400>, <google.cloud.bigquery.dataset.DatasetListItem object at 0x7be493e4f490>, <google.cloud.bigquery.dataset.DatasetListItem object at 0x7be493e4e440>, <google.cloud.bigquery.dataset.DatasetListItem object at 0x7be493e4dd50>, <google.cloud.bigquery.dataset.DatasetListItem object at 0x7be493e4e1d0>, <google.cloud.bigquery.dataset.DatasetListItem object at 0x7be493e4e2c0>, <google.cloud.bigquery.dataset.DatasetListItem object at 0x7be493e4e0e0>, <google.cloud.bigquery.dataset.DatasetListItem object at 0x7be493e4dea0>, <google.cloud.bigquery.dataset.DatasetListItem object at 0x7be493e4c610>, <google.cloud.bigquery.dataset.DatasetListItem object at 0x7be493e4c850>]\n"
     ]
    }
   ],
   "source": [
    "datasets = list(client.list_datasets())\n",
    "print(datasets)"
   ]
  },
  {
   "cell_type": "markdown",
   "metadata": {
    "id": "WsLMF5p_QMp2"
   },
   "source": [
    "That wasn't helpful. We need to go deeper into the object structure to get at something meaningful. Actually, the `dataset_id` member contains the name attribute of a `dataset` object; write some code to print that name for each member of the list that was created above:"
   ]
  },
  {
   "cell_type": "code",
   "execution_count": null,
   "metadata": {
    "executionInfo": {
     "elapsed": 11,
     "status": "aborted",
     "timestamp": 1722055301623,
     "user": {
      "displayName": "Maheshkumar Paik",
      "userId": "02349378107593826691"
     },
     "user_tz": -480
    },
    "id": "n6snCncFQMp3"
   },
   "outputs": [],
   "source": [
    "#?"
   ]
  },
  {
   "cell_type": "markdown",
   "metadata": {
    "id": "JaAkwVRHQMp6"
   },
   "source": [
    "The google API objects in the `bigquery` library have their own overloads of the format() function that make them easier to read. Below is a function that exploits the `format` method of `project` and `dataset_id`, providing an easy way to list datasets:"
   ]
  },
  {
   "cell_type": "code",
   "execution_count": null,
   "metadata": {
    "executionInfo": {
     "elapsed": 11,
     "status": "aborted",
     "timestamp": 1722055301623,
     "user": {
      "displayName": "Maheshkumar Paik",
      "userId": "02349378107593826691"
     },
     "user_tz": -480
    },
    "id": "afIVw6FNQMp6"
   },
   "outputs": [],
   "source": [
    "# function for listing datasets in a project:\n",
    "def printDatasetList(client):\n",
    "    project = client.project    #: only one project can be associated with a client instance\n",
    "    datasets = list(client.list_datasets())\n",
    "    if datasets:\n",
    "        print('Datasets in project {}:'.format(project))\n",
    "        for dataset in datasets:\n",
    "            print('\\t{}'.format(dataset.dataset_id))\n",
    "        found = True\n",
    "    else:\n",
    "        print('{} project does not contain any datasets.'.format(project))\n",
    "        found = False\n",
    "    return found"
   ]
  },
  {
   "cell_type": "code",
   "execution_count": null,
   "metadata": {
    "executionInfo": {
     "elapsed": 11,
     "status": "aborted",
     "timestamp": 1722055301623,
     "user": {
      "displayName": "Maheshkumar Paik",
      "userId": "02349378107593826691"
     },
     "user_tz": -480
    },
    "id": "LHsC_THYQMp7"
   },
   "outputs": [],
   "source": [
    "# list datasets in the default project:\n",
    "flag = printDatasetList(client)  #: assigning to `flag` suppresses printing the return value (normally `True`)"
   ]
  },
  {
   "cell_type": "markdown",
   "metadata": {
    "id": "PUB7M5KEQMp-"
   },
   "source": [
    "This list should correspond to what is shown here https://bigquery.cloud.google.com/publicdatasets under the **bigquery-public-data** item."
   ]
  },
  {
   "cell_type": "markdown",
   "metadata": {
    "id": "1eGTZqizQMp-"
   },
   "source": [
    "Here is how to create a dataset reference object by assigning a project and a dataset name:"
   ]
  },
  {
   "cell_type": "code",
   "execution_count": null,
   "metadata": {
    "executionInfo": {
     "elapsed": 11,
     "status": "aborted",
     "timestamp": 1722055301623,
     "user": {
      "displayName": "Maheshkumar Paik",
      "userId": "02349378107593826691"
     },
     "user_tz": -480
    },
    "id": "Rja9NOTyQMp_"
   },
   "outputs": [],
   "source": [
    "dataset_id = 'samples'\n",
    "dataset_ref = client.dataset(dataset_id)"
   ]
  },
  {
   "cell_type": "markdown",
   "metadata": {
    "id": "wVeBwg8JQMqB"
   },
   "source": [
    "If our current project was something other than `bigquery-public-data`, we could still create this reference by specifying the project that contains the dataset:"
   ]
  },
  {
   "cell_type": "code",
   "execution_count": null,
   "metadata": {
    "executionInfo": {
     "elapsed": 10,
     "status": "aborted",
     "timestamp": 1722055301623,
     "user": {
      "displayName": "Maheshkumar Paik",
      "userId": "02349378107593826691"
     },
     "user_tz": -480
    },
    "id": "pUcHVtXYQMqB"
   },
   "outputs": [],
   "source": [
    "dataset_id = 'samples'\n",
    "dataset_ref = client.dataset(dataset_id, project = 'bigquery-public-data')"
   ]
  },
  {
   "cell_type": "markdown",
   "metadata": {
    "id": "JfrckJFYQMqE"
   },
   "source": [
    "How can we get the path of the dataset?"
   ]
  },
  {
   "cell_type": "code",
   "execution_count": null,
   "metadata": {
    "executionInfo": {
     "elapsed": 10,
     "status": "aborted",
     "timestamp": 1722055301623,
     "user": {
      "displayName": "Maheshkumar Paik",
      "userId": "02349378107593826691"
     },
     "user_tz": -480
    },
    "id": "aqKCkd8zQMqE"
   },
   "outputs": [],
   "source": [
    "#ANSWER:\n",
    "dataset_ref.path"
   ]
  },
  {
   "cell_type": "markdown",
   "metadata": {
    "id": "fz7DDChLQMqH"
   },
   "source": [
    "Explore more of this object's members:\n",
    "\n",
    "*(HINT: Jupyter Notebooks does not support code completion, but Spyder and other Python IDEs do. If you copy all the above code to a Python file within the IDE, you can type `dataset_ref.` in a new line, then hit the [Tab] key to see the available members for the object.)*"
   ]
  },
  {
   "cell_type": "code",
   "execution_count": null,
   "metadata": {
    "executionInfo": {
     "elapsed": 11,
     "status": "aborted",
     "timestamp": 1722055301624,
     "user": {
      "displayName": "Maheshkumar Paik",
      "userId": "02349378107593826691"
     },
     "user_tz": -480
    },
    "id": "_UJplaMnQMqH"
   },
   "outputs": [],
   "source": [
    "#?\n",
    "dataset_ref.table(table_id)\n"
   ]
  },
  {
   "cell_type": "markdown",
   "metadata": {
    "id": "DBPXcGciQMqJ"
   },
   "source": [
    "Here is a function for listing the tables in a dataset:"
   ]
  },
  {
   "cell_type": "code",
   "execution_count": null,
   "metadata": {
    "executionInfo": {
     "elapsed": 11,
     "status": "aborted",
     "timestamp": 1722055301624,
     "user": {
      "displayName": "Maheshkumar Paik",
      "userId": "02349378107593826691"
     },
     "user_tz": -480
    },
    "id": "yLvSI1HiQMqK"
   },
   "outputs": [],
   "source": [
    "# function for listing tables in a dataset:\n",
    "def printTableList(client, dataset_id):\n",
    "    project = client.project\n",
    "    dataset_ref = client.dataset(dataset_id, project = project)\n",
    "    tables = list(client.list_tables(dataset_ref))\n",
    "    if tables:\n",
    "        print('Tables in dataset {}:'.format(dataset_id))\n",
    "        for table in tables:\n",
    "            print('\\t{}'.format(table.table_id))\n",
    "        found = True\n",
    "    else:\n",
    "        print('{} dataset does not contain any tables.'.format(dataset_id))\n",
    "        found = False\n",
    "    return found"
   ]
  },
  {
   "cell_type": "markdown",
   "metadata": {
    "id": "a-K9gx_ZQMqL"
   },
   "source": [
    "Use this function to list the tables in the current dataset:"
   ]
  },
  {
   "cell_type": "code",
   "execution_count": null,
   "metadata": {
    "executionInfo": {
     "elapsed": 11,
     "status": "aborted",
     "timestamp": 1722055301624,
     "user": {
      "displayName": "Maheshkumar Paik",
      "userId": "02349378107593826691"
     },
     "user_tz": -480
    },
    "id": "iQVbZwLRQMqL"
   },
   "outputs": [],
   "source": [
    "#ANSWER\n",
    "printTableList(client, dataset_id)"
   ]
  },
  {
   "cell_type": "markdown",
   "metadata": {
    "id": "F6CzLw6YQMqN"
   },
   "source": [
    "To create a reference to a table within the dataset, we use the `table_id` attribute:"
   ]
  },
  {
   "cell_type": "code",
   "execution_count": null,
   "metadata": {
    "executionInfo": {
     "elapsed": 11,
     "status": "aborted",
     "timestamp": 1722055301624,
     "user": {
      "displayName": "Maheshkumar Paik",
      "userId": "02349378107593826691"
     },
     "user_tz": -480
    },
    "id": "OIAuOmziQMqO"
   },
   "outputs": [],
   "source": [
    "table_id = 'shakespeare'\n",
    "table_ref = dataset_ref.table(table_id)"
   ]
  },
  {
   "cell_type": "markdown",
   "metadata": {
    "id": "iAmJOMnKQMqP"
   },
   "source": [
    "Check the name of the table that `table_ref` now points to:"
   ]
  },
  {
   "cell_type": "code",
   "execution_count": null,
   "metadata": {
    "executionInfo": {
     "elapsed": 10,
     "status": "aborted",
     "timestamp": 1722055301624,
     "user": {
      "displayName": "Maheshkumar Paik",
      "userId": "02349378107593826691"
     },
     "user_tz": -480
    },
    "id": "71akyPq7QMqP"
   },
   "outputs": [],
   "source": [
    "#ANSWER\n",
    "table_ref.table_id"
   ]
  },
  {
   "cell_type": "markdown",
   "metadata": {
    "id": "A7LCWxz9QMqQ"
   },
   "source": [
    "To access the data in the table itself, we use the `get_table()` method:"
   ]
  },
  {
   "cell_type": "code",
   "execution_count": null,
   "metadata": {
    "executionInfo": {
     "elapsed": 11,
     "status": "aborted",
     "timestamp": 1722055301625,
     "user": {
      "displayName": "Maheshkumar Paik",
      "userId": "02349378107593826691"
     },
     "user_tz": -480
    },
    "id": "l0-fX9j0QMqR"
   },
   "outputs": [],
   "source": [
    "table = client.get_table(table_ref)  # API Request"
   ]
  },
  {
   "cell_type": "markdown",
   "metadata": {
    "id": "TuWzIYpEQMqS"
   },
   "source": [
    "NOTE: The contents of the table are not actually in our memory after this call! We are working with a Big Data platform, now, and we could easily end up pulling GBs or TBs of data by accident.\n",
    "\n",
    "To minimise data bandwidth, memory consumption, and processing time, Big Data platforms employ ***lazy evaluation***. This means that no computation or data transfer actually takes place until we *realise* (use) the data. Even if we execute subsequent code that performs calculations on the data, no data flow or computation actually occurs until we request output (e.g. by executing a print to stdout or writing to a file)."
   ]
  },
  {
   "cell_type": "markdown",
   "metadata": {
    "id": "A5sefu0lQMqS"
   },
   "source": [
    "What kind of object is returned by `client.get_table`?"
   ]
  },
  {
   "cell_type": "code",
   "execution_count": null,
   "metadata": {
    "executionInfo": {
     "elapsed": 7319,
     "status": "aborted",
     "timestamp": 1722055301625,
     "user": {
      "displayName": "Maheshkumar Paik",
      "userId": "02349378107593826691"
     },
     "user_tz": -480
    },
    "id": "kF-aRGZsQMqS"
   },
   "outputs": [],
   "source": [
    "#ANSWER:\n",
    "type(table)"
   ]
  },
  {
   "cell_type": "markdown",
   "metadata": {
    "id": "fPiGLOjnQMqU"
   },
   "source": [
    "How can we view the design of the table (column names and types? The name of the object attribute we need is the same term we learned in the module on databases:"
   ]
  },
  {
   "cell_type": "code",
   "execution_count": null,
   "metadata": {
    "executionInfo": {
     "elapsed": 7318,
     "status": "aborted",
     "timestamp": 1722055301626,
     "user": {
      "displayName": "Maheshkumar Paik",
      "userId": "02349378107593826691"
     },
     "user_tz": -480
    },
    "id": "lBNJqT9EQMqU"
   },
   "outputs": [],
   "source": [
    "#ANSWER\n",
    "print(table.schema)"
   ]
  },
  {
   "cell_type": "markdown",
   "metadata": {
    "id": "iGrt3XsIQMqW"
   },
   "source": [
    "Again, this is messy. If we wanted to refer to the column names and types in code, we might use something like this (which we could then parse into a dict):"
   ]
  },
  {
   "cell_type": "code",
   "execution_count": null,
   "metadata": {
    "executionInfo": {
     "elapsed": 7315,
     "status": "aborted",
     "timestamp": 1722055301626,
     "user": {
      "displayName": "Maheshkumar Paik",
      "userId": "02349378107593826691"
     },
     "user_tz": -480
    },
    "id": "G27W0Q9QQMqX"
   },
   "outputs": [],
   "source": [
    "result = [\"{0} {1}\".format(schema.name,schema.field_type) for schema in table.schema]\n",
    "print(result)"
   ]
  },
  {
   "cell_type": "markdown",
   "metadata": {
    "id": "EKV8IsmlQMqY"
   },
   "source": [
    "But if we just want to print them, here is another neat function for that:"
   ]
  },
  {
   "cell_type": "code",
   "execution_count": null,
   "metadata": {
    "executionInfo": {
     "elapsed": 7315,
     "status": "aborted",
     "timestamp": 1722055301626,
     "user": {
      "displayName": "Maheshkumar Paik",
      "userId": "02349378107593826691"
     },
     "user_tz": -480
    },
    "id": "m1uf0jPxQMqZ"
   },
   "outputs": [],
   "source": [
    "# function to print a table schema:\n",
    "def printTableSchema(aTable):\n",
    "    schemas = list(aTable.schema)\n",
    "    if schemas:\n",
    "        print('Table schema for {}:'.format(aTable.table_id))\n",
    "        for aSchema in schemas:\n",
    "            print('\\t{0} {1}'.format(aSchema.name, aSchema.field_type))\n",
    "        found = True\n",
    "    else:\n",
    "        found = False\n",
    "    return found"
   ]
  },
  {
   "cell_type": "markdown",
   "metadata": {
    "id": "3-l8kOkVQMqa"
   },
   "source": [
    "Use this function to print the table schema:"
   ]
  },
  {
   "cell_type": "code",
   "execution_count": null,
   "metadata": {
    "executionInfo": {
     "elapsed": 7312,
     "status": "aborted",
     "timestamp": 1722055301626,
     "user": {
      "displayName": "Maheshkumar Paik",
      "userId": "02349378107593826691"
     },
     "user_tz": -480
    },
    "id": "zc10udqtQMqa"
   },
   "outputs": [],
   "source": [
    "#ANSWER:\n",
    "printTableSchema(table)"
   ]
  },
  {
   "cell_type": "markdown",
   "metadata": {
    "id": "b8CKkZBPQMqc"
   },
   "source": [
    "Now that we know what the columns are, we can write queries. Actually, we construct a query job by assigning an SQL statement to a method of the `client` object:"
   ]
  },
  {
   "cell_type": "code",
   "execution_count": null,
   "metadata": {
    "executionInfo": {
     "elapsed": 7311,
     "status": "aborted",
     "timestamp": 1722055301627,
     "user": {
      "displayName": "Maheshkumar Paik",
      "userId": "02349378107593826691"
     },
     "user_tz": -480
    },
    "id": "yfsmLuJHQMqd"
   },
   "outputs": [],
   "source": [
    "sql = \"SELECT COUNT(1) FROM bigquery-public-data.samples.shakespeare\"\n",
    "query_job = client.query(sql)"
   ]
  },
  {
   "cell_type": "markdown",
   "metadata": {
    "id": "CAaHnxvuQMqf"
   },
   "source": [
    "Why does this throw an error?"
   ]
  },
  {
   "cell_type": "markdown",
   "metadata": {
    "id": "FbG2QPCHQMqf"
   },
   "source": [
    "ANSWER:\n",
    "\n",
    "We don't have permission to create queries inside the `bigquery-public-data` project.\n",
    "\n",
    "So, what can we do?"
   ]
  },
  {
   "cell_type": "code",
   "execution_count": null,
   "metadata": {
    "executionInfo": {
     "elapsed": 7310,
     "status": "aborted",
     "timestamp": 1722055301627,
     "user": {
      "displayName": "Maheshkumar Paik",
      "userId": "02349378107593826691"
     },
     "user_tz": -480
    },
    "id": "5D9V0KjiQMqf"
   },
   "outputs": [],
   "source": [
    "#ANSWER\n",
    "client = bigquery.Client.from_service_account_json(key_path, project = 'myreallybigquery') #<<< your BigQuery project ID here!\n",
    "query_job = client.query(sql)"
   ]
  },
  {
   "cell_type": "markdown",
   "metadata": {
    "id": "79jeDjSUQMqg"
   },
   "source": [
    "If that worked, show what query_job is:"
   ]
  },
  {
   "cell_type": "markdown",
   "metadata": {
    "id": "uvbPBefFYRoL"
   },
   "source": []
  },
  {
   "cell_type": "code",
   "execution_count": null,
   "metadata": {
    "executionInfo": {
     "elapsed": 7307,
     "status": "aborted",
     "timestamp": 1722055301627,
     "user": {
      "displayName": "Maheshkumar Paik",
      "userId": "02349378107593826691"
     },
     "user_tz": -480
    },
    "id": "3bcgGq9PQMqg"
   },
   "outputs": [],
   "source": [
    "#ANSWER\n",
    "type(query_job)"
   ]
  },
  {
   "cell_type": "markdown",
   "metadata": {
    "id": "k9lZ6v0cQMqi"
   },
   "source": [
    "Once again, due to lazy execution, no actual execution occurs until we request output:"
   ]
  },
  {
   "cell_type": "code",
   "execution_count": null,
   "metadata": {
    "executionInfo": {
     "elapsed": 7306,
     "status": "aborted",
     "timestamp": 1722055301627,
     "user": {
      "displayName": "Maheshkumar Paik",
      "userId": "02349378107593826691"
     },
     "user_tz": -480
    },
    "id": "SSw6zneJQMqi"
   },
   "outputs": [],
   "source": [
    "for row in query_job:  # API request - fetches results\n",
    "    print(row)"
   ]
  },
  {
   "cell_type": "markdown",
   "metadata": {
    "id": "ItvCscRsQMqk"
   },
   "source": [
    "And, again, we need to manipulate this to make it neat. Each member of the rowset is a list and we only want to extract the value, which is in the first member:"
   ]
  },
  {
   "cell_type": "code",
   "execution_count": null,
   "metadata": {
    "executionInfo": {
     "elapsed": 7304,
     "status": "aborted",
     "timestamp": 1722055301627,
     "user": {
      "displayName": "Maheshkumar Paik",
      "userId": "02349378107593826691"
     },
     "user_tz": -480
    },
    "id": "9rB2rpmoQMqk"
   },
   "outputs": [],
   "source": [
    "print(row[0])"
   ]
  },
  {
   "cell_type": "markdown",
   "metadata": {
    "id": "UE_dP3i2QMqn"
   },
   "source": [
    "So, we now know that this table has 164,656 rows. (We would not want to print it!)"
   ]
  },
  {
   "cell_type": "markdown",
   "metadata": {
    "id": "TWhzTh2GQMqn"
   },
   "source": [
    "A better coding practice is to write SQL statements that assign names (aliases) to derived values, so we don't forget what the resulting rowset contains. Rewrite the above SQL statement so that the value returned is aliased a \"num_rows\", and assign the QueryJob as above:"
   ]
  },
  {
   "cell_type": "code",
   "execution_count": null,
   "metadata": {
    "executionInfo": {
     "elapsed": 7304,
     "status": "aborted",
     "timestamp": 1722055301628,
     "user": {
      "displayName": "Maheshkumar Paik",
      "userId": "02349378107593826691"
     },
     "user_tz": -480
    },
    "id": "WxUD_vE_QMqn"
   },
   "outputs": [],
   "source": [
    "#ANSWER\n",
    "sql = \"SELECT COUNT(1) AS num_rows FROM bigquery-public-data.samples.shakespeare\"\n",
    "query_job = client.query(sql)"
   ]
  },
  {
   "cell_type": "markdown",
   "metadata": {
    "id": "hPjGQv5WQMqo"
   },
   "source": [
    "Now we could use Python's `assert` statement to build a test into the first code block that operates on the rowset:"
   ]
  },
  {
   "cell_type": "code",
   "execution_count": null,
   "metadata": {
    "executionInfo": {
     "elapsed": 7302,
     "status": "aborted",
     "timestamp": 1722055301628,
     "user": {
      "displayName": "Maheshkumar Paik",
      "userId": "02349378107593826691"
     },
     "user_tz": -480
    },
    "id": "2rHWJ6siQMqp"
   },
   "outputs": [],
   "source": [
    "for row in query_job:  # API request - fetches results\n",
    "    # Row values can be accessed by field name or index:\n",
    "    assert row[0] == row.num_rows == row['num_rows']  #: for debugging bad sql\n",
    "    print(row.num_rows)"
   ]
  },
  {
   "cell_type": "markdown",
   "metadata": {
    "id": "40FIjnXMQMqr"
   },
   "source": [
    "The above code checks that the name attribute of the value in `row[0]` is what we expected (i.e. \"num_rows\"). Also, it shows that we can refer to a field in a row by its object member `num_rows` or by using the same notation we use for Python dictionaries, `['num_rows']`."
   ]
  },
  {
   "cell_type": "markdown",
   "metadata": {
    "id": "Hd4SdhDwQMqr"
   },
   "source": [
    "Write, execute, and print the results of a query that fetches 10 rows from the table, each containing the \"word\", \"word_count\", and \"corpus\" fields:"
   ]
  },
  {
   "cell_type": "code",
   "execution_count": null,
   "metadata": {
    "executionInfo": {
     "elapsed": 7299,
     "status": "aborted",
     "timestamp": 1722055301628,
     "user": {
      "displayName": "Maheshkumar Paik",
      "userId": "02349378107593826691"
     },
     "user_tz": -480
    },
    "id": "KiQXzKCbQMqr"
   },
   "outputs": [],
   "source": [
    "#ANSWER\n",
    "sql = \"SELECT word, word_count, corpus FROM bigquery-public-data.samples.shakespeare LIMIT 10\"\n",
    "query_job = client.query(sql) #E: , location='US') #: OK if client.project = 'myreallybigquery'\n",
    "\n",
    "# print these as above:\n",
    "for row in query_job:  # API request - fetches results\n",
    "    # Now have 3 fields to test (Nb. this approach may be overkill for non-production code):\n",
    "    assert row[0] == row.word == row['word']\n",
    "    assert row[1] == row.word_count == row['word_count']\n",
    "    assert row[2] == row.corpus == row['corpus']\n",
    "    print(row['word'], row['word_count'], row['corpus'])"
   ]
  },
  {
   "cell_type": "markdown",
   "metadata": {
    "id": "X4iUvpk5QMqt"
   },
   "source": [
    "(NOTE: Using `assert` religiously is good practice and will make debugging easier, but is probably overkill for non-production code.)"
   ]
  },
  {
   "cell_type": "markdown",
   "metadata": {
    "id": "o-_rW8ApQMqu"
   },
   "source": [
    "Whenever you catch yourself writing a swag of code to do something that seems rudimentary or low-level, there is a very good chance that you don't need to. A much easier way to handle the above requirement is to use the `to_dataframe` method of the QueryJob object:"
   ]
  },
  {
   "cell_type": "code",
   "execution_count": null,
   "metadata": {
    "executionInfo": {
     "elapsed": 2,
     "status": "aborted",
     "timestamp": 1722055303042,
     "user": {
      "displayName": "Maheshkumar Paik",
      "userId": "02349378107593826691"
     },
     "user_tz": -480
    },
    "id": "oZ25oiMOQMqu"
   },
   "outputs": [],
   "source": [
    "df = query_job.to_dataframe()\n",
    "print(df)"
   ]
  },
  {
   "cell_type": "markdown",
   "metadata": {
    "id": "6CDJQIOhQMqv"
   },
   "source": [
    "Although the above doesn't use `assert` (which you might still want to include in some test code), you will be able to tell at a glance if something is wrong with the contents of the DataFrame."
   ]
  },
  {
   "cell_type": "markdown",
   "metadata": {
    "id": "3iNOJ-cnQMqv"
   },
   "source": [
    "#### Final Notes"
   ]
  },
  {
   "cell_type": "markdown",
   "metadata": {
    "id": "1DFF38wvQMqv"
   },
   "source": [
    "1. Here is a readable way to code long SQL statements:"
   ]
  },
  {
   "cell_type": "code",
   "execution_count": null,
   "metadata": {
    "executionInfo": {
     "elapsed": 1,
     "status": "aborted",
     "timestamp": 1722055303042,
     "user": {
      "displayName": "Maheshkumar Paik",
      "userId": "02349378107593826691"
     },
     "user_tz": -480
    },
    "id": "C1rUFwnnQMqv"
   },
   "outputs": [],
   "source": [
    "sql = \"\"\"\n",
    "    SELECT word, word_count, corpus\n",
    "    FROM bigquery-public-data.samples.shakespeare\n",
    "    LIMIT 10\n",
    "    \"\"\""
   ]
  },
  {
   "cell_type": "markdown",
   "metadata": {
    "id": "ey8f9Hg_QMqw"
   },
   "source": [
    "2. If you had an application that needed to modify the tables or datasets in the `bigquery-public-data` is project, you could copy them to our own project, where you would have the permissions to do as you please with the data (subject to Google's terms of use)."
   ]
  },
  {
   "cell_type": "markdown",
   "metadata": {
    "id": "bMrmiDRJQMqw"
   },
   "source": [
    "3. We aren't limited to the datasets that are already in BigQuery. We can upload tables from our computer, and we can pull data in from other online sources. We will cover these tasks in another module."
   ]
  },
  {
   "cell_type": "markdown",
   "metadata": {
    "id": "BbB6B7r3QMqx"
   },
   "source": [
    "#### Next Steps\n",
    "\n",
    "If you wish to pick up a few more skills you can go to https://cloud.google.com/bigquery/create-simple-app-api. (Note that we have already been through the preliminaries, so you can start at \"Download the sample code\".)\n",
    "\n",
    "Alternatively, you can take a deeper dive into the API here: https://googlecloudplatform.github.io/google-cloud-python/latest/bigquery/usage.html."
   ]
  },
  {
   "cell_type": "markdown",
   "metadata": {
    "id": "c6jzTfrZQMqx"
   },
   "source": [
    "## - END -"
   ]
  },
  {
   "cell_type": "markdown",
   "metadata": {
    "id": "fWOk43cgN71c"
   },
   "source": [
    "\n",
    "\n",
    "---\n",
    "\n",
    "\n",
    "\n",
    "---\n",
    "\n",
    "\n",
    "\n",
    "> > > > > > > > > © 2024 Institute of Data\n",
    "\n",
    "\n",
    "---\n",
    "\n",
    "\n",
    "\n",
    "---\n",
    "\n",
    "\n",
    "\n"
   ]
  }
 ],
 "metadata": {
  "colab": {
   "collapsed_sections": [
    "BbB6B7r3QMqx"
   ],
   "provenance": []
  },
  "kernelspec": {
   "display_name": "Python 3 (ipykernel)",
   "language": "python",
   "name": "python3"
  },
  "language_info": {
   "codemirror_mode": {
    "name": "ipython",
    "version": 3
   },
   "file_extension": ".py",
   "mimetype": "text/x-python",
   "name": "python",
   "nbconvert_exporter": "python",
   "pygments_lexer": "ipython3",
   "version": "3.12.4"
  }
 },
 "nbformat": 4,
 "nbformat_minor": 4
}
