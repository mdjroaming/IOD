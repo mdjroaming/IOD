{
 "cells": [
  {
   "cell_type": "code",
   "execution_count": 84,
   "id": "b5ca8c55-2556-4666-a92a-5819dce7b03d",
   "metadata": {},
   "outputs": [],
   "source": [
    "import pandas as pd\n",
    "import matplotlib as plt\n",
    "import seaborn as sns\n",
    "import sweetviz as sv"
   ]
  },
  {
   "cell_type": "code",
   "execution_count": 65,
   "id": "ceb83163-83fe-4d54-baff-a410b0f61587",
   "metadata": {},
   "outputs": [
    {
     "name": "stderr",
     "output_type": "stream",
     "text": [
      "C:\\Users\\mdjro\\AppData\\Local\\Temp\\ipykernel_19592\\487837155.py:1: DtypeWarning: Columns (3) have mixed types. Specify dtype option on import or set low_memory=False.\n",
      "  df = pd.read_csv('taxi_tripdata.csv')\n"
     ]
    },
    {
     "data": {
      "text/html": [
       "<div>\n",
       "<style scoped>\n",
       "    .dataframe tbody tr th:only-of-type {\n",
       "        vertical-align: middle;\n",
       "    }\n",
       "\n",
       "    .dataframe tbody tr th {\n",
       "        vertical-align: top;\n",
       "    }\n",
       "\n",
       "    .dataframe thead th {\n",
       "        text-align: right;\n",
       "    }\n",
       "</style>\n",
       "<table border=\"1\" class=\"dataframe\">\n",
       "  <thead>\n",
       "    <tr style=\"text-align: right;\">\n",
       "      <th></th>\n",
       "      <th>VendorID</th>\n",
       "      <th>lpep_pickup_datetime</th>\n",
       "      <th>lpep_dropoff_datetime</th>\n",
       "      <th>store_and_fwd_flag</th>\n",
       "      <th>RatecodeID</th>\n",
       "      <th>PULocationID</th>\n",
       "      <th>DOLocationID</th>\n",
       "      <th>passenger_count</th>\n",
       "      <th>trip_distance</th>\n",
       "      <th>fare_amount</th>\n",
       "      <th>extra</th>\n",
       "      <th>mta_tax</th>\n",
       "      <th>tip_amount</th>\n",
       "      <th>tolls_amount</th>\n",
       "      <th>ehail_fee</th>\n",
       "      <th>improvement_surcharge</th>\n",
       "      <th>total_amount</th>\n",
       "      <th>payment_type</th>\n",
       "      <th>trip_type</th>\n",
       "      <th>congestion_surcharge</th>\n",
       "    </tr>\n",
       "  </thead>\n",
       "  <tbody>\n",
       "    <tr>\n",
       "      <th>0</th>\n",
       "      <td>1.0</td>\n",
       "      <td>2021-07-01 00:30:52</td>\n",
       "      <td>2021-07-01 00:35:36</td>\n",
       "      <td>N</td>\n",
       "      <td>1.0</td>\n",
       "      <td>74</td>\n",
       "      <td>168</td>\n",
       "      <td>1.0</td>\n",
       "      <td>1.20</td>\n",
       "      <td>6.0</td>\n",
       "      <td>0.50</td>\n",
       "      <td>0.5</td>\n",
       "      <td>0.00</td>\n",
       "      <td>0.0</td>\n",
       "      <td>NaN</td>\n",
       "      <td>0.3</td>\n",
       "      <td>7.30</td>\n",
       "      <td>2.0</td>\n",
       "      <td>1.0</td>\n",
       "      <td>0.00</td>\n",
       "    </tr>\n",
       "    <tr>\n",
       "      <th>1</th>\n",
       "      <td>2.0</td>\n",
       "      <td>2021-07-01 00:25:36</td>\n",
       "      <td>2021-07-01 01:01:31</td>\n",
       "      <td>N</td>\n",
       "      <td>1.0</td>\n",
       "      <td>116</td>\n",
       "      <td>265</td>\n",
       "      <td>2.0</td>\n",
       "      <td>13.69</td>\n",
       "      <td>42.0</td>\n",
       "      <td>0.50</td>\n",
       "      <td>0.5</td>\n",
       "      <td>0.00</td>\n",
       "      <td>0.0</td>\n",
       "      <td>NaN</td>\n",
       "      <td>0.3</td>\n",
       "      <td>43.30</td>\n",
       "      <td>2.0</td>\n",
       "      <td>1.0</td>\n",
       "      <td>0.00</td>\n",
       "    </tr>\n",
       "    <tr>\n",
       "      <th>2</th>\n",
       "      <td>2.0</td>\n",
       "      <td>2021-07-01 00:05:58</td>\n",
       "      <td>2021-07-01 00:12:00</td>\n",
       "      <td>N</td>\n",
       "      <td>1.0</td>\n",
       "      <td>97</td>\n",
       "      <td>33</td>\n",
       "      <td>1.0</td>\n",
       "      <td>0.95</td>\n",
       "      <td>6.5</td>\n",
       "      <td>0.50</td>\n",
       "      <td>0.5</td>\n",
       "      <td>2.34</td>\n",
       "      <td>0.0</td>\n",
       "      <td>NaN</td>\n",
       "      <td>0.3</td>\n",
       "      <td>10.14</td>\n",
       "      <td>1.0</td>\n",
       "      <td>1.0</td>\n",
       "      <td>0.00</td>\n",
       "    </tr>\n",
       "    <tr>\n",
       "      <th>3</th>\n",
       "      <td>2.0</td>\n",
       "      <td>2021-07-01 00:41:40</td>\n",
       "      <td>2021-07-01 00:47:23</td>\n",
       "      <td>N</td>\n",
       "      <td>1.0</td>\n",
       "      <td>74</td>\n",
       "      <td>42</td>\n",
       "      <td>1.0</td>\n",
       "      <td>1.24</td>\n",
       "      <td>6.5</td>\n",
       "      <td>0.50</td>\n",
       "      <td>0.5</td>\n",
       "      <td>0.00</td>\n",
       "      <td>0.0</td>\n",
       "      <td>NaN</td>\n",
       "      <td>0.3</td>\n",
       "      <td>7.80</td>\n",
       "      <td>2.0</td>\n",
       "      <td>1.0</td>\n",
       "      <td>0.00</td>\n",
       "    </tr>\n",
       "    <tr>\n",
       "      <th>4</th>\n",
       "      <td>2.0</td>\n",
       "      <td>2021-07-01 00:51:32</td>\n",
       "      <td>2021-07-01 00:58:46</td>\n",
       "      <td>N</td>\n",
       "      <td>1.0</td>\n",
       "      <td>42</td>\n",
       "      <td>244</td>\n",
       "      <td>1.0</td>\n",
       "      <td>1.10</td>\n",
       "      <td>7.0</td>\n",
       "      <td>0.50</td>\n",
       "      <td>0.5</td>\n",
       "      <td>0.00</td>\n",
       "      <td>0.0</td>\n",
       "      <td>NaN</td>\n",
       "      <td>0.3</td>\n",
       "      <td>8.30</td>\n",
       "      <td>2.0</td>\n",
       "      <td>1.0</td>\n",
       "      <td>0.00</td>\n",
       "    </tr>\n",
       "    <tr>\n",
       "      <th>5</th>\n",
       "      <td>1.0</td>\n",
       "      <td>2021-07-01 00:05:00</td>\n",
       "      <td>2021-07-01 00:11:50</td>\n",
       "      <td>N</td>\n",
       "      <td>1.0</td>\n",
       "      <td>24</td>\n",
       "      <td>239</td>\n",
       "      <td>1.0</td>\n",
       "      <td>1.90</td>\n",
       "      <td>8.0</td>\n",
       "      <td>3.25</td>\n",
       "      <td>0.5</td>\n",
       "      <td>3.00</td>\n",
       "      <td>0.0</td>\n",
       "      <td>NaN</td>\n",
       "      <td>0.3</td>\n",
       "      <td>15.05</td>\n",
       "      <td>1.0</td>\n",
       "      <td>1.0</td>\n",
       "      <td>2.75</td>\n",
       "    </tr>\n",
       "    <tr>\n",
       "      <th>6</th>\n",
       "      <td>2.0</td>\n",
       "      <td>2021-07-01 00:57:14</td>\n",
       "      <td>2021-07-01 01:27:43</td>\n",
       "      <td>N</td>\n",
       "      <td>1.0</td>\n",
       "      <td>75</td>\n",
       "      <td>243</td>\n",
       "      <td>1.0</td>\n",
       "      <td>0.00</td>\n",
       "      <td>17.5</td>\n",
       "      <td>0.50</td>\n",
       "      <td>0.5</td>\n",
       "      <td>0.00</td>\n",
       "      <td>0.0</td>\n",
       "      <td>NaN</td>\n",
       "      <td>0.3</td>\n",
       "      <td>18.80</td>\n",
       "      <td>2.0</td>\n",
       "      <td>1.0</td>\n",
       "      <td>0.00</td>\n",
       "    </tr>\n",
       "    <tr>\n",
       "      <th>7</th>\n",
       "      <td>2.0</td>\n",
       "      <td>2021-07-01 00:27:36</td>\n",
       "      <td>2021-07-01 00:32:35</td>\n",
       "      <td>N</td>\n",
       "      <td>1.0</td>\n",
       "      <td>82</td>\n",
       "      <td>82</td>\n",
       "      <td>1.0</td>\n",
       "      <td>0.66</td>\n",
       "      <td>5.0</td>\n",
       "      <td>0.50</td>\n",
       "      <td>0.5</td>\n",
       "      <td>0.00</td>\n",
       "      <td>0.0</td>\n",
       "      <td>NaN</td>\n",
       "      <td>0.3</td>\n",
       "      <td>6.30</td>\n",
       "      <td>2.0</td>\n",
       "      <td>1.0</td>\n",
       "      <td>0.00</td>\n",
       "    </tr>\n",
       "    <tr>\n",
       "      <th>8</th>\n",
       "      <td>2.0</td>\n",
       "      <td>2021-07-01 00:29:09</td>\n",
       "      <td>2021-07-01 00:34:18</td>\n",
       "      <td>N</td>\n",
       "      <td>1.0</td>\n",
       "      <td>74</td>\n",
       "      <td>42</td>\n",
       "      <td>1.0</td>\n",
       "      <td>1.72</td>\n",
       "      <td>7.0</td>\n",
       "      <td>0.50</td>\n",
       "      <td>0.5</td>\n",
       "      <td>2.08</td>\n",
       "      <td>0.0</td>\n",
       "      <td>NaN</td>\n",
       "      <td>0.3</td>\n",
       "      <td>10.38</td>\n",
       "      <td>1.0</td>\n",
       "      <td>1.0</td>\n",
       "      <td>0.00</td>\n",
       "    </tr>\n",
       "    <tr>\n",
       "      <th>9</th>\n",
       "      <td>2.0</td>\n",
       "      <td>2021-07-01 00:41:33</td>\n",
       "      <td>2021-07-01 00:49:24</td>\n",
       "      <td>N</td>\n",
       "      <td>1.0</td>\n",
       "      <td>41</td>\n",
       "      <td>42</td>\n",
       "      <td>1.0</td>\n",
       "      <td>1.37</td>\n",
       "      <td>7.5</td>\n",
       "      <td>0.50</td>\n",
       "      <td>0.5</td>\n",
       "      <td>0.00</td>\n",
       "      <td>0.0</td>\n",
       "      <td>NaN</td>\n",
       "      <td>0.3</td>\n",
       "      <td>8.80</td>\n",
       "      <td>2.0</td>\n",
       "      <td>1.0</td>\n",
       "      <td>0.00</td>\n",
       "    </tr>\n",
       "  </tbody>\n",
       "</table>\n",
       "</div>"
      ],
      "text/plain": [
       "   VendorID lpep_pickup_datetime lpep_dropoff_datetime store_and_fwd_flag  \\\n",
       "0       1.0  2021-07-01 00:30:52   2021-07-01 00:35:36                  N   \n",
       "1       2.0  2021-07-01 00:25:36   2021-07-01 01:01:31                  N   \n",
       "2       2.0  2021-07-01 00:05:58   2021-07-01 00:12:00                  N   \n",
       "3       2.0  2021-07-01 00:41:40   2021-07-01 00:47:23                  N   \n",
       "4       2.0  2021-07-01 00:51:32   2021-07-01 00:58:46                  N   \n",
       "5       1.0  2021-07-01 00:05:00   2021-07-01 00:11:50                  N   \n",
       "6       2.0  2021-07-01 00:57:14   2021-07-01 01:27:43                  N   \n",
       "7       2.0  2021-07-01 00:27:36   2021-07-01 00:32:35                  N   \n",
       "8       2.0  2021-07-01 00:29:09   2021-07-01 00:34:18                  N   \n",
       "9       2.0  2021-07-01 00:41:33   2021-07-01 00:49:24                  N   \n",
       "\n",
       "   RatecodeID  PULocationID  DOLocationID  passenger_count  trip_distance  \\\n",
       "0         1.0            74           168              1.0           1.20   \n",
       "1         1.0           116           265              2.0          13.69   \n",
       "2         1.0            97            33              1.0           0.95   \n",
       "3         1.0            74            42              1.0           1.24   \n",
       "4         1.0            42           244              1.0           1.10   \n",
       "5         1.0            24           239              1.0           1.90   \n",
       "6         1.0            75           243              1.0           0.00   \n",
       "7         1.0            82            82              1.0           0.66   \n",
       "8         1.0            74            42              1.0           1.72   \n",
       "9         1.0            41            42              1.0           1.37   \n",
       "\n",
       "   fare_amount  extra  mta_tax  tip_amount  tolls_amount  ehail_fee  \\\n",
       "0          6.0   0.50      0.5        0.00           0.0        NaN   \n",
       "1         42.0   0.50      0.5        0.00           0.0        NaN   \n",
       "2          6.5   0.50      0.5        2.34           0.0        NaN   \n",
       "3          6.5   0.50      0.5        0.00           0.0        NaN   \n",
       "4          7.0   0.50      0.5        0.00           0.0        NaN   \n",
       "5          8.0   3.25      0.5        3.00           0.0        NaN   \n",
       "6         17.5   0.50      0.5        0.00           0.0        NaN   \n",
       "7          5.0   0.50      0.5        0.00           0.0        NaN   \n",
       "8          7.0   0.50      0.5        2.08           0.0        NaN   \n",
       "9          7.5   0.50      0.5        0.00           0.0        NaN   \n",
       "\n",
       "   improvement_surcharge  total_amount  payment_type  trip_type  \\\n",
       "0                    0.3          7.30           2.0        1.0   \n",
       "1                    0.3         43.30           2.0        1.0   \n",
       "2                    0.3         10.14           1.0        1.0   \n",
       "3                    0.3          7.80           2.0        1.0   \n",
       "4                    0.3          8.30           2.0        1.0   \n",
       "5                    0.3         15.05           1.0        1.0   \n",
       "6                    0.3         18.80           2.0        1.0   \n",
       "7                    0.3          6.30           2.0        1.0   \n",
       "8                    0.3         10.38           1.0        1.0   \n",
       "9                    0.3          8.80           2.0        1.0   \n",
       "\n",
       "   congestion_surcharge  \n",
       "0                  0.00  \n",
       "1                  0.00  \n",
       "2                  0.00  \n",
       "3                  0.00  \n",
       "4                  0.00  \n",
       "5                  2.75  \n",
       "6                  0.00  \n",
       "7                  0.00  \n",
       "8                  0.00  \n",
       "9                  0.00  "
      ]
     },
     "execution_count": 65,
     "metadata": {},
     "output_type": "execute_result"
    }
   ],
   "source": [
    "df = pd.read_csv('taxi_tripdata.csv')\n",
    "df.head(10)"
   ]
  },
  {
   "cell_type": "code",
   "execution_count": 58,
   "id": "0af08ad2-1e5d-4cdc-b2a9-76d1a3a7d0b9",
   "metadata": {},
   "outputs": [
    {
     "name": "stdout",
     "output_type": "stream",
     "text": [
      "<class 'pandas.core.frame.DataFrame'>\n",
      "RangeIndex: 83691 entries, 0 to 83690\n",
      "Data columns (total 20 columns):\n",
      " #   Column                 Non-Null Count  Dtype  \n",
      "---  ------                 --------------  -----  \n",
      " 0   VendorID               51173 non-null  float64\n",
      " 1   lpep_pickup_datetime   83691 non-null  object \n",
      " 2   lpep_dropoff_datetime  83691 non-null  object \n",
      " 3   store_and_fwd_flag     51173 non-null  object \n",
      " 4   RatecodeID             51173 non-null  float64\n",
      " 5   PULocationID           83691 non-null  int64  \n",
      " 6   DOLocationID           83691 non-null  int64  \n",
      " 7   passenger_count        51173 non-null  float64\n",
      " 8   trip_distance          83691 non-null  float64\n",
      " 9   fare_amount            83691 non-null  float64\n",
      " 10  extra                  83691 non-null  float64\n",
      " 11  mta_tax                83691 non-null  float64\n",
      " 12  tip_amount             83691 non-null  float64\n",
      " 13  tolls_amount           83691 non-null  float64\n",
      " 14  ehail_fee              0 non-null      float64\n",
      " 15  improvement_surcharge  83691 non-null  float64\n",
      " 16  total_amount           83691 non-null  float64\n",
      " 17  payment_type           51173 non-null  float64\n",
      " 18  trip_type              51173 non-null  float64\n",
      " 19  congestion_surcharge   51173 non-null  float64\n",
      "dtypes: float64(15), int64(2), object(3)\n",
      "memory usage: 12.8+ MB\n"
     ]
    }
   ],
   "source": [
    "df.info()"
   ]
  },
  {
   "cell_type": "code",
   "execution_count": 59,
   "id": "328660ef-94b0-4c1f-9877-6da00760ea1d",
   "metadata": {},
   "outputs": [
    {
     "data": {
      "text/plain": [
       "VendorID                 32518\n",
       "lpep_pickup_datetime         0\n",
       "lpep_dropoff_datetime        0\n",
       "store_and_fwd_flag       32518\n",
       "RatecodeID               32518\n",
       "PULocationID                 0\n",
       "DOLocationID                 0\n",
       "passenger_count          32518\n",
       "trip_distance                0\n",
       "fare_amount                  0\n",
       "extra                        0\n",
       "mta_tax                      0\n",
       "tip_amount                   0\n",
       "tolls_amount                 0\n",
       "ehail_fee                83691\n",
       "improvement_surcharge        0\n",
       "total_amount                 0\n",
       "payment_type             32518\n",
       "trip_type                32518\n",
       "congestion_surcharge     32518\n",
       "dtype: int64"
      ]
     },
     "execution_count": 59,
     "metadata": {},
     "output_type": "execute_result"
    }
   ],
   "source": [
    "df.isnull().sum()"
   ]
  },
  {
   "cell_type": "code",
   "execution_count": null,
   "id": "9f52b071-49b4-4251-bdf7-5aed2da1b18b",
   "metadata": {},
   "outputs": [],
   "source": [
    "# ehail_fee has most missing values"
   ]
  },
  {
   "cell_type": "code",
   "execution_count": 60,
   "id": "5d15fcf0-978c-491d-b7c4-63246fa5966c",
   "metadata": {},
   "outputs": [
    {
     "data": {
      "text/html": [
       "<div>\n",
       "<style scoped>\n",
       "    .dataframe tbody tr th:only-of-type {\n",
       "        vertical-align: middle;\n",
       "    }\n",
       "\n",
       "    .dataframe tbody tr th {\n",
       "        vertical-align: top;\n",
       "    }\n",
       "\n",
       "    .dataframe thead th {\n",
       "        text-align: right;\n",
       "    }\n",
       "</style>\n",
       "<table border=\"1\" class=\"dataframe\">\n",
       "  <thead>\n",
       "    <tr style=\"text-align: right;\">\n",
       "      <th></th>\n",
       "      <th>count</th>\n",
       "      <th>mean</th>\n",
       "      <th>std</th>\n",
       "      <th>min</th>\n",
       "      <th>25%</th>\n",
       "      <th>50%</th>\n",
       "      <th>75%</th>\n",
       "      <th>max</th>\n",
       "    </tr>\n",
       "  </thead>\n",
       "  <tbody>\n",
       "    <tr>\n",
       "      <th>VendorID</th>\n",
       "      <td>51173.0</td>\n",
       "      <td>1.851113</td>\n",
       "      <td>0.355981</td>\n",
       "      <td>1.00</td>\n",
       "      <td>2.00</td>\n",
       "      <td>2.00</td>\n",
       "      <td>2.00</td>\n",
       "      <td>2.00</td>\n",
       "    </tr>\n",
       "    <tr>\n",
       "      <th>RatecodeID</th>\n",
       "      <td>51173.0</td>\n",
       "      <td>1.159244</td>\n",
       "      <td>0.773260</td>\n",
       "      <td>1.00</td>\n",
       "      <td>1.00</td>\n",
       "      <td>1.00</td>\n",
       "      <td>1.00</td>\n",
       "      <td>5.00</td>\n",
       "    </tr>\n",
       "    <tr>\n",
       "      <th>PULocationID</th>\n",
       "      <td>83691.0</td>\n",
       "      <td>108.362572</td>\n",
       "      <td>70.370170</td>\n",
       "      <td>3.00</td>\n",
       "      <td>56.00</td>\n",
       "      <td>75.00</td>\n",
       "      <td>166.00</td>\n",
       "      <td>265.00</td>\n",
       "    </tr>\n",
       "    <tr>\n",
       "      <th>DOLocationID</th>\n",
       "      <td>83691.0</td>\n",
       "      <td>133.270005</td>\n",
       "      <td>77.216791</td>\n",
       "      <td>1.00</td>\n",
       "      <td>69.00</td>\n",
       "      <td>132.00</td>\n",
       "      <td>205.00</td>\n",
       "      <td>265.00</td>\n",
       "    </tr>\n",
       "    <tr>\n",
       "      <th>passenger_count</th>\n",
       "      <td>51173.0</td>\n",
       "      <td>1.307858</td>\n",
       "      <td>0.984362</td>\n",
       "      <td>0.00</td>\n",
       "      <td>1.00</td>\n",
       "      <td>1.00</td>\n",
       "      <td>1.00</td>\n",
       "      <td>32.00</td>\n",
       "    </tr>\n",
       "    <tr>\n",
       "      <th>trip_distance</th>\n",
       "      <td>83691.0</td>\n",
       "      <td>194.354699</td>\n",
       "      <td>4405.549221</td>\n",
       "      <td>0.00</td>\n",
       "      <td>1.35</td>\n",
       "      <td>2.76</td>\n",
       "      <td>6.20</td>\n",
       "      <td>260517.93</td>\n",
       "    </tr>\n",
       "    <tr>\n",
       "      <th>fare_amount</th>\n",
       "      <td>83691.0</td>\n",
       "      <td>20.388305</td>\n",
       "      <td>15.583552</td>\n",
       "      <td>-150.00</td>\n",
       "      <td>9.00</td>\n",
       "      <td>16.00</td>\n",
       "      <td>26.83</td>\n",
       "      <td>480.00</td>\n",
       "    </tr>\n",
       "    <tr>\n",
       "      <th>extra</th>\n",
       "      <td>83691.0</td>\n",
       "      <td>1.156707</td>\n",
       "      <td>1.367897</td>\n",
       "      <td>-4.50</td>\n",
       "      <td>0.00</td>\n",
       "      <td>0.50</td>\n",
       "      <td>2.75</td>\n",
       "      <td>8.25</td>\n",
       "    </tr>\n",
       "    <tr>\n",
       "      <th>mta_tax</th>\n",
       "      <td>83691.0</td>\n",
       "      <td>0.293562</td>\n",
       "      <td>0.247773</td>\n",
       "      <td>-0.50</td>\n",
       "      <td>0.00</td>\n",
       "      <td>0.50</td>\n",
       "      <td>0.50</td>\n",
       "      <td>0.50</td>\n",
       "    </tr>\n",
       "    <tr>\n",
       "      <th>tip_amount</th>\n",
       "      <td>83691.0</td>\n",
       "      <td>1.058618</td>\n",
       "      <td>2.368771</td>\n",
       "      <td>-1.14</td>\n",
       "      <td>0.00</td>\n",
       "      <td>0.00</td>\n",
       "      <td>1.66</td>\n",
       "      <td>87.71</td>\n",
       "    </tr>\n",
       "    <tr>\n",
       "      <th>tolls_amount</th>\n",
       "      <td>83691.0</td>\n",
       "      <td>0.624529</td>\n",
       "      <td>1.990481</td>\n",
       "      <td>0.00</td>\n",
       "      <td>0.00</td>\n",
       "      <td>0.00</td>\n",
       "      <td>0.00</td>\n",
       "      <td>30.05</td>\n",
       "    </tr>\n",
       "    <tr>\n",
       "      <th>ehail_fee</th>\n",
       "      <td>0.0</td>\n",
       "      <td>NaN</td>\n",
       "      <td>NaN</td>\n",
       "      <td>NaN</td>\n",
       "      <td>NaN</td>\n",
       "      <td>NaN</td>\n",
       "      <td>NaN</td>\n",
       "      <td>NaN</td>\n",
       "    </tr>\n",
       "    <tr>\n",
       "      <th>improvement_surcharge</th>\n",
       "      <td>83691.0</td>\n",
       "      <td>0.297745</td>\n",
       "      <td>0.031219</td>\n",
       "      <td>-0.30</td>\n",
       "      <td>0.30</td>\n",
       "      <td>0.30</td>\n",
       "      <td>0.30</td>\n",
       "      <td>0.30</td>\n",
       "    </tr>\n",
       "    <tr>\n",
       "      <th>total_amount</th>\n",
       "      <td>83691.0</td>\n",
       "      <td>24.204836</td>\n",
       "      <td>17.262183</td>\n",
       "      <td>-150.30</td>\n",
       "      <td>11.76</td>\n",
       "      <td>19.80</td>\n",
       "      <td>31.30</td>\n",
       "      <td>480.31</td>\n",
       "    </tr>\n",
       "    <tr>\n",
       "      <th>payment_type</th>\n",
       "      <td>51173.0</td>\n",
       "      <td>1.421726</td>\n",
       "      <td>0.511146</td>\n",
       "      <td>1.00</td>\n",
       "      <td>1.00</td>\n",
       "      <td>1.00</td>\n",
       "      <td>2.00</td>\n",
       "      <td>5.00</td>\n",
       "    </tr>\n",
       "    <tr>\n",
       "      <th>trip_type</th>\n",
       "      <td>51173.0</td>\n",
       "      <td>1.034393</td>\n",
       "      <td>0.182239</td>\n",
       "      <td>1.00</td>\n",
       "      <td>1.00</td>\n",
       "      <td>1.00</td>\n",
       "      <td>1.00</td>\n",
       "      <td>2.00</td>\n",
       "    </tr>\n",
       "    <tr>\n",
       "      <th>congestion_surcharge</th>\n",
       "      <td>51173.0</td>\n",
       "      <td>0.642815</td>\n",
       "      <td>1.164219</td>\n",
       "      <td>-2.75</td>\n",
       "      <td>0.00</td>\n",
       "      <td>0.00</td>\n",
       "      <td>0.00</td>\n",
       "      <td>2.75</td>\n",
       "    </tr>\n",
       "  </tbody>\n",
       "</table>\n",
       "</div>"
      ],
      "text/plain": [
       "                         count        mean          std     min    25%  \\\n",
       "VendorID               51173.0    1.851113     0.355981    1.00   2.00   \n",
       "RatecodeID             51173.0    1.159244     0.773260    1.00   1.00   \n",
       "PULocationID           83691.0  108.362572    70.370170    3.00  56.00   \n",
       "DOLocationID           83691.0  133.270005    77.216791    1.00  69.00   \n",
       "passenger_count        51173.0    1.307858     0.984362    0.00   1.00   \n",
       "trip_distance          83691.0  194.354699  4405.549221    0.00   1.35   \n",
       "fare_amount            83691.0   20.388305    15.583552 -150.00   9.00   \n",
       "extra                  83691.0    1.156707     1.367897   -4.50   0.00   \n",
       "mta_tax                83691.0    0.293562     0.247773   -0.50   0.00   \n",
       "tip_amount             83691.0    1.058618     2.368771   -1.14   0.00   \n",
       "tolls_amount           83691.0    0.624529     1.990481    0.00   0.00   \n",
       "ehail_fee                  0.0         NaN          NaN     NaN    NaN   \n",
       "improvement_surcharge  83691.0    0.297745     0.031219   -0.30   0.30   \n",
       "total_amount           83691.0   24.204836    17.262183 -150.30  11.76   \n",
       "payment_type           51173.0    1.421726     0.511146    1.00   1.00   \n",
       "trip_type              51173.0    1.034393     0.182239    1.00   1.00   \n",
       "congestion_surcharge   51173.0    0.642815     1.164219   -2.75   0.00   \n",
       "\n",
       "                          50%     75%        max  \n",
       "VendorID                 2.00    2.00       2.00  \n",
       "RatecodeID               1.00    1.00       5.00  \n",
       "PULocationID            75.00  166.00     265.00  \n",
       "DOLocationID           132.00  205.00     265.00  \n",
       "passenger_count          1.00    1.00      32.00  \n",
       "trip_distance            2.76    6.20  260517.93  \n",
       "fare_amount             16.00   26.83     480.00  \n",
       "extra                    0.50    2.75       8.25  \n",
       "mta_tax                  0.50    0.50       0.50  \n",
       "tip_amount               0.00    1.66      87.71  \n",
       "tolls_amount             0.00    0.00      30.05  \n",
       "ehail_fee                 NaN     NaN        NaN  \n",
       "improvement_surcharge    0.30    0.30       0.30  \n",
       "total_amount            19.80   31.30     480.31  \n",
       "payment_type             1.00    2.00       5.00  \n",
       "trip_type                1.00    1.00       2.00  \n",
       "congestion_surcharge     0.00    0.00       2.75  "
      ]
     },
     "execution_count": 60,
     "metadata": {},
     "output_type": "execute_result"
    }
   ],
   "source": [
    "df.describe().T"
   ]
  },
  {
   "cell_type": "code",
   "execution_count": null,
   "id": "29d09fd3-918b-44fb-a0df-bd7c4da338be",
   "metadata": {},
   "outputs": [],
   "source": [
    "#average trip distance = ~194 miles"
   ]
  },
  {
   "cell_type": "code",
   "execution_count": 61,
   "id": "93e44904-5565-401a-850d-21c13a54a4c2",
   "metadata": {},
   "outputs": [
    {
     "data": {
      "text/plain": [
       "194.35469931055908"
      ]
     },
     "execution_count": 61,
     "metadata": {},
     "output_type": "execute_result"
    }
   ],
   "source": [
    "df['trip_distance'].mean()"
   ]
  },
  {
   "cell_type": "code",
   "execution_count": 62,
   "id": "8ee7ed6d-2e01-42b6-959d-7d86f66d6c46",
   "metadata": {},
   "outputs": [],
   "source": [
    "df_cleaned = df.dropna()"
   ]
  },
  {
   "cell_type": "code",
   "execution_count": 63,
   "id": "73aadf49-e4f5-4d48-a0ce-5a25beb74b76",
   "metadata": {},
   "outputs": [
    {
     "data": {
      "text/plain": [
       "VendorID                 32518\n",
       "lpep_pickup_datetime         0\n",
       "lpep_dropoff_datetime        0\n",
       "store_and_fwd_flag       32518\n",
       "RatecodeID               32518\n",
       "PULocationID                 0\n",
       "DOLocationID                 0\n",
       "passenger_count          32518\n",
       "trip_distance                0\n",
       "fare_amount                  0\n",
       "extra                        0\n",
       "mta_tax                      0\n",
       "tip_amount                   0\n",
       "tolls_amount                 0\n",
       "ehail_fee                83691\n",
       "improvement_surcharge        0\n",
       "total_amount                 0\n",
       "payment_type             32518\n",
       "trip_type                32518\n",
       "congestion_surcharge     32518\n",
       "dtype: int64"
      ]
     },
     "execution_count": 63,
     "metadata": {},
     "output_type": "execute_result"
    }
   ],
   "source": [
    "df.isnull().sum()"
   ]
  },
  {
   "cell_type": "code",
   "execution_count": 32,
   "id": "cb82043a-4822-4e25-ad4f-8f8b55e93c9a",
   "metadata": {},
   "outputs": [],
   "source": [
    "# Drop rows with missing values\n",
    "taxi.dropna (inplace=True)"
   ]
  },
  {
   "cell_type": "code",
   "execution_count": 47,
   "id": "1d1e2dfb-f99c-48a3-a9ad-8d773d08da8e",
   "metadata": {},
   "outputs": [
    {
     "data": {
      "text/plain": [
       "(83691, 20)"
      ]
     },
     "execution_count": 47,
     "metadata": {},
     "output_type": "execute_result"
    }
   ],
   "source": [
    "taxi.shape"
   ]
  },
  {
   "cell_type": "code",
   "execution_count": 71,
   "id": "0562855a-70e1-4ea4-bdbe-646467b24dc3",
   "metadata": {},
   "outputs": [],
   "source": [
    "max_trip_distance = df['trip_distance'].max()\n",
    "nyc_taxi_data_cleaned = df[df['trip_distance']!= max_trip_distance]"
   ]
  },
  {
   "cell_type": "code",
   "execution_count": 80,
   "id": "2f8e2a29-8163-40c4-94ff-51dca8aae017",
   "metadata": {},
   "outputs": [
    {
     "data": {
      "image/png": "[encoded data removed]",
      "text/plain": [
       "<Figure size 640x480 with 1 Axes>"
      ]
     },
     "metadata": {},
     "output_type": "display_data"
    }
   ],
   "source": [
    "plt.hist(nyc_taxi_data_cleaned['trip_distance'], bins=50, edgecolor='k')\n",
    "plt.xlabel('Trip Distance')\n",
    "plt.ylabel('Frequency')\n",
    "plt.title('Histogram of Trip Distances')\n",
    "plt.show()"
   ]
  },
  {
   "cell_type": "code",
   "execution_count": 86,
   "id": "99e56771-ae70-453b-83b6-0c24e8c0d35a",
   "metadata": {},
   "outputs": [
    {
     "name": "stderr",
     "output_type": "stream",
     "text": [
      "C:\\Users\\mdjro\\AppData\\Local\\Temp\\ipykernel_19592\\4028767526.py:1: UserWarning: \n",
      "\n",
      "`distplot` is a deprecated function and will be removed in seaborn v0.14.0.\n",
      "\n",
      "Please adapt your code to use either `displot` (a figure-level function with\n",
      "similar flexibility) or `histplot` (an axes-level function for histograms).\n",
      "\n",
      "For a guide to updating your code to use the new functions, please see\n",
      "https://gist.github.com/mwaskom/de44147ed2974457ad6372750bbe5751\n",
      "\n",
      "  sns.distplot(nyc_taxi_data_cleaned['trip_distance'])\n",
      "C:\\Users\\mdjro\\anaconda3\\envs\\IOD\\Lib\\site-packages\\seaborn\\_oldcore.py:1119: FutureWarning: use_inf_as_na option is deprecated and will be removed in a future version. Convert inf values to NaN before operating instead.\n",
      "  with pd.option_context('mode.use_inf_as_na', True):\n"
     ]
    },
    {
     "data": {
      "text/plain": [
       "<Axes: xlabel='trip_distance', ylabel='Density'>"
      ]
     },
     "execution_count": 86,
     "metadata": {},
     "output_type": "execute_result"
    },
    {
     "data": {
      "image/png": "[encoded data removed]",
      "text/plain": [
       "<Figure size 640x480 with 1 Axes>"
      ]
     },
     "metadata": {},
     "output_type": "display_data"
    }
   ],
   "source": [
    "sns.distplot(nyc_taxi_data_cleaned['trip_distance'])"
   ]
  },
  {
   "cell_type": "code",
   "execution_count": null,
   "id": "0a8f0207-84ab-452c-a17c-faa721d06408",
   "metadata": {},
   "outputs": [],
   "source": [
    "# do more visualisations.  Find more insights pick up, drop off, etc"
   ]
  },
  {
   "cell_type": "code",
   "execution_count": 87,
   "id": "f990221f-a44e-44ac-99eb-dfc1a9317453",
   "metadata": {},
   "outputs": [
    {
     "name": "stderr",
     "output_type": "stream",
     "text": [
      "Done! Use 'show' commands to display/save.   |██████████| [100%]   00:01 -> (00:00 left)\n"
     ]
    },
    {
     "name": "stdout",
     "output_type": "stream",
     "text": [
      "Report SWEETVIZ_REPORT.html was generated! NOTEBOOK/COLAB USERS: the web browser MAY not pop up, regardless, the report IS saved in your notebook/colab files.\n"
     ]
    }
   ],
   "source": [
    "overview = sv.analyze(df)\n",
    "overview.show_html()"
   ]
  },
  {
   "cell_type": "code",
   "execution_count": 94,
   "id": "a9fa8cd5-6632-4764-8bcd-40e7317c61a7",
   "metadata": {},
   "outputs": [
    {
     "data": {
      "text/plain": [
       "<Axes: xlabel='trip_distance', ylabel='fare_amount'>"
      ]
     },
     "execution_count": 94,
     "metadata": {},
     "output_type": "execute_result"
    },
    {
     "data": {
      "image/png": "[encoded data removed]",
      "text/plain": [
       "<Figure size 640x480 with 1 Axes>"
      ]
     },
     "metadata": {},
     "output_type": "display_data"
    }
   ],
   "source": [
    "sns.scatterplot(data=df, x='trip_distance', y='fare_amount')"
   ]
  },
  {
   "cell_type": "code",
   "execution_count": 95,
   "id": "226f7d9c-fbe5-496a-bb90-fbef75c56a80",
   "metadata": {},
   "outputs": [
    {
     "data": {
      "text/plain": [
       "<Axes: xlabel='trip_distance', ylabel='tip_amount'>"
      ]
     },
     "execution_count": 95,
     "metadata": {},
     "output_type": "execute_result"
    },
    {
     "data": {
      "image/png": "[encoded data removed]",
      "text/plain": [
       "<Figure size 640x480 with 1 Axes>"
      ]
     },
     "metadata": {},
     "output_type": "display_data"
    }
   ],
   "source": [
    "sns.scatterplot(data=df, x='trip_distance', y='tip_amount')"
   ]
  },
  {
   "cell_type": "code",
   "execution_count": null,
   "id": "932a8b4a-5e6d-4c7c-9a2b-3429cbe7455c",
   "metadata": {},
   "outputs": [],
   "source": []
  }
 ],
 "metadata": {
  "kernelspec": {
   "display_name": "Python 3 (ipykernel)",
   "language": "python",
   "name": "python3"
  },
  "language_info": {
   "codemirror_mode": {
    "name": "ipython",
    "version": 3
   },
   "file_extension": ".py",
   "mimetype": "text/x-python",
   "name": "python",
   "nbconvert_exporter": "python",
   "pygments_lexer": "ipython3",
   "version": "3.11.9"
  }
 },
 "nbformat": 4,
 "nbformat_minor": 5
}
