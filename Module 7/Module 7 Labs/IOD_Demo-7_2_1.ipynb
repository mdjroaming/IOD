{
 "cells": [
  {
   "cell_type": "markdown",
   "metadata": {
    "id": "DEahhQs1plFz"
   },
   "source": [
    "<div>\n",
    "<img src=https://www.institutedata.com/wp-content/uploads/2019/10/iod_h_tp_primary_c.svg width=\"300\">\n",
    "</div>"
   ]
  },
  {
   "cell_type": "markdown",
   "metadata": {
    "id": "MjoKu00cplF5"
   },
   "source": [
    "# Demo 7.2.1: Bagging\n",
    "\n",
    "INSTRUCTIONS:\n",
    "\n",
    "- Run the cells\n",
    "- Observe and understand the results"
   ]
  },
  {
   "cell_type": "markdown",
   "metadata": {
    "id": "bgmr_-6cplGN"
   },
   "source": [
    "This is an excerpt from the [Ensemble Learning to Improve Machine Learning Results-How ensemble methods work: bagging, boosting and stacking](https://blog.statsbot.co/ensemble-learning-d1dcd548e936) by **Vadim Smolyakov**."
   ]
  },
  {
   "cell_type": "markdown",
   "metadata": {
    "id": "1I_iXDq0plGR"
   },
   "source": [
    "## Bagging\n",
    "**Bagging** stands for bootstrap aggregation. One way to reduce the variance of an estimate is to average together multiple estimates. For example, we can train $M$ different trees $f_m$ on different subsets of the data (chosen randomly with replacement) and compute the ensemble:\n",
    "\n",
    "$$\n",
    "   f(x) = \\frac{1}{M}\\sum_{m=1}^{M}f_m(x)\n",
    "$$\n",
    "\n",
    "Bagging uses bootstrap sampling to obtain the data subsets for training the base learners. For aggregating the outputs of base learners, bagging uses voting for classification and averaging for regression."
   ]
  },
  {
   "cell_type": "code",
   "execution_count": 2,
   "metadata": {
    "id": "6eEnQT38plGS"
   },
   "outputs": [
    {
     "ename": "ModuleNotFoundError",
     "evalue": "No module named 'mlxtend'",
     "output_type": "error",
     "traceback": [
      "\u001b[1;31m---------------------------------------------------------------------------\u001b[0m",
      "\u001b[1;31mModuleNotFoundError\u001b[0m                       Traceback (most recent call last)",
      "Cell \u001b[1;32mIn[2], line 19\u001b[0m\n\u001b[0;32m     16\u001b[0m \u001b[38;5;28;01mfrom\u001b[39;00m \u001b[38;5;21;01msklearn\u001b[39;00m\u001b[38;5;21;01m.\u001b[39;00m\u001b[38;5;21;01mtree\u001b[39;00m \u001b[38;5;28;01mimport\u001b[39;00m DecisionTreeClassifier\n\u001b[0;32m     17\u001b[0m \u001b[38;5;28;01mfrom\u001b[39;00m \u001b[38;5;21;01msklearn\u001b[39;00m\u001b[38;5;21;01m.\u001b[39;00m\u001b[38;5;21;01msvm\u001b[39;00m \u001b[38;5;28;01mimport\u001b[39;00m SVC\n\u001b[1;32m---> 19\u001b[0m \u001b[38;5;28;01mfrom\u001b[39;00m \u001b[38;5;21;01mmlxtend\u001b[39;00m\u001b[38;5;21;01m.\u001b[39;00m\u001b[38;5;21;01mplotting\u001b[39;00m \u001b[38;5;28;01mimport\u001b[39;00m plot_learning_curves\n\u001b[0;32m     20\u001b[0m \u001b[38;5;28;01mfrom\u001b[39;00m \u001b[38;5;21;01mmlxtend\u001b[39;00m\u001b[38;5;21;01m.\u001b[39;00m\u001b[38;5;21;01mplotting\u001b[39;00m \u001b[38;5;28;01mimport\u001b[39;00m plot_decision_regions\n",
      "\u001b[1;31mModuleNotFoundError\u001b[0m: No module named 'mlxtend'"
     ]
    }
   ],
   "source": [
    "## Import Libraries\n",
    "\n",
    "import itertools\n",
    "import numpy as np\n",
    "\n",
    "%matplotlib inline\n",
    "import matplotlib.pyplot as plt\n",
    "import matplotlib.gridspec as gridspec\n",
    "\n",
    "from sklearn import datasets\n",
    "\n",
    "from sklearn.ensemble import BaggingClassifier\n",
    "from sklearn.model_selection import cross_val_score\n",
    "from sklearn.model_selection import train_test_split\n",
    "from sklearn.neighbors import KNeighborsClassifier\n",
    "from sklearn.tree import DecisionTreeClassifier\n",
    "from sklearn.svm import SVC\n",
    "\n",
    "from mlxtend.plotting import plot_learning_curves\n",
    "from mlxtend.plotting import plot_decision_regions"
   ]
  },
  {
   "cell_type": "code",
   "execution_count": 4,
   "metadata": {
    "colab": {
     "base_uri": "https://localhost:8080/"
    },
    "executionInfo": {
     "elapsed": 8440,
     "status": "ok",
     "timestamp": 1716971842917,
     "user": {
      "displayName": "Samuel Hambling",
      "userId": "16671324372129903179"
     },
     "user_tz": -720
    },
    "id": "DrINtZy0U6bu",
    "outputId": "2f9aba67-1282-47cf-c580-99559905a523"
   },
   "outputs": [
    {
     "name": "stdout",
     "output_type": "stream",
     "text": [
      "Collecting mlxtend\n",
      "  Downloading mlxtend-0.23.1-py3-none-any.whl.metadata (7.3 kB)\n",
      "Requirement already satisfied: scipy>=1.2.1 in c:\\users\\mdjro\\anaconda3\\envs\\iod\\lib\\site-packages (from mlxtend) (1.14.0)\n",
      "Requirement already satisfied: numpy>=1.16.2 in c:\\users\\mdjro\\anaconda3\\envs\\iod\\lib\\site-packages (from mlxtend) (1.26.4)\n",
      "Requirement already satisfied: pandas>=0.24.2 in c:\\users\\mdjro\\anaconda3\\envs\\iod\\lib\\site-packages (from mlxtend) (2.2.2)\n",
      "Requirement already satisfied: scikit-learn>=1.0.2 in c:\\users\\mdjro\\anaconda3\\envs\\iod\\lib\\site-packages (from mlxtend) (1.5.1)\n",
      "Requirement already satisfied: matplotlib>=3.0.0 in c:\\users\\mdjro\\anaconda3\\envs\\iod\\lib\\site-packages (from mlxtend) (3.8.4)\n",
      "Requirement already satisfied: joblib>=0.13.2 in c:\\users\\mdjro\\anaconda3\\envs\\iod\\lib\\site-packages (from mlxtend) (1.4.2)\n",
      "Requirement already satisfied: contourpy>=1.0.1 in c:\\users\\mdjro\\anaconda3\\envs\\iod\\lib\\site-packages (from matplotlib>=3.0.0->mlxtend) (1.2.0)\n",
      "Requirement already satisfied: cycler>=0.10 in c:\\users\\mdjro\\anaconda3\\envs\\iod\\lib\\site-packages (from matplotlib>=3.0.0->mlxtend) (0.11.0)\n",
      "Requirement already satisfied: fonttools>=4.22.0 in c:\\users\\mdjro\\anaconda3\\envs\\iod\\lib\\site-packages (from matplotlib>=3.0.0->mlxtend) (4.51.0)\n",
      "Requirement already satisfied: kiwisolver>=1.3.1 in c:\\users\\mdjro\\anaconda3\\envs\\iod\\lib\\site-packages (from matplotlib>=3.0.0->mlxtend) (1.4.4)\n",
      "Requirement already satisfied: packaging>=20.0 in c:\\users\\mdjro\\anaconda3\\envs\\iod\\lib\\site-packages (from matplotlib>=3.0.0->mlxtend) (24.1)\n",
      "Requirement already satisfied: pillow>=8 in c:\\users\\mdjro\\anaconda3\\envs\\iod\\lib\\site-packages (from matplotlib>=3.0.0->mlxtend) (10.4.0)\n",
      "Requirement already satisfied: pyparsing>=2.3.1 in c:\\users\\mdjro\\anaconda3\\envs\\iod\\lib\\site-packages (from matplotlib>=3.0.0->mlxtend) (3.0.9)\n",
      "Requirement already satisfied: python-dateutil>=2.7 in c:\\users\\mdjro\\anaconda3\\envs\\iod\\lib\\site-packages (from matplotlib>=3.0.0->mlxtend) (2.9.0.post0)\n",
      "Requirement already satisfied: pytz>=2020.1 in c:\\users\\mdjro\\anaconda3\\envs\\iod\\lib\\site-packages (from pandas>=0.24.2->mlxtend) (2024.1)\n",
      "Requirement already satisfied: tzdata>=2022.7 in c:\\users\\mdjro\\anaconda3\\envs\\iod\\lib\\site-packages (from pandas>=0.24.2->mlxtend) (2023.3)\n",
      "Requirement already satisfied: threadpoolctl>=3.1.0 in c:\\users\\mdjro\\anaconda3\\envs\\iod\\lib\\site-packages (from scikit-learn>=1.0.2->mlxtend) (3.5.0)\n",
      "Requirement already satisfied: six>=1.5 in c:\\users\\mdjro\\anaconda3\\envs\\iod\\lib\\site-packages (from python-dateutil>=2.7->matplotlib>=3.0.0->mlxtend) (1.16.0)\n",
      "Downloading mlxtend-0.23.1-py3-none-any.whl (1.4 MB)\n",
      "   ---------------------------------------- 0.0/1.4 MB ? eta -:--:--\n",
      "    --------------------------------------- 0.0/1.4 MB 660.6 kB/s eta 0:00:03\n",
      "   -------------- ------------------------- 0.5/1.4 MB 6.8 MB/s eta 0:00:01\n",
      "   ------------------------------- -------- 1.2/1.4 MB 9.2 MB/s eta 0:00:01\n",
      "   ---------------------------------------- 1.4/1.4 MB 8.4 MB/s eta 0:00:00\n",
      "Installing collected packages: mlxtend\n",
      "Successfully installed mlxtend-0.23.1\n"
     ]
    }
   ],
   "source": [
    "!pip install mlxtend"
   ]
  },
  {
   "cell_type": "markdown",
   "metadata": {
    "id": "P9oRR2IaplGj"
   },
   "source": [
    "## Load data"
   ]
  },
  {
   "cell_type": "code",
   "execution_count": 6,
   "metadata": {
    "id": "FeT85llYplGs"
   },
   "outputs": [],
   "source": [
    "## Loading the dataset\n",
    "\n",
    "iris = datasets.load_iris()\n",
    "\n",
    "# picking just the first two features\n",
    "X = iris.data[:, 0:2]\n",
    "# target\n",
    "y = iris.target"
   ]
  },
  {
   "cell_type": "code",
   "execution_count": 8,
   "metadata": {
    "colab": {
     "base_uri": "https://localhost:8080/"
    },
    "executionInfo": {
     "elapsed": 9,
     "status": "ok",
     "timestamp": 1716971845438,
     "user": {
      "displayName": "Samuel Hambling",
      "userId": "16671324372129903179"
     },
     "user_tz": -720
    },
    "id": "1v_8m5SJplG0",
    "outputId": "37b8ade1-06f6-4582-be59-1defdb00064f"
   },
   "outputs": [
    {
     "name": "stdout",
     "output_type": "stream",
     "text": [
      "(150, 2)\n",
      "[[5.1 3.5]\n",
      " [4.9 3. ]\n",
      " [4.7 3.2]\n",
      " [4.6 3.1]\n",
      " [5.  3.6]]\n"
     ]
    }
   ],
   "source": [
    "## Check the data\n",
    "\n",
    "# About data\n",
    "print(X.shape)\n",
    "print(X[:5])"
   ]
  },
  {
   "cell_type": "code",
   "execution_count": 10,
   "metadata": {
    "colab": {
     "base_uri": "https://localhost:8080/"
    },
    "executionInfo": {
     "elapsed": 6,
     "status": "ok",
     "timestamp": 1716971848466,
     "user": {
      "displayName": "Samuel Hambling",
      "userId": "16671324372129903179"
     },
     "user_tz": -720
    },
    "id": "SKSnRxXEplG4",
    "outputId": "c69bf127-bac9-4f32-aeb6-b70161e72c93"
   },
   "outputs": [
    {
     "name": "stdout",
     "output_type": "stream",
     "text": [
      "(150,)\n",
      "[0 0 0 0 0]\n"
     ]
    }
   ],
   "source": [
    "# About target\n",
    "print(y.shape)\n",
    "print(y[:5])"
   ]
  },
  {
   "cell_type": "markdown",
   "metadata": {
    "id": "s1bbhUQ_plG6"
   },
   "source": [
    "## Modelling"
   ]
  },
  {
   "cell_type": "code",
   "execution_count": 12,
   "metadata": {
    "id": "bsOKFnygplG7"
   },
   "outputs": [],
   "source": [
    "np.random.seed(0)\n",
    "clf1 = DecisionTreeClassifier(criterion = 'entropy', max_depth = 2)\n",
    "clf2 = KNeighborsClassifier(n_neighbors = 1)\n",
    "clf3 = SVC()\n",
    "\n",
    "bagging1 = BaggingClassifier(\n",
    "    estimator = clf1,\n",
    "    n_estimators = 10,\n",
    "    max_samples = 0.8,\n",
    "    max_features = 0.8)\n",
    "bagging2 = BaggingClassifier(\n",
    "    estimator = clf2,\n",
    "    n_estimators = 10,\n",
    "    max_samples = 0.8,\n",
    "    max_features = 0.8)\n",
    "bagging3 = BaggingClassifier(\n",
    "    estimator = clf3,\n",
    "    n_estimators = 10,\n",
    "    max_samples = 0.8,\n",
    "    max_features = 0.8)"
   ]
  },
  {
   "cell_type": "markdown",
   "metadata": {
    "id": "ALsyfnj8plHA"
   },
   "source": [
    "## Presenting results"
   ]
  },
  {
   "cell_type": "markdown",
   "metadata": {
    "id": "kOJmh3IsT5yq"
   },
   "source": [
    "Note that the following code will not be needed in the labs. Decision boundaries can be shown when there are two features considered."
   ]
  },
  {
   "cell_type": "code",
   "execution_count": 14,
   "metadata": {
    "colab": {
     "base_uri": "https://localhost:8080/",
     "height": 770
    },
    "executionInfo": {
     "elapsed": 54296,
     "status": "ok",
     "timestamp": 1716972018978,
     "user": {
      "displayName": "Samuel Hambling",
      "userId": "16671324372129903179"
     },
     "user_tz": -720
    },
    "id": "HiiqN1__plHM",
    "outputId": "9f47a94d-d9f5-480a-be9d-a0f0df953e87"
   },
   "outputs": [
    {
     "name": "stdout",
     "output_type": "stream",
     "text": [
      "Accuracy: 0.65 (+/- 0.04) [Decision Tree]\n"
     ]
    },
    {
     "ename": "NameError",
     "evalue": "name 'plot_decision_regions' is not defined",
     "output_type": "error",
     "traceback": [
      "\u001b[1;31m---------------------------------------------------------------------------\u001b[0m",
      "\u001b[1;31mNameError\u001b[0m                                 Traceback (most recent call last)",
      "Cell \u001b[1;32mIn[14], line 14\u001b[0m\n\u001b[0;32m     12\u001b[0m     clf\u001b[38;5;241m.\u001b[39mfit(X, y)\n\u001b[0;32m     13\u001b[0m     ax \u001b[38;5;241m=\u001b[39m plt\u001b[38;5;241m.\u001b[39msubplot(gs[grd[\u001b[38;5;241m0\u001b[39m], grd[\u001b[38;5;241m1\u001b[39m]])\n\u001b[1;32m---> 14\u001b[0m     fig \u001b[38;5;241m=\u001b[39m plot_decision_regions(X \u001b[38;5;241m=\u001b[39m X, y \u001b[38;5;241m=\u001b[39m y, clf \u001b[38;5;241m=\u001b[39m clf, legend \u001b[38;5;241m=\u001b[39m \u001b[38;5;241m2\u001b[39m)\n\u001b[0;32m     15\u001b[0m     plt\u001b[38;5;241m.\u001b[39mtitle(label)\n\u001b[0;32m     17\u001b[0m plt\u001b[38;5;241m.\u001b[39mshow()\n",
      "\u001b[1;31mNameError\u001b[0m: name 'plot_decision_regions' is not defined"
     ]
    },
    {
     "data": {
      "image/png": "[encoded data removed]",
      "text/plain": [
       "<Figure size 1000x800 with 1 Axes>"
      ]
     },
     "metadata": {},
     "output_type": "display_data"
    }
   ],
   "source": [
    "label = ['Decision Tree', 'K-NN', 'Bagging Tree', 'Bagging K-NN']\n",
    "clf_list = [clf1, clf2, bagging1, bagging2]\n",
    "\n",
    "fig = plt.figure(figsize = (10, 8))\n",
    "gs = gridspec.GridSpec(2, 2)\n",
    "grid = itertools.product([0, 1], repeat = 2)\n",
    "\n",
    "for clf, label, grd in zip(clf_list, label, grid):\n",
    "    scores = cross_val_score(clf, X, y, cv = 3, scoring = 'accuracy')\n",
    "    print('Accuracy: %.2f (+/- %.2f) [%s]' % (scores.mean(), scores.std(), label))\n",
    "\n",
    "    clf.fit(X, y)\n",
    "    ax = plt.subplot(gs[grd[0], grd[1]])\n",
    "    fig = plot_decision_regions(X = X, y = y, clf = clf, legend = 2)\n",
    "    plt.title(label)\n",
    "\n",
    "plt.show()"
   ]
  },
  {
   "cell_type": "code",
   "execution_count": null,
   "metadata": {
    "id": "mBWN6E86KfiP"
   },
   "outputs": [],
   "source": []
  },
  {
   "cell_type": "code",
   "execution_count": 16,
   "metadata": {
    "colab": {
     "base_uri": "https://localhost:8080/"
    },
    "executionInfo": {
     "elapsed": 391,
     "status": "ok",
     "timestamp": 1716972225252,
     "user": {
      "displayName": "Samuel Hambling",
      "userId": "16671324372129903179"
     },
     "user_tz": -720
    },
    "id": "bGU-p5ybYoTW",
    "outputId": "4e60a265-52b6-44c7-b1fc-1e57157ad8c4"
   },
   "outputs": [
    {
     "name": "stdout",
     "output_type": "stream",
     "text": [
      "(0, 0)\n",
      "(0, 1)\n",
      "(0, 2)\n",
      "(1, 0)\n",
      "(1, 1)\n",
      "(1, 2)\n",
      "(2, 0)\n",
      "(2, 1)\n",
      "(2, 2)\n"
     ]
    }
   ],
   "source": [
    "#optional for changing grid specs\n",
    "gs = gridspec.GridSpec(2, 3)\n",
    "grid = itertools.product([0, 1, 2], repeat = 2)\n",
    "\n",
    "for grd in grid:\n",
    "  print(grd)\n",
    "\n",
    "#grid = [(0, 0),\n",
    "#        (0, 1),\n",
    "#        (0, 2),\n",
    "#        (1, 0),\n",
    "#        (1, 1),\n",
    "#        (1, 2)]"
   ]
  },
  {
   "cell_type": "markdown",
   "metadata": {
    "id": "p1DeDRwaplHP"
   },
   "source": [
    "The figure above shows the decision boundary of a decision tree and k-NN classifiers along with their bagging ensembles applied to the Iris dataset. The decision tree shows axes parallel boundaries while the $k=1$ nearest neighbors fits closely to the data points. The bagging ensembles were trained using $10$ base estimators with $0.8$ subsampling of training data and $0.8$ subsampling of features. The decision tree bagging ensemble achieved higher accuracy in comparison to k-NN bagging ensemble because k-NN are less sensitive to perturbation on training samples and therefore they are called *stable learners*. Combining stable learners is less advantageous since the ensemble will not help improve generalization performance."
   ]
  },
  {
   "cell_type": "code",
   "execution_count": 18,
   "metadata": {
    "colab": {
     "base_uri": "https://localhost:8080/",
     "height": 453
    },
    "executionInfo": {
     "elapsed": 1282,
     "status": "ok",
     "timestamp": 1716972242529,
     "user": {
      "displayName": "Samuel Hambling",
      "userId": "16671324372129903179"
     },
     "user_tz": -720
    },
    "id": "pK_7GpRXplHQ",
    "outputId": "fa32dd18-c9bf-43df-a640-931eee9f550b"
   },
   "outputs": [
    {
     "ename": "NameError",
     "evalue": "name 'plot_learning_curves' is not defined",
     "output_type": "error",
     "traceback": [
      "\u001b[1;31m---------------------------------------------------------------------------\u001b[0m",
      "\u001b[1;31mNameError\u001b[0m                                 Traceback (most recent call last)",
      "Cell \u001b[1;32mIn[18], line 6\u001b[0m\n\u001b[0;32m      3\u001b[0m X_train, X_test, y_train, y_test \u001b[38;5;241m=\u001b[39m train_test_split(X, y, test_size \u001b[38;5;241m=\u001b[39m \u001b[38;5;241m0.3\u001b[39m)\n\u001b[0;32m      5\u001b[0m plt\u001b[38;5;241m.\u001b[39mfigure()\n\u001b[1;32m----> 6\u001b[0m plot_learning_curves(X_train, y_train, X_test, y_test, bagging1, print_model \u001b[38;5;241m=\u001b[39m \u001b[38;5;28;01mFalse\u001b[39;00m, style \u001b[38;5;241m=\u001b[39m \u001b[38;5;124m'\u001b[39m\u001b[38;5;124mggplot\u001b[39m\u001b[38;5;124m'\u001b[39m)\n\u001b[0;32m      7\u001b[0m plt\u001b[38;5;241m.\u001b[39mshow()\n",
      "\u001b[1;31mNameError\u001b[0m: name 'plot_learning_curves' is not defined"
     ]
    },
    {
     "data": {
      "text/plain": [
       "<Figure size 640x480 with 0 Axes>"
      ]
     },
     "metadata": {},
     "output_type": "display_data"
    }
   ],
   "source": [
    "# plot learning curves\n",
    "np.random.seed(2534)\n",
    "X_train, X_test, y_train, y_test = train_test_split(X, y, test_size = 0.3)\n",
    "\n",
    "plt.figure()\n",
    "plot_learning_curves(X_train, y_train, X_test, y_test, bagging1, print_model = False, style = 'ggplot')\n",
    "plt.show()"
   ]
  },
  {
   "cell_type": "markdown",
   "metadata": {
    "id": "yPfsHs-FplHm"
   },
   "source": [
    "The figure above shows learning curves for the bagging tree ensemble. We can see an average error of $0.3$ on the training data and a U-shaped error curve for the testing data. The smallest gap between training and test errors occurs at around $80\\%$ of the training set size."
   ]
  },
  {
   "cell_type": "code",
   "execution_count": 20,
   "metadata": {
    "colab": {
     "base_uri": "https://localhost:8080/"
    },
    "executionInfo": {
     "elapsed": 440,
     "status": "ok",
     "timestamp": 1716972322774,
     "user": {
      "displayName": "Samuel Hambling",
      "userId": "16671324372129903179"
     },
     "user_tz": -720
    },
    "id": "WEqKOdF8bWWt",
    "outputId": "a7ed0d9a-c6d1-4073-8cb4-8d6177055675"
   },
   "outputs": [
    {
     "data": {
      "text/plain": [
       "array([  1,   6,  11,  16,  21,  27,  32,  37,  42,  47,  53,  58,  63,\n",
       "        68,  73,  79,  84,  89,  94, 100], dtype=int8)"
      ]
     },
     "execution_count": 20,
     "metadata": {},
     "output_type": "execute_result"
    }
   ],
   "source": [
    "num_est = np.linspace(1, 100, 20, dtype = np.int8)\n",
    "num_est"
   ]
  },
  {
   "cell_type": "code",
   "execution_count": 22,
   "metadata": {
    "id": "45RUq53gplHo"
   },
   "outputs": [],
   "source": [
    "# Ensemble Size\n",
    "num_est = np.linspace(1, 100, 20, dtype = np.int8)\n",
    "\n",
    "np.random.seed(2534)\n",
    "\n",
    "bg_clf_cv_mean = []\n",
    "bg_clf_cv_std = []\n",
    "for n_est in num_est:\n",
    "    bg_clf = BaggingClassifier(\n",
    "        estimator = clf1,\n",
    "        n_estimators = n_est,\n",
    "        max_samples = 0.8,\n",
    "        max_features = 0.8)\n",
    "    scores = cross_val_score(bg_clf, X, y, cv = 3, scoring = 'accuracy')\n",
    "    bg_clf_cv_mean.append(scores.mean())\n",
    "    bg_clf_cv_std.append(scores.std())"
   ]
  },
  {
   "cell_type": "code",
   "execution_count": 23,
   "metadata": {
    "colab": {
     "base_uri": "https://localhost:8080/",
     "height": 472
    },
    "executionInfo": {
     "elapsed": 443,
     "status": "ok",
     "timestamp": 1716972339448,
     "user": {
      "displayName": "Samuel Hambling",
      "userId": "16671324372129903179"
     },
     "user_tz": -720
    },
    "id": "dHoCjSX6plH3",
    "outputId": "909cd948-6244-4e66-8df1-67bb106ed320"
   },
   "outputs": [
    {
     "data": {
      "image/png": "[encoded data removed]",
      "text/plain": [
       "<Figure size 640x480 with 1 Axes>"
      ]
     },
     "metadata": {},
     "output_type": "display_data"
    }
   ],
   "source": [
    "plt.figure()\n",
    "(_, caps, _) = plt.errorbar(\n",
    "    num_est,\n",
    "    bg_clf_cv_mean,\n",
    "    yerr = bg_clf_cv_std,\n",
    "    c = 'blue',\n",
    "    fmt = '-o',\n",
    "    capsize = 5)\n",
    "\n",
    "for cap in caps:\n",
    "    cap.set_markeredgewidth(1)\n",
    "\n",
    "plt.title('Bagging Tree Ensemble')\n",
    "plt.ylabel('Accuracy')\n",
    "plt.xlabel('Ensemble Size')\n",
    "plt.show()"
   ]
  },
  {
   "cell_type": "markdown",
   "metadata": {
    "id": "0yToJAOIplI7"
   },
   "source": [
    "The figure above shows how the test accuracy improves with the size of the ensemble. Based on cross-validation results, we can see the accuracy increases until approximately $10$ base estimators and then plateaus afterwards. Thus, adding base estimators beyond $10$ only increases computational complexity without accuracy gains for the Iris dataset.\n",
    "\n",
    "A commonly used class of ensemble algorithms are forests of randomized trees. In **random forests**, each tree in the ensemble is built from a sample drawn with replacement (i.e. a bootstrap sample) from the training set. In addition, instead of using all the features, a random subset of features is selected further randomizing the tree. As a result, the bias of the forest increases slightly but due to averaging of less correlated trees, its variance decreases resulting in an overall better model.\n",
    "\n",
    "In **extremely randomized trees** algorithm randomness goes one step further: the splitting thresholds are randomized. Instead of looking for the most discriminative threshold, thresholds are drawn at random for each candidate feature and the best of these randomly-generated thresholds is picked as the splitting rule. This usually allows to reduce the variance of the model a bit more, at the expense of a slightly greater increase in bias."
   ]
  },
  {
   "cell_type": "markdown",
   "metadata": {
    "id": "RERADKgNFq9T"
   },
   "source": [
    "\n",
    "\n",
    "---\n",
    "\n",
    "\n",
    "\n",
    "---\n",
    "\n",
    "\n",
    "\n",
    "> > > > > > > > > © 2024 Institute of Data\n",
    "\n",
    "\n",
    "---\n",
    "\n",
    "\n",
    "\n",
    "---\n",
    "\n",
    "\n",
    "\n"
   ]
  }
 ],
 "metadata": {
  "colab": {
   "provenance": []
  },
  "kernelspec": {
   "display_name": "Python 3 (ipykernel)",
   "language": "python",
   "name": "python3"
  },
  "language_info": {
   "codemirror_mode": {
    "name": "ipython",
    "version": 3
   },
   "file_extension": ".py",
   "mimetype": "text/x-python",
   "name": "python",
   "nbconvert_exporter": "python",
   "pygments_lexer": "ipython3",
   "version": "3.12.4"
  }
 },
 "nbformat": 4,
 "nbformat_minor": 4
}
